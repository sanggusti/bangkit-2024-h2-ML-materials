{
  "nbformat": 4,
  "nbformat_minor": 0,
  "metadata": {
    "colab": {
      "provenance": [],
      "collapsed_sections": [
        "2A_xK5CkiPcx"
      ],
      "include_colab_link": true
    },
    "kernelspec": {
      "name": "python3",
      "display_name": "Python 3"
    },
    "language_info": {
      "name": "python"
    }
  },
  "cells": [
    {
      "cell_type": "markdown",
      "metadata": {
        "id": "view-in-github",
        "colab_type": "text"
      },
      "source": [
        "<a href=\"https://colab.research.google.com/github/sanggusti/bangkit-2024-h2-ML-materials/blob/feat%2Filt1/Demo_ILT_1_Machine_Learning_(2024_H2)_Lets_Play_with_Python.ipynb\" target=\"_parent\"><img src=\"https://colab.research.google.com/assets/colab-badge.svg\" alt=\"Open In Colab\"/></a>"
      ]
    },
    {
      "cell_type": "markdown",
      "source": [
        "# Introduction to  Python\n"
      ],
      "metadata": {
        "id": "ApHE4w8GU_ep"
      }
    },
    {
      "cell_type": "markdown",
      "source": [
        "## Hello World in Python"
      ],
      "metadata": {
        "id": "vHzt87DYXZMq"
      }
    },
    {
      "cell_type": "markdown",
      "source": [
        "**What is Python?**\n",
        "\n",
        "Python is a dynamic, interpreted (bytecode-compiled) language.\n",
        "\n",
        "**Why programming with Python?**\n",
        "* Easy syntax\n",
        "* Most chosen language for IT\n",
        "* Omnipresent\n",
        "* Versatile\n",
        "\n"
      ],
      "metadata": {
        "id": "lqot9q8IYTjE"
      }
    },
    {
      "cell_type": "code",
      "source": [
        "# Check an installed Python\n",
        "! python --version"
      ],
      "metadata": {
        "colab": {
          "base_uri": "https://localhost:8080/"
        },
        "id": "h2TaBzGjXfrn",
        "outputId": "28fd6801-27cc-4c08-cfc5-53b14699bc4a"
      },
      "execution_count": null,
      "outputs": [
        {
          "output_type": "stream",
          "name": "stdout",
          "text": [
            "Python 3.10.12\n"
          ]
        }
      ]
    },
    {
      "cell_type": "code",
      "source": [
        "! python3 -V"
      ],
      "metadata": {
        "colab": {
          "base_uri": "https://localhost:8080/"
        },
        "id": "b8LyoN3i7xla",
        "outputId": "dfabf2e8-6ddd-433b-c8a7-82c3d796b71a"
      },
      "execution_count": null,
      "outputs": [
        {
          "output_type": "stream",
          "name": "stdout",
          "text": [
            "Python 3.10.12\n"
          ]
        }
      ]
    },
    {
      "cell_type": "code",
      "execution_count": null,
      "metadata": {
        "colab": {
          "base_uri": "https://localhost:8080/"
        },
        "id": "JCHI9CDAUPnk",
        "outputId": "aec202a2-8adc-4fe2-8fd2-0788cc1c4f0c"
      },
      "outputs": [
        {
          "output_type": "stream",
          "name": "stdout",
          "text": [
            "hello, bangkit!\n"
          ]
        }
      ],
      "source": [
        "print('hello, bangkit!')"
      ]
    },
    {
      "cell_type": "markdown",
      "source": [
        "## Basic Python Syntax"
      ],
      "metadata": {
        "id": "388VwBZmYPs0"
      }
    },
    {
      "cell_type": "markdown",
      "source": [
        "### Data Types\n",
        "\n",
        "* **String** (str): text.\n",
        "* **Integer** (int): numbers, without fraction.\n",
        "* **Float**: numbers with fraction.\n",
        "* **Boolean** (bool): data type which only has 2 values\n",
        "\n",
        "We can convert from one data type to others by committing to implicit conversion or defining an explicit conversion.\n"
      ],
      "metadata": {
        "id": "hRw-NPjcZVVe"
      }
    },
    {
      "cell_type": "code",
      "source": [
        "# Convert String to Integer\n",
        "phone = \"895444333558\"\n",
        "print(type(phone))\n",
        "\n",
        "phone = int(phone)\n",
        "print(type(phone))"
      ],
      "metadata": {
        "colab": {
          "base_uri": "https://localhost:8080/"
        },
        "id": "Ajb8ZM3qRJNy",
        "outputId": "da632648-c59c-44ea-a603-ca67f8a9dce0"
      },
      "execution_count": null,
      "outputs": [
        {
          "output_type": "stream",
          "name": "stdout",
          "text": [
            "<class 'str'>\n",
            "<class 'int'>\n"
          ]
        }
      ]
    },
    {
      "cell_type": "markdown",
      "source": [
        "### Variables\n",
        "* Name to certain values\n",
        "* The values can be any data type\n",
        "* The process of storing a value inside a variable is called an assignment.\n",
        "* Can only be made up of letters, numbers, and underscore.\n",
        "* Can’t be Python reserved keywords."
      ],
      "metadata": {
        "id": "M_oidvqRbwPX"
      }
    },
    {
      "cell_type": "code",
      "source": [
        "# String (str)\n",
        "color = \"red\"\n",
        "print(type(color))"
      ],
      "metadata": {
        "colab": {
          "base_uri": "https://localhost:8080/"
        },
        "id": "pd6sULeYYFVm",
        "outputId": "7270682b-020a-4faa-b1cb-022738e627dd"
      },
      "execution_count": null,
      "outputs": [
        {
          "output_type": "stream",
          "name": "stdout",
          "text": [
            "<class 'str'>\n"
          ]
        }
      ]
    },
    {
      "cell_type": "code",
      "source": [
        "# Integer (int)\n",
        "length = 10\n",
        "print(type(length))"
      ],
      "metadata": {
        "colab": {
          "base_uri": "https://localhost:8080/"
        },
        "id": "dnWjuU5VayEf",
        "outputId": "1e207800-194c-4001-dd2d-ee4659b82486"
      },
      "execution_count": null,
      "outputs": [
        {
          "output_type": "stream",
          "name": "stdout",
          "text": [
            "<class 'int'>\n"
          ]
        }
      ]
    },
    {
      "cell_type": "code",
      "source": [
        "# Float\n",
        "width = 2.0\n",
        "print(type(width))"
      ],
      "metadata": {
        "colab": {
          "base_uri": "https://localhost:8080/"
        },
        "id": "5m38VmsTbCk0",
        "outputId": "b3fc874f-a701-41c8-aacf-50b4a04dcb1d"
      },
      "execution_count": null,
      "outputs": [
        {
          "output_type": "stream",
          "name": "stdout",
          "text": [
            "<class 'float'>\n"
          ]
        }
      ]
    },
    {
      "cell_type": "code",
      "source": [
        "print(type(int(width)))"
      ],
      "metadata": {
        "colab": {
          "base_uri": "https://localhost:8080/"
        },
        "id": "b3mU-O3CbOCG",
        "outputId": "05484842-6526-468c-c7c6-c8c902a86877"
      },
      "execution_count": null,
      "outputs": [
        {
          "output_type": "stream",
          "name": "stdout",
          "text": [
            "<class 'int'>\n"
          ]
        }
      ]
    },
    {
      "cell_type": "markdown",
      "source": [
        "**Don't Do This**"
      ],
      "metadata": {
        "id": "K3E-I51FcUmB"
      }
    },
    {
      "cell_type": "code",
      "source": [
        "def = 'Function'\n",
        "class = 'Class'\n",
        "print(and)\n",
        "print(or)"
      ],
      "metadata": {
        "id": "dGftZ9LabgwV",
        "colab": {
          "base_uri": "https://localhost:8080/",
          "height": 111
        },
        "outputId": "2bbdfbba-0555-48e2-ad8a-6354f0887341"
      },
      "execution_count": null,
      "outputs": [
        {
          "output_type": "error",
          "ename": "SyntaxError",
          "evalue": "invalid syntax (<ipython-input-2-8ebbfd797da5>, line 1)",
          "traceback": [
            "\u001b[0;36m  File \u001b[0;32m\"<ipython-input-2-8ebbfd797da5>\"\u001b[0;36m, line \u001b[0;32m1\u001b[0m\n\u001b[0;31m    def = 'Function'\u001b[0m\n\u001b[0m        ^\u001b[0m\n\u001b[0;31mSyntaxError\u001b[0m\u001b[0;31m:\u001b[0m invalid syntax\n"
          ]
        }
      ]
    },
    {
      "cell_type": "markdown",
      "source": [
        "### Comparison\n",
        "* Boolean (bool) data type represents one of two possible states, either True or False.\n",
        "* Not all data types can be compared, so be aware to compare two different data types.\n",
        "* Comparison operator not only checking equality and less/more it also includes logical operator: and, or, not.\n"
      ],
      "metadata": {
        "id": "xYCEhaOlfbK0"
      }
    },
    {
      "cell_type": "markdown",
      "source": [
        "* Comparison operators\n",
        "  * a == b: a is equal to b\n",
        "  * a != b: a is different than b\n",
        "  * a < b: a is smaller than b\n",
        "  * a <= b: a is smaller or equal to b\n",
        "  * a > b: a is bigger than b\n",
        "  * a >= b: a is bigger or equal to b\n",
        "\n",
        "* Logical operators\n",
        "  * a and b: True if both a and b are True. False otherwise.\n",
        "  * a or b: True if either a or b or both are True. False if both are False.\n",
        "  * not a: True if a is False, False if a is True.\n"
      ],
      "metadata": {
        "id": "x79WDe4vf4Ve"
      }
    },
    {
      "cell_type": "code",
      "source": [
        "print(1 < 10)\n",
        "\n",
        "print(\"Linux\" == \"Windows\")\n",
        "\n",
        "print(1 != \"1\")\n",
        "\n",
        "print(not True)\n"
      ],
      "metadata": {
        "colab": {
          "base_uri": "https://localhost:8080/"
        },
        "id": "E5dQxPXMfnLZ",
        "outputId": "7abaafea-58b1-4ab6-ecd2-2ebe35c0a597"
      },
      "execution_count": null,
      "outputs": [
        {
          "output_type": "stream",
          "name": "stdout",
          "text": [
            "True\n",
            "False\n",
            "True\n",
            "False\n"
          ]
        }
      ]
    },
    {
      "cell_type": "markdown",
      "source": [
        "### Functions\n",
        "* Define function with def keyword.\n",
        "* Function has body, written as a block after colon in function definition. The block has indented to the right.\n",
        "* To get value from a function use the return keyword.\n"
      ],
      "metadata": {
        "id": "XyqGDWKNce5N"
      }
    },
    {
      "cell_type": "code",
      "source": [
        "def greeting(name):\n",
        "  return 'Hello, ' + name\n",
        "\n",
        "print(greeting(\"Bangkit 2024\"))"
      ],
      "metadata": {
        "colab": {
          "base_uri": "https://localhost:8080/"
        },
        "id": "-xDdDieMcaEv",
        "outputId": "7a1e44cb-2586-445d-fdf0-35088b27dd8c"
      },
      "execution_count": null,
      "outputs": [
        {
          "output_type": "stream",
          "name": "stdout",
          "text": [
            "Hello, Bangkit 2024\n"
          ]
        }
      ]
    },
    {
      "cell_type": "markdown",
      "source": [
        "### Conditional & If Statements\n",
        "* The ability of a program to alter its execution sequence is called branching.\n",
        "* The if block will be executed only if the condition is True.\n",
        "* Use elif & else statement to handle multiple conditions."
      ],
      "metadata": {
        "id": "DM6lel6hc_QH"
      }
    },
    {
      "cell_type": "code",
      "source": [
        "hour = 10\n",
        "if hour < 12:\n",
        "  print(\"Good morning!\")"
      ],
      "metadata": {
        "colab": {
          "base_uri": "https://localhost:8080/"
        },
        "id": "IwHO0YxSc2Hf",
        "outputId": "a3c7c342-4153-4daf-947a-dc1ddfdbf4d3"
      },
      "execution_count": null,
      "outputs": [
        {
          "output_type": "stream",
          "name": "stdout",
          "text": [
            "Good morning!\n"
          ]
        }
      ]
    },
    {
      "cell_type": "code",
      "source": [
        "def check(number):\n",
        "    if number > 0:\n",
        "        return \"Positive\"\n",
        "    elif number == 0:\n",
        "        return \"Zero\"\n",
        "    else:\n",
        "        return \"Negative\"\n",
        "\n",
        "print(check(10))"
      ],
      "metadata": {
        "colab": {
          "base_uri": "https://localhost:8080/"
        },
        "id": "ycVxi8cEdTyt",
        "outputId": "8c0282c6-5041-4b9e-cd07-dc10da8025db"
      },
      "execution_count": null,
      "outputs": [
        {
          "output_type": "stream",
          "name": "stdout",
          "text": [
            "Positive\n"
          ]
        }
      ]
    },
    {
      "cell_type": "markdown",
      "source": [
        "### Loops\n",
        "\n",
        "**while** loop instruct computer to continuously execute code based on the value of a condition.\n",
        "\n",
        "\n"
      ],
      "metadata": {
        "id": "EBeW3s6kgevL"
      }
    },
    {
      "cell_type": "code",
      "source": [
        "x = 7\n",
        "\n",
        "while x > 0:\n",
        "  print(\"positive x=\" + str(x))\n",
        "  x = x - 1\n",
        "  print(\"now x=\" + str(x))\n"
      ],
      "metadata": {
        "colab": {
          "base_uri": "https://localhost:8080/"
        },
        "id": "ZKXR6gZGfRI_",
        "outputId": "cc3cea0d-a98b-4f04-c7d1-522edec397ca"
      },
      "execution_count": null,
      "outputs": [
        {
          "output_type": "stream",
          "name": "stdout",
          "text": [
            "positive x=7\n",
            "now x=6\n",
            "positive x=6\n",
            "now x=5\n",
            "positive x=5\n",
            "now x=4\n",
            "positive x=4\n",
            "now x=3\n",
            "positive x=3\n",
            "now x=2\n",
            "positive x=2\n",
            "now x=1\n",
            "positive x=1\n",
            "now x=0\n"
          ]
        }
      ]
    },
    {
      "cell_type": "markdown",
      "source": [
        "**Warning** to avoid infinity loop like this"
      ],
      "metadata": {
        "id": "rFu7n3CJWpSa"
      }
    },
    {
      "cell_type": "code",
      "source": [
        "while x > 0:\n",
        "  print(\"positive x=\" + str(x))\n",
        "  x = x + 1 # Wrong conditions\n",
        "  print(\"now x=\" + str(x))"
      ],
      "metadata": {
        "colab": {
          "base_uri": "https://localhost:8080/",
          "height": 1000
        },
        "id": "Omf8QboTW1GD",
        "outputId": "b365b5e2-82e7-462f-82aa-0bc24db0bc62"
      },
      "execution_count": null,
      "outputs": [
        {
          "output_type": "stream",
          "name": "stdout",
          "text": [
            "\u001b[1;30;43mStreaming output truncated to the last 5000 lines.\u001b[0m\n",
            "now x=43326\n",
            "positive x=43326\n",
            "now x=43327\n",
            "positive x=43327\n",
            "now x=43328\n",
            "positive x=43328\n",
            "now x=43329\n",
            "positive x=43329\n",
            "now x=43330\n",
            "positive x=43330\n",
            "now x=43331\n",
            "positive x=43331\n",
            "now x=43332\n",
            "positive x=43332\n",
            "now x=43333\n",
            "positive x=43333\n",
            "now x=43334\n",
            "positive x=43334\n",
            "now x=43335\n",
            "positive x=43335\n",
            "now x=43336\n",
            "positive x=43336\n",
            "now x=43337\n",
            "positive x=43337\n",
            "now x=43338\n",
            "positive x=43338\n",
            "now x=43339\n",
            "positive x=43339\n",
            "now x=43340\n",
            "positive x=43340\n",
            "now x=43341\n",
            "positive x=43341\n",
            "now x=43342\n",
            "positive x=43342\n",
            "now x=43343\n",
            "positive x=43343\n",
            "now x=43344\n",
            "positive x=43344\n",
            "now x=43345\n",
            "positive x=43345\n",
            "now x=43346\n",
            "positive x=43346\n",
            "now x=43347\n",
            "positive x=43347\n",
            "now x=43348\n",
            "positive x=43348\n",
            "now x=43349\n",
            "positive x=43349\n",
            "now x=43350\n",
            "positive x=43350\n",
            "now x=43351\n",
            "positive x=43351\n",
            "now x=43352\n",
            "positive x=43352\n",
            "now x=43353\n",
            "positive x=43353\n",
            "now x=43354\n",
            "positive x=43354\n",
            "now x=43355\n",
            "positive x=43355\n",
            "now x=43356\n",
            "positive x=43356\n",
            "now x=43357\n",
            "positive x=43357\n",
            "now x=43358\n",
            "positive x=43358\n",
            "now x=43359\n",
            "positive x=43359\n",
            "now x=43360\n",
            "positive x=43360\n",
            "now x=43361\n",
            "positive x=43361\n",
            "now x=43362\n",
            "positive x=43362\n",
            "now x=43363\n",
            "positive x=43363\n",
            "now x=43364\n",
            "positive x=43364\n",
            "now x=43365\n",
            "positive x=43365\n",
            "now x=43366\n",
            "positive x=43366\n",
            "now x=43367\n",
            "positive x=43367\n",
            "now x=43368\n",
            "positive x=43368\n",
            "now x=43369\n",
            "positive x=43369\n",
            "now x=43370\n",
            "positive x=43370\n",
            "now x=43371\n",
            "positive x=43371\n",
            "now x=43372\n",
            "positive x=43372\n",
            "now x=43373\n",
            "positive x=43373\n",
            "now x=43374\n",
            "positive x=43374\n",
            "now x=43375\n",
            "positive x=43375\n",
            "now x=43376\n",
            "positive x=43376\n",
            "now x=43377\n",
            "positive x=43377\n",
            "now x=43378\n",
            "positive x=43378\n",
            "now x=43379\n",
            "positive x=43379\n",
            "now x=43380\n",
            "positive x=43380\n",
            "now x=43381\n",
            "positive x=43381\n",
            "now x=43382\n",
            "positive x=43382\n",
            "now x=43383\n",
            "positive x=43383\n",
            "now x=43384\n",
            "positive x=43384\n",
            "now x=43385\n",
            "positive x=43385\n",
            "now x=43386\n",
            "positive x=43386\n",
            "now x=43387\n",
            "positive x=43387\n",
            "now x=43388\n",
            "positive x=43388\n",
            "now x=43389\n",
            "positive x=43389\n",
            "now x=43390\n",
            "positive x=43390\n",
            "now x=43391\n",
            "positive x=43391\n",
            "now x=43392\n",
            "positive x=43392\n",
            "now x=43393\n",
            "positive x=43393\n",
            "now x=43394\n",
            "positive x=43394\n",
            "now x=43395\n",
            "positive x=43395\n",
            "now x=43396\n",
            "positive x=43396\n",
            "now x=43397\n",
            "positive x=43397\n",
            "now x=43398\n",
            "positive x=43398\n",
            "now x=43399\n",
            "positive x=43399\n",
            "now x=43400\n",
            "positive x=43400\n",
            "now x=43401\n",
            "positive x=43401\n",
            "now x=43402\n",
            "positive x=43402\n",
            "now x=43403\n",
            "positive x=43403\n",
            "now x=43404\n",
            "positive x=43404\n",
            "now x=43405\n",
            "positive x=43405\n",
            "now x=43406\n",
            "positive x=43406\n",
            "now x=43407\n",
            "positive x=43407\n",
            "now x=43408\n",
            "positive x=43408\n",
            "now x=43409\n",
            "positive x=43409\n",
            "now x=43410\n",
            "positive x=43410\n",
            "now x=43411\n",
            "positive x=43411\n",
            "now x=43412\n",
            "positive x=43412\n",
            "now x=43413\n",
            "positive x=43413\n",
            "now x=43414\n",
            "positive x=43414\n",
            "now x=43415\n",
            "positive x=43415\n",
            "now x=43416\n",
            "positive x=43416\n",
            "now x=43417\n",
            "positive x=43417\n",
            "now x=43418\n",
            "positive x=43418\n",
            "now x=43419\n",
            "positive x=43419\n",
            "now x=43420\n",
            "positive x=43420\n",
            "now x=43421\n",
            "positive x=43421\n",
            "now x=43422\n",
            "positive x=43422\n",
            "now x=43423\n",
            "positive x=43423\n",
            "now x=43424\n",
            "positive x=43424\n",
            "now x=43425\n",
            "positive x=43425\n",
            "now x=43426\n",
            "positive x=43426\n",
            "now x=43427\n",
            "positive x=43427\n",
            "now x=43428\n",
            "positive x=43428\n",
            "now x=43429\n",
            "positive x=43429\n",
            "now x=43430\n",
            "positive x=43430\n",
            "now x=43431\n",
            "positive x=43431\n",
            "now x=43432\n",
            "positive x=43432\n",
            "now x=43433\n",
            "positive x=43433\n",
            "now x=43434\n",
            "positive x=43434\n",
            "now x=43435\n",
            "positive x=43435\n",
            "now x=43436\n",
            "positive x=43436\n",
            "now x=43437\n",
            "positive x=43437\n",
            "now x=43438\n",
            "positive x=43438\n",
            "now x=43439\n",
            "positive x=43439\n",
            "now x=43440\n",
            "positive x=43440\n",
            "now x=43441\n",
            "positive x=43441\n",
            "now x=43442\n",
            "positive x=43442\n",
            "now x=43443\n",
            "positive x=43443\n",
            "now x=43444\n",
            "positive x=43444\n",
            "now x=43445\n",
            "positive x=43445\n",
            "now x=43446\n",
            "positive x=43446\n",
            "now x=43447\n",
            "positive x=43447\n",
            "now x=43448\n",
            "positive x=43448\n",
            "now x=43449\n",
            "positive x=43449\n",
            "now x=43450\n",
            "positive x=43450\n",
            "now x=43451\n",
            "positive x=43451\n",
            "now x=43452\n",
            "positive x=43452\n",
            "now x=43453\n",
            "positive x=43453\n",
            "now x=43454\n",
            "positive x=43454\n",
            "now x=43455\n",
            "positive x=43455\n",
            "now x=43456\n",
            "positive x=43456\n",
            "now x=43457\n",
            "positive x=43457\n",
            "now x=43458\n",
            "positive x=43458\n",
            "now x=43459\n",
            "positive x=43459\n",
            "now x=43460\n",
            "positive x=43460\n",
            "now x=43461\n",
            "positive x=43461\n",
            "now x=43462\n",
            "positive x=43462\n",
            "now x=43463\n",
            "positive x=43463\n",
            "now x=43464\n",
            "positive x=43464\n",
            "now x=43465\n",
            "positive x=43465\n",
            "now x=43466\n",
            "positive x=43466\n",
            "now x=43467\n",
            "positive x=43467\n",
            "now x=43468\n",
            "positive x=43468\n",
            "now x=43469\n",
            "positive x=43469\n",
            "now x=43470\n",
            "positive x=43470\n",
            "now x=43471\n",
            "positive x=43471\n",
            "now x=43472\n",
            "positive x=43472\n",
            "now x=43473\n",
            "positive x=43473\n",
            "now x=43474\n",
            "positive x=43474\n",
            "now x=43475\n",
            "positive x=43475\n",
            "now x=43476\n",
            "positive x=43476\n",
            "now x=43477\n",
            "positive x=43477\n",
            "now x=43478\n",
            "positive x=43478\n",
            "now x=43479\n",
            "positive x=43479\n",
            "now x=43480\n",
            "positive x=43480\n",
            "now x=43481\n",
            "positive x=43481\n",
            "now x=43482\n",
            "positive x=43482\n",
            "now x=43483\n",
            "positive x=43483\n",
            "now x=43484\n",
            "positive x=43484\n",
            "now x=43485\n",
            "positive x=43485\n",
            "now x=43486\n",
            "positive x=43486\n",
            "now x=43487\n",
            "positive x=43487\n",
            "now x=43488\n",
            "positive x=43488\n",
            "now x=43489\n",
            "positive x=43489\n",
            "now x=43490\n",
            "positive x=43490\n",
            "now x=43491\n",
            "positive x=43491\n",
            "now x=43492\n",
            "positive x=43492\n",
            "now x=43493\n",
            "positive x=43493\n",
            "now x=43494\n",
            "positive x=43494\n",
            "now x=43495\n",
            "positive x=43495\n",
            "now x=43496\n",
            "positive x=43496\n",
            "now x=43497\n",
            "positive x=43497\n",
            "now x=43498\n",
            "positive x=43498\n",
            "now x=43499\n",
            "positive x=43499\n",
            "now x=43500\n",
            "positive x=43500\n",
            "now x=43501\n",
            "positive x=43501\n",
            "now x=43502\n",
            "positive x=43502\n",
            "now x=43503\n",
            "positive x=43503\n",
            "now x=43504\n",
            "positive x=43504\n",
            "now x=43505\n",
            "positive x=43505\n",
            "now x=43506\n",
            "positive x=43506\n",
            "now x=43507\n",
            "positive x=43507\n",
            "now x=43508\n",
            "positive x=43508\n",
            "now x=43509\n",
            "positive x=43509\n",
            "now x=43510\n",
            "positive x=43510\n",
            "now x=43511\n",
            "positive x=43511\n",
            "now x=43512\n",
            "positive x=43512\n",
            "now x=43513\n",
            "positive x=43513\n",
            "now x=43514\n",
            "positive x=43514\n",
            "now x=43515\n",
            "positive x=43515\n",
            "now x=43516\n",
            "positive x=43516\n",
            "now x=43517\n",
            "positive x=43517\n",
            "now x=43518\n",
            "positive x=43518\n",
            "now x=43519\n",
            "positive x=43519\n",
            "now x=43520\n",
            "positive x=43520\n",
            "now x=43521\n",
            "positive x=43521\n",
            "now x=43522\n",
            "positive x=43522\n",
            "now x=43523\n",
            "positive x=43523\n",
            "now x=43524\n",
            "positive x=43524\n",
            "now x=43525\n",
            "positive x=43525\n",
            "now x=43526\n",
            "positive x=43526\n",
            "now x=43527\n",
            "positive x=43527\n",
            "now x=43528\n",
            "positive x=43528\n",
            "now x=43529\n",
            "positive x=43529\n",
            "now x=43530\n",
            "positive x=43530\n",
            "now x=43531\n",
            "positive x=43531\n",
            "now x=43532\n",
            "positive x=43532\n",
            "now x=43533\n",
            "positive x=43533\n",
            "now x=43534\n",
            "positive x=43534\n",
            "now x=43535\n",
            "positive x=43535\n",
            "now x=43536\n",
            "positive x=43536\n",
            "now x=43537\n",
            "positive x=43537\n",
            "now x=43538\n",
            "positive x=43538\n",
            "now x=43539\n",
            "positive x=43539\n",
            "now x=43540\n",
            "positive x=43540\n",
            "now x=43541\n",
            "positive x=43541\n",
            "now x=43542\n",
            "positive x=43542\n",
            "now x=43543\n",
            "positive x=43543\n",
            "now x=43544\n",
            "positive x=43544\n",
            "now x=43545\n",
            "positive x=43545\n",
            "now x=43546\n",
            "positive x=43546\n",
            "now x=43547\n",
            "positive x=43547\n",
            "now x=43548\n",
            "positive x=43548\n",
            "now x=43549\n",
            "positive x=43549\n",
            "now x=43550\n",
            "positive x=43550\n",
            "now x=43551\n",
            "positive x=43551\n",
            "now x=43552\n",
            "positive x=43552\n",
            "now x=43553\n",
            "positive x=43553\n",
            "now x=43554\n",
            "positive x=43554\n",
            "now x=43555\n",
            "positive x=43555\n",
            "now x=43556\n",
            "positive x=43556\n",
            "now x=43557\n",
            "positive x=43557\n",
            "now x=43558\n",
            "positive x=43558\n",
            "now x=43559\n",
            "positive x=43559\n",
            "now x=43560\n",
            "positive x=43560\n",
            "now x=43561\n",
            "positive x=43561\n",
            "now x=43562\n",
            "positive x=43562\n",
            "now x=43563\n",
            "positive x=43563\n",
            "now x=43564\n",
            "positive x=43564\n",
            "now x=43565\n",
            "positive x=43565\n",
            "now x=43566\n",
            "positive x=43566\n",
            "now x=43567\n",
            "positive x=43567\n",
            "now x=43568\n",
            "positive x=43568\n",
            "now x=43569\n",
            "positive x=43569\n",
            "now x=43570\n",
            "positive x=43570\n",
            "now x=43571\n",
            "positive x=43571\n",
            "now x=43572\n",
            "positive x=43572\n",
            "now x=43573\n",
            "positive x=43573\n",
            "now x=43574\n",
            "positive x=43574\n",
            "now x=43575\n",
            "positive x=43575\n",
            "now x=43576\n",
            "positive x=43576\n",
            "now x=43577\n",
            "positive x=43577\n",
            "now x=43578\n",
            "positive x=43578\n",
            "now x=43579\n",
            "positive x=43579\n",
            "now x=43580\n",
            "positive x=43580\n",
            "now x=43581\n",
            "positive x=43581\n",
            "now x=43582\n",
            "positive x=43582\n",
            "now x=43583\n",
            "positive x=43583\n",
            "now x=43584\n",
            "positive x=43584\n",
            "now x=43585\n",
            "positive x=43585\n",
            "now x=43586\n",
            "positive x=43586\n",
            "now x=43587\n",
            "positive x=43587\n",
            "now x=43588\n",
            "positive x=43588\n",
            "now x=43589\n",
            "positive x=43589\n",
            "now x=43590\n",
            "positive x=43590\n",
            "now x=43591\n",
            "positive x=43591\n",
            "now x=43592\n",
            "positive x=43592\n",
            "now x=43593\n",
            "positive x=43593\n",
            "now x=43594\n",
            "positive x=43594\n",
            "now x=43595\n",
            "positive x=43595\n",
            "now x=43596\n",
            "positive x=43596\n",
            "now x=43597\n",
            "positive x=43597\n",
            "now x=43598\n",
            "positive x=43598\n",
            "now x=43599\n",
            "positive x=43599\n",
            "now x=43600\n",
            "positive x=43600\n",
            "now x=43601\n",
            "positive x=43601\n",
            "now x=43602\n",
            "positive x=43602\n",
            "now x=43603\n",
            "positive x=43603\n",
            "now x=43604\n",
            "positive x=43604\n",
            "now x=43605\n",
            "positive x=43605\n",
            "now x=43606\n",
            "positive x=43606\n",
            "now x=43607\n",
            "positive x=43607\n",
            "now x=43608\n",
            "positive x=43608\n",
            "now x=43609\n",
            "positive x=43609\n",
            "now x=43610\n",
            "positive x=43610\n",
            "now x=43611\n",
            "positive x=43611\n",
            "now x=43612\n",
            "positive x=43612\n",
            "now x=43613\n",
            "positive x=43613\n",
            "now x=43614\n",
            "positive x=43614\n",
            "now x=43615\n",
            "positive x=43615\n",
            "now x=43616\n",
            "positive x=43616\n",
            "now x=43617\n",
            "positive x=43617\n",
            "now x=43618\n",
            "positive x=43618\n",
            "now x=43619\n",
            "positive x=43619\n",
            "now x=43620\n",
            "positive x=43620\n",
            "now x=43621\n",
            "positive x=43621\n",
            "now x=43622\n",
            "positive x=43622\n",
            "now x=43623\n",
            "positive x=43623\n",
            "now x=43624\n",
            "positive x=43624\n",
            "now x=43625\n",
            "positive x=43625\n",
            "now x=43626\n",
            "positive x=43626\n",
            "now x=43627\n",
            "positive x=43627\n",
            "now x=43628\n",
            "positive x=43628\n",
            "now x=43629\n",
            "positive x=43629\n",
            "now x=43630\n",
            "positive x=43630\n",
            "now x=43631\n",
            "positive x=43631\n",
            "now x=43632\n",
            "positive x=43632\n",
            "now x=43633\n",
            "positive x=43633\n",
            "now x=43634\n",
            "positive x=43634\n",
            "now x=43635\n",
            "positive x=43635\n",
            "now x=43636\n",
            "positive x=43636\n",
            "now x=43637\n",
            "positive x=43637\n",
            "now x=43638\n",
            "positive x=43638\n",
            "now x=43639\n",
            "positive x=43639\n",
            "now x=43640\n",
            "positive x=43640\n",
            "now x=43641\n",
            "positive x=43641\n",
            "now x=43642\n",
            "positive x=43642\n",
            "now x=43643\n",
            "positive x=43643\n",
            "now x=43644\n",
            "positive x=43644\n",
            "now x=43645\n",
            "positive x=43645\n",
            "now x=43646\n",
            "positive x=43646\n",
            "now x=43647\n",
            "positive x=43647\n",
            "now x=43648\n",
            "positive x=43648\n",
            "now x=43649\n",
            "positive x=43649\n",
            "now x=43650\n",
            "positive x=43650\n",
            "now x=43651\n",
            "positive x=43651\n",
            "now x=43652\n",
            "positive x=43652\n",
            "now x=43653\n",
            "positive x=43653\n",
            "now x=43654\n",
            "positive x=43654\n",
            "now x=43655\n",
            "positive x=43655\n",
            "now x=43656\n",
            "positive x=43656\n",
            "now x=43657\n",
            "positive x=43657\n",
            "now x=43658\n",
            "positive x=43658\n",
            "now x=43659\n",
            "positive x=43659\n",
            "now x=43660\n",
            "positive x=43660\n",
            "now x=43661\n",
            "positive x=43661\n",
            "now x=43662\n",
            "positive x=43662\n",
            "now x=43663\n",
            "positive x=43663\n",
            "now x=43664\n",
            "positive x=43664\n",
            "now x=43665\n",
            "positive x=43665\n",
            "now x=43666\n",
            "positive x=43666\n",
            "now x=43667\n",
            "positive x=43667\n",
            "now x=43668\n",
            "positive x=43668\n",
            "now x=43669\n",
            "positive x=43669\n",
            "now x=43670\n",
            "positive x=43670\n",
            "now x=43671\n",
            "positive x=43671\n",
            "now x=43672\n",
            "positive x=43672\n",
            "now x=43673\n",
            "positive x=43673\n",
            "now x=43674\n",
            "positive x=43674\n",
            "now x=43675\n",
            "positive x=43675\n",
            "now x=43676\n",
            "positive x=43676\n",
            "now x=43677\n",
            "positive x=43677\n",
            "now x=43678\n",
            "positive x=43678\n",
            "now x=43679\n",
            "positive x=43679\n",
            "now x=43680\n",
            "positive x=43680\n",
            "now x=43681\n",
            "positive x=43681\n",
            "now x=43682\n",
            "positive x=43682\n",
            "now x=43683\n",
            "positive x=43683\n",
            "now x=43684\n",
            "positive x=43684\n",
            "now x=43685\n",
            "positive x=43685\n",
            "now x=43686\n",
            "positive x=43686\n",
            "now x=43687\n",
            "positive x=43687\n",
            "now x=43688\n",
            "positive x=43688\n",
            "now x=43689\n",
            "positive x=43689\n",
            "now x=43690\n",
            "positive x=43690\n",
            "now x=43691\n",
            "positive x=43691\n",
            "now x=43692\n",
            "positive x=43692\n",
            "now x=43693\n",
            "positive x=43693\n",
            "now x=43694\n",
            "positive x=43694\n",
            "now x=43695\n",
            "positive x=43695\n",
            "now x=43696\n",
            "positive x=43696\n",
            "now x=43697\n",
            "positive x=43697\n",
            "now x=43698\n",
            "positive x=43698\n",
            "now x=43699\n",
            "positive x=43699\n",
            "now x=43700\n",
            "positive x=43700\n",
            "now x=43701\n",
            "positive x=43701\n",
            "now x=43702\n",
            "positive x=43702\n",
            "now x=43703\n",
            "positive x=43703\n",
            "now x=43704\n",
            "positive x=43704\n",
            "now x=43705\n",
            "positive x=43705\n",
            "now x=43706\n",
            "positive x=43706\n",
            "now x=43707\n",
            "positive x=43707\n",
            "now x=43708\n",
            "positive x=43708\n",
            "now x=43709\n",
            "positive x=43709\n",
            "now x=43710\n",
            "positive x=43710\n",
            "now x=43711\n",
            "positive x=43711\n",
            "now x=43712\n",
            "positive x=43712\n",
            "now x=43713\n",
            "positive x=43713\n",
            "now x=43714\n",
            "positive x=43714\n",
            "now x=43715\n",
            "positive x=43715\n",
            "now x=43716\n",
            "positive x=43716\n",
            "now x=43717\n",
            "positive x=43717\n",
            "now x=43718\n",
            "positive x=43718\n",
            "now x=43719\n",
            "positive x=43719\n",
            "now x=43720\n",
            "positive x=43720\n",
            "now x=43721\n",
            "positive x=43721\n",
            "now x=43722\n",
            "positive x=43722\n",
            "now x=43723\n",
            "positive x=43723\n",
            "now x=43724\n",
            "positive x=43724\n",
            "now x=43725\n",
            "positive x=43725\n",
            "now x=43726\n",
            "positive x=43726\n",
            "now x=43727\n",
            "positive x=43727\n",
            "now x=43728\n",
            "positive x=43728\n",
            "now x=43729\n",
            "positive x=43729\n",
            "now x=43730\n",
            "positive x=43730\n",
            "now x=43731\n",
            "positive x=43731\n",
            "now x=43732\n",
            "positive x=43732\n",
            "now x=43733\n",
            "positive x=43733\n",
            "now x=43734\n",
            "positive x=43734\n",
            "now x=43735\n",
            "positive x=43735\n",
            "now x=43736\n",
            "positive x=43736\n",
            "now x=43737\n",
            "positive x=43737\n",
            "now x=43738\n",
            "positive x=43738\n",
            "now x=43739\n",
            "positive x=43739\n",
            "now x=43740\n",
            "positive x=43740\n",
            "now x=43741\n",
            "positive x=43741\n",
            "now x=43742\n",
            "positive x=43742\n",
            "now x=43743\n",
            "positive x=43743\n",
            "now x=43744\n",
            "positive x=43744\n",
            "now x=43745\n",
            "positive x=43745\n",
            "now x=43746\n",
            "positive x=43746\n",
            "now x=43747\n",
            "positive x=43747\n",
            "now x=43748\n",
            "positive x=43748\n",
            "now x=43749\n",
            "positive x=43749\n",
            "now x=43750\n",
            "positive x=43750\n",
            "now x=43751\n",
            "positive x=43751\n",
            "now x=43752\n",
            "positive x=43752\n",
            "now x=43753\n",
            "positive x=43753\n",
            "now x=43754\n",
            "positive x=43754\n",
            "now x=43755\n",
            "positive x=43755\n",
            "now x=43756\n",
            "positive x=43756\n",
            "now x=43757\n",
            "positive x=43757\n",
            "now x=43758\n",
            "positive x=43758\n",
            "now x=43759\n",
            "positive x=43759\n",
            "now x=43760\n",
            "positive x=43760\n",
            "now x=43761\n",
            "positive x=43761\n",
            "now x=43762\n",
            "positive x=43762\n",
            "now x=43763\n",
            "positive x=43763\n",
            "now x=43764\n",
            "positive x=43764\n",
            "now x=43765\n",
            "positive x=43765\n",
            "now x=43766\n",
            "positive x=43766\n",
            "now x=43767\n",
            "positive x=43767\n",
            "now x=43768\n",
            "positive x=43768\n",
            "now x=43769\n",
            "positive x=43769\n",
            "now x=43770\n",
            "positive x=43770\n",
            "now x=43771\n",
            "positive x=43771\n",
            "now x=43772\n",
            "positive x=43772\n",
            "now x=43773\n",
            "positive x=43773\n",
            "now x=43774\n",
            "positive x=43774\n",
            "now x=43775\n",
            "positive x=43775\n",
            "now x=43776\n",
            "positive x=43776\n",
            "now x=43777\n",
            "positive x=43777\n",
            "now x=43778\n",
            "positive x=43778\n",
            "now x=43779\n",
            "positive x=43779\n",
            "now x=43780\n",
            "positive x=43780\n",
            "now x=43781\n",
            "positive x=43781\n",
            "now x=43782\n",
            "positive x=43782\n",
            "now x=43783\n",
            "positive x=43783\n",
            "now x=43784\n",
            "positive x=43784\n",
            "now x=43785\n",
            "positive x=43785\n",
            "now x=43786\n",
            "positive x=43786\n",
            "now x=43787\n",
            "positive x=43787\n",
            "now x=43788\n",
            "positive x=43788\n",
            "now x=43789\n",
            "positive x=43789\n",
            "now x=43790\n",
            "positive x=43790\n",
            "now x=43791\n",
            "positive x=43791\n",
            "now x=43792\n",
            "positive x=43792\n",
            "now x=43793\n",
            "positive x=43793\n",
            "now x=43794\n",
            "positive x=43794\n",
            "now x=43795\n",
            "positive x=43795\n",
            "now x=43796\n",
            "positive x=43796\n",
            "now x=43797\n",
            "positive x=43797\n",
            "now x=43798\n",
            "positive x=43798\n",
            "now x=43799\n",
            "positive x=43799\n",
            "now x=43800\n",
            "positive x=43800\n",
            "now x=43801\n",
            "positive x=43801\n",
            "now x=43802\n",
            "positive x=43802\n",
            "now x=43803\n",
            "positive x=43803\n",
            "now x=43804\n",
            "positive x=43804\n",
            "now x=43805\n",
            "positive x=43805\n",
            "now x=43806\n",
            "positive x=43806\n",
            "now x=43807\n",
            "positive x=43807\n",
            "now x=43808\n",
            "positive x=43808\n",
            "now x=43809\n",
            "positive x=43809\n",
            "now x=43810\n",
            "positive x=43810\n",
            "now x=43811\n",
            "positive x=43811\n",
            "now x=43812\n",
            "positive x=43812\n",
            "now x=43813\n",
            "positive x=43813\n",
            "now x=43814\n",
            "positive x=43814\n",
            "now x=43815\n",
            "positive x=43815\n",
            "now x=43816\n",
            "positive x=43816\n",
            "now x=43817\n",
            "positive x=43817\n",
            "now x=43818\n",
            "positive x=43818\n",
            "now x=43819\n",
            "positive x=43819\n",
            "now x=43820\n",
            "positive x=43820\n",
            "now x=43821\n",
            "positive x=43821\n",
            "now x=43822\n",
            "positive x=43822\n",
            "now x=43823\n",
            "positive x=43823\n",
            "now x=43824\n",
            "positive x=43824\n",
            "now x=43825\n",
            "positive x=43825\n",
            "now x=43826\n",
            "positive x=43826\n",
            "now x=43827\n",
            "positive x=43827\n",
            "now x=43828\n",
            "positive x=43828\n",
            "now x=43829\n",
            "positive x=43829\n",
            "now x=43830\n",
            "positive x=43830\n",
            "now x=43831\n",
            "positive x=43831\n",
            "now x=43832\n",
            "positive x=43832\n",
            "now x=43833\n",
            "positive x=43833\n",
            "now x=43834\n",
            "positive x=43834\n",
            "now x=43835\n",
            "positive x=43835\n",
            "now x=43836\n",
            "positive x=43836\n",
            "now x=43837\n",
            "positive x=43837\n",
            "now x=43838\n",
            "positive x=43838\n",
            "now x=43839\n",
            "positive x=43839\n",
            "now x=43840\n",
            "positive x=43840\n",
            "now x=43841\n",
            "positive x=43841\n",
            "now x=43842\n",
            "positive x=43842\n",
            "now x=43843\n",
            "positive x=43843\n",
            "now x=43844\n",
            "positive x=43844\n",
            "now x=43845\n",
            "positive x=43845\n",
            "now x=43846\n",
            "positive x=43846\n",
            "now x=43847\n",
            "positive x=43847\n",
            "now x=43848\n",
            "positive x=43848\n",
            "now x=43849\n",
            "positive x=43849\n",
            "now x=43850\n",
            "positive x=43850\n",
            "now x=43851\n",
            "positive x=43851\n",
            "now x=43852\n",
            "positive x=43852\n",
            "now x=43853\n",
            "positive x=43853\n",
            "now x=43854\n",
            "positive x=43854\n",
            "now x=43855\n",
            "positive x=43855\n",
            "now x=43856\n",
            "positive x=43856\n",
            "now x=43857\n",
            "positive x=43857\n",
            "now x=43858\n",
            "positive x=43858\n",
            "now x=43859\n",
            "positive x=43859\n",
            "now x=43860\n",
            "positive x=43860\n",
            "now x=43861\n",
            "positive x=43861\n",
            "now x=43862\n",
            "positive x=43862\n",
            "now x=43863\n",
            "positive x=43863\n",
            "now x=43864\n",
            "positive x=43864\n",
            "now x=43865\n",
            "positive x=43865\n",
            "now x=43866\n",
            "positive x=43866\n",
            "now x=43867\n",
            "positive x=43867\n",
            "now x=43868\n",
            "positive x=43868\n",
            "now x=43869\n",
            "positive x=43869\n",
            "now x=43870\n",
            "positive x=43870\n",
            "now x=43871\n",
            "positive x=43871\n",
            "now x=43872\n",
            "positive x=43872\n",
            "now x=43873\n",
            "positive x=43873\n",
            "now x=43874\n",
            "positive x=43874\n",
            "now x=43875\n",
            "positive x=43875\n",
            "now x=43876\n",
            "positive x=43876\n",
            "now x=43877\n",
            "positive x=43877\n",
            "now x=43878\n",
            "positive x=43878\n",
            "now x=43879\n",
            "positive x=43879\n",
            "now x=43880\n",
            "positive x=43880\n",
            "now x=43881\n",
            "positive x=43881\n",
            "now x=43882\n",
            "positive x=43882\n",
            "now x=43883\n",
            "positive x=43883\n",
            "now x=43884\n",
            "positive x=43884\n",
            "now x=43885\n",
            "positive x=43885\n",
            "now x=43886\n",
            "positive x=43886\n",
            "now x=43887\n",
            "positive x=43887\n",
            "now x=43888\n",
            "positive x=43888\n",
            "now x=43889\n",
            "positive x=43889\n",
            "now x=43890\n",
            "positive x=43890\n",
            "now x=43891\n",
            "positive x=43891\n",
            "now x=43892\n",
            "positive x=43892\n",
            "now x=43893\n",
            "positive x=43893\n",
            "now x=43894\n",
            "positive x=43894\n",
            "now x=43895\n",
            "positive x=43895\n",
            "now x=43896\n",
            "positive x=43896\n",
            "now x=43897\n",
            "positive x=43897\n",
            "now x=43898\n",
            "positive x=43898\n",
            "now x=43899\n",
            "positive x=43899\n",
            "now x=43900\n",
            "positive x=43900\n",
            "now x=43901\n",
            "positive x=43901\n",
            "now x=43902\n",
            "positive x=43902\n",
            "now x=43903\n",
            "positive x=43903\n",
            "now x=43904\n",
            "positive x=43904\n",
            "now x=43905\n",
            "positive x=43905\n",
            "now x=43906\n",
            "positive x=43906\n",
            "now x=43907\n",
            "positive x=43907\n",
            "now x=43908\n",
            "positive x=43908\n",
            "now x=43909\n",
            "positive x=43909\n",
            "now x=43910\n",
            "positive x=43910\n",
            "now x=43911\n",
            "positive x=43911\n",
            "now x=43912\n",
            "positive x=43912\n",
            "now x=43913\n",
            "positive x=43913\n",
            "now x=43914\n",
            "positive x=43914\n",
            "now x=43915\n",
            "positive x=43915\n",
            "now x=43916\n",
            "positive x=43916\n",
            "now x=43917\n",
            "positive x=43917\n",
            "now x=43918\n",
            "positive x=43918\n",
            "now x=43919\n",
            "positive x=43919\n",
            "now x=43920\n",
            "positive x=43920\n",
            "now x=43921\n",
            "positive x=43921\n",
            "now x=43922\n",
            "positive x=43922\n",
            "now x=43923\n",
            "positive x=43923\n",
            "now x=43924\n",
            "positive x=43924\n",
            "now x=43925\n",
            "positive x=43925\n",
            "now x=43926\n",
            "positive x=43926\n",
            "now x=43927\n",
            "positive x=43927\n",
            "now x=43928\n",
            "positive x=43928\n",
            "now x=43929\n",
            "positive x=43929\n",
            "now x=43930\n",
            "positive x=43930\n",
            "now x=43931\n",
            "positive x=43931\n",
            "now x=43932\n",
            "positive x=43932\n",
            "now x=43933\n",
            "positive x=43933\n",
            "now x=43934\n",
            "positive x=43934\n",
            "now x=43935\n",
            "positive x=43935\n",
            "now x=43936\n",
            "positive x=43936\n",
            "now x=43937\n",
            "positive x=43937\n",
            "now x=43938\n",
            "positive x=43938\n",
            "now x=43939\n",
            "positive x=43939\n",
            "now x=43940\n",
            "positive x=43940\n",
            "now x=43941\n",
            "positive x=43941\n",
            "now x=43942\n",
            "positive x=43942\n",
            "now x=43943\n",
            "positive x=43943\n",
            "now x=43944\n",
            "positive x=43944\n",
            "now x=43945\n",
            "positive x=43945\n",
            "now x=43946\n",
            "positive x=43946\n",
            "now x=43947\n",
            "positive x=43947\n",
            "now x=43948\n",
            "positive x=43948\n",
            "now x=43949\n",
            "positive x=43949\n",
            "now x=43950\n",
            "positive x=43950\n",
            "now x=43951\n",
            "positive x=43951\n",
            "now x=43952\n",
            "positive x=43952\n",
            "now x=43953\n",
            "positive x=43953\n",
            "now x=43954\n",
            "positive x=43954\n",
            "now x=43955\n",
            "positive x=43955\n",
            "now x=43956\n",
            "positive x=43956\n",
            "now x=43957\n",
            "positive x=43957\n",
            "now x=43958\n",
            "positive x=43958\n",
            "now x=43959\n",
            "positive x=43959\n",
            "now x=43960\n",
            "positive x=43960\n",
            "now x=43961\n",
            "positive x=43961\n",
            "now x=43962\n",
            "positive x=43962\n",
            "now x=43963\n",
            "positive x=43963\n",
            "now x=43964\n",
            "positive x=43964\n",
            "now x=43965\n",
            "positive x=43965\n",
            "now x=43966\n",
            "positive x=43966\n",
            "now x=43967\n",
            "positive x=43967\n",
            "now x=43968\n",
            "positive x=43968\n",
            "now x=43969\n",
            "positive x=43969\n",
            "now x=43970\n",
            "positive x=43970\n",
            "now x=43971\n",
            "positive x=43971\n",
            "now x=43972\n",
            "positive x=43972\n",
            "now x=43973\n",
            "positive x=43973\n",
            "now x=43974\n",
            "positive x=43974\n",
            "now x=43975\n",
            "positive x=43975\n",
            "now x=43976\n",
            "positive x=43976\n",
            "now x=43977\n",
            "positive x=43977\n",
            "now x=43978\n",
            "positive x=43978\n",
            "now x=43979\n",
            "positive x=43979\n",
            "now x=43980\n",
            "positive x=43980\n",
            "now x=43981\n",
            "positive x=43981\n",
            "now x=43982\n",
            "positive x=43982\n",
            "now x=43983\n",
            "positive x=43983\n",
            "now x=43984\n",
            "positive x=43984\n",
            "now x=43985\n",
            "positive x=43985\n",
            "now x=43986\n",
            "positive x=43986\n",
            "now x=43987\n",
            "positive x=43987\n",
            "now x=43988\n",
            "positive x=43988\n",
            "now x=43989\n",
            "positive x=43989\n",
            "now x=43990\n",
            "positive x=43990\n",
            "now x=43991\n",
            "positive x=43991\n",
            "now x=43992\n",
            "positive x=43992\n",
            "now x=43993\n",
            "positive x=43993\n",
            "now x=43994\n",
            "positive x=43994\n",
            "now x=43995\n",
            "positive x=43995\n",
            "now x=43996\n",
            "positive x=43996\n",
            "now x=43997\n",
            "positive x=43997\n",
            "now x=43998\n",
            "positive x=43998\n",
            "now x=43999\n",
            "positive x=43999\n",
            "now x=44000\n",
            "positive x=44000\n",
            "now x=44001\n",
            "positive x=44001\n",
            "now x=44002\n",
            "positive x=44002\n",
            "now x=44003\n",
            "positive x=44003\n",
            "now x=44004\n",
            "positive x=44004\n",
            "now x=44005\n",
            "positive x=44005\n",
            "now x=44006\n",
            "positive x=44006\n",
            "now x=44007\n",
            "positive x=44007\n",
            "now x=44008\n",
            "positive x=44008\n",
            "now x=44009\n",
            "positive x=44009\n",
            "now x=44010\n",
            "positive x=44010\n",
            "now x=44011\n",
            "positive x=44011\n",
            "now x=44012\n",
            "positive x=44012\n",
            "now x=44013\n",
            "positive x=44013\n",
            "now x=44014\n",
            "positive x=44014\n",
            "now x=44015\n",
            "positive x=44015\n",
            "now x=44016\n",
            "positive x=44016\n",
            "now x=44017\n",
            "positive x=44017\n",
            "now x=44018\n",
            "positive x=44018\n",
            "now x=44019\n",
            "positive x=44019\n",
            "now x=44020\n",
            "positive x=44020\n",
            "now x=44021\n",
            "positive x=44021\n",
            "now x=44022\n",
            "positive x=44022\n",
            "now x=44023\n",
            "positive x=44023\n",
            "now x=44024\n",
            "positive x=44024\n",
            "now x=44025\n",
            "positive x=44025\n",
            "now x=44026\n",
            "positive x=44026\n",
            "now x=44027\n",
            "positive x=44027\n",
            "now x=44028\n",
            "positive x=44028\n",
            "now x=44029\n",
            "positive x=44029\n",
            "now x=44030\n",
            "positive x=44030\n",
            "now x=44031\n",
            "positive x=44031\n",
            "now x=44032\n",
            "positive x=44032\n",
            "now x=44033\n",
            "positive x=44033\n",
            "now x=44034\n",
            "positive x=44034\n",
            "now x=44035\n",
            "positive x=44035\n",
            "now x=44036\n",
            "positive x=44036\n",
            "now x=44037\n",
            "positive x=44037\n",
            "now x=44038\n",
            "positive x=44038\n",
            "now x=44039\n",
            "positive x=44039\n",
            "now x=44040\n",
            "positive x=44040\n",
            "now x=44041\n",
            "positive x=44041\n",
            "now x=44042\n",
            "positive x=44042\n",
            "now x=44043\n",
            "positive x=44043\n",
            "now x=44044\n",
            "positive x=44044\n",
            "now x=44045\n",
            "positive x=44045\n",
            "now x=44046\n",
            "positive x=44046\n",
            "now x=44047\n",
            "positive x=44047\n",
            "now x=44048\n",
            "positive x=44048\n",
            "now x=44049\n",
            "positive x=44049\n",
            "now x=44050\n",
            "positive x=44050\n",
            "now x=44051\n",
            "positive x=44051\n",
            "now x=44052\n",
            "positive x=44052\n",
            "now x=44053\n",
            "positive x=44053\n",
            "now x=44054\n",
            "positive x=44054\n",
            "now x=44055\n",
            "positive x=44055\n",
            "now x=44056\n",
            "positive x=44056\n",
            "now x=44057\n",
            "positive x=44057\n",
            "now x=44058\n",
            "positive x=44058\n",
            "now x=44059\n",
            "positive x=44059\n",
            "now x=44060\n",
            "positive x=44060\n",
            "now x=44061\n",
            "positive x=44061\n",
            "now x=44062\n",
            "positive x=44062\n",
            "now x=44063\n",
            "positive x=44063\n",
            "now x=44064\n",
            "positive x=44064\n",
            "now x=44065\n",
            "positive x=44065\n",
            "now x=44066\n",
            "positive x=44066\n",
            "now x=44067\n",
            "positive x=44067\n",
            "now x=44068\n",
            "positive x=44068\n",
            "now x=44069\n",
            "positive x=44069\n",
            "now x=44070\n",
            "positive x=44070\n",
            "now x=44071\n",
            "positive x=44071\n",
            "now x=44072\n",
            "positive x=44072\n",
            "now x=44073\n",
            "positive x=44073\n",
            "now x=44074\n",
            "positive x=44074\n",
            "now x=44075\n",
            "positive x=44075\n",
            "now x=44076\n",
            "positive x=44076\n",
            "now x=44077\n",
            "positive x=44077\n",
            "now x=44078\n",
            "positive x=44078\n",
            "now x=44079\n",
            "positive x=44079\n",
            "now x=44080\n",
            "positive x=44080\n",
            "now x=44081\n",
            "positive x=44081\n",
            "now x=44082\n",
            "positive x=44082\n",
            "now x=44083\n",
            "positive x=44083\n",
            "now x=44084\n",
            "positive x=44084\n",
            "now x=44085\n",
            "positive x=44085\n",
            "now x=44086\n",
            "positive x=44086\n",
            "now x=44087\n",
            "positive x=44087\n",
            "now x=44088\n",
            "positive x=44088\n",
            "now x=44089\n",
            "positive x=44089\n",
            "now x=44090\n",
            "positive x=44090\n",
            "now x=44091\n",
            "positive x=44091\n",
            "now x=44092\n",
            "positive x=44092\n",
            "now x=44093\n",
            "positive x=44093\n",
            "now x=44094\n",
            "positive x=44094\n",
            "now x=44095\n",
            "positive x=44095\n",
            "now x=44096\n",
            "positive x=44096\n",
            "now x=44097\n",
            "positive x=44097\n",
            "now x=44098\n",
            "positive x=44098\n",
            "now x=44099\n",
            "positive x=44099\n",
            "now x=44100\n",
            "positive x=44100\n",
            "now x=44101\n",
            "positive x=44101\n",
            "now x=44102\n",
            "positive x=44102\n",
            "now x=44103\n",
            "positive x=44103\n",
            "now x=44104\n",
            "positive x=44104\n",
            "now x=44105\n",
            "positive x=44105\n",
            "now x=44106\n",
            "positive x=44106\n",
            "now x=44107\n",
            "positive x=44107\n",
            "now x=44108\n",
            "positive x=44108\n",
            "now x=44109\n",
            "positive x=44109\n",
            "now x=44110\n",
            "positive x=44110\n",
            "now x=44111\n",
            "positive x=44111\n",
            "now x=44112\n",
            "positive x=44112\n",
            "now x=44113\n",
            "positive x=44113\n",
            "now x=44114\n",
            "positive x=44114\n",
            "now x=44115\n",
            "positive x=44115\n",
            "now x=44116\n",
            "positive x=44116\n",
            "now x=44117\n",
            "positive x=44117\n",
            "now x=44118\n",
            "positive x=44118\n",
            "now x=44119\n",
            "positive x=44119\n",
            "now x=44120\n",
            "positive x=44120\n",
            "now x=44121\n",
            "positive x=44121\n",
            "now x=44122\n",
            "positive x=44122\n",
            "now x=44123\n",
            "positive x=44123\n",
            "now x=44124\n",
            "positive x=44124\n",
            "now x=44125\n",
            "positive x=44125\n",
            "now x=44126\n",
            "positive x=44126\n",
            "now x=44127\n",
            "positive x=44127\n",
            "now x=44128\n",
            "positive x=44128\n",
            "now x=44129\n",
            "positive x=44129\n",
            "now x=44130\n",
            "positive x=44130\n",
            "now x=44131\n",
            "positive x=44131\n",
            "now x=44132\n",
            "positive x=44132\n",
            "now x=44133\n",
            "positive x=44133\n",
            "now x=44134\n",
            "positive x=44134\n",
            "now x=44135\n",
            "positive x=44135\n",
            "now x=44136\n",
            "positive x=44136\n",
            "now x=44137\n",
            "positive x=44137\n",
            "now x=44138\n",
            "positive x=44138\n",
            "now x=44139\n",
            "positive x=44139\n",
            "now x=44140\n",
            "positive x=44140\n",
            "now x=44141\n",
            "positive x=44141\n",
            "now x=44142\n",
            "positive x=44142\n",
            "now x=44143\n",
            "positive x=44143\n",
            "now x=44144\n",
            "positive x=44144\n",
            "now x=44145\n",
            "positive x=44145\n",
            "now x=44146\n",
            "positive x=44146\n",
            "now x=44147\n",
            "positive x=44147\n",
            "now x=44148\n",
            "positive x=44148\n",
            "now x=44149\n",
            "positive x=44149\n",
            "now x=44150\n",
            "positive x=44150\n",
            "now x=44151\n",
            "positive x=44151\n",
            "now x=44152\n",
            "positive x=44152\n",
            "now x=44153\n",
            "positive x=44153\n",
            "now x=44154\n",
            "positive x=44154\n",
            "now x=44155\n",
            "positive x=44155\n",
            "now x=44156\n",
            "positive x=44156\n",
            "now x=44157\n",
            "positive x=44157\n",
            "now x=44158\n",
            "positive x=44158\n",
            "now x=44159\n",
            "positive x=44159\n",
            "now x=44160\n",
            "positive x=44160\n",
            "now x=44161\n",
            "positive x=44161\n",
            "now x=44162\n",
            "positive x=44162\n",
            "now x=44163\n",
            "positive x=44163\n",
            "now x=44164\n",
            "positive x=44164\n",
            "now x=44165\n",
            "positive x=44165\n",
            "now x=44166\n",
            "positive x=44166\n",
            "now x=44167\n",
            "positive x=44167\n",
            "now x=44168\n",
            "positive x=44168\n",
            "now x=44169\n",
            "positive x=44169\n",
            "now x=44170\n",
            "positive x=44170\n",
            "now x=44171\n",
            "positive x=44171\n",
            "now x=44172\n",
            "positive x=44172\n",
            "now x=44173\n",
            "positive x=44173\n",
            "now x=44174\n",
            "positive x=44174\n",
            "now x=44175\n",
            "positive x=44175\n",
            "now x=44176\n",
            "positive x=44176\n",
            "now x=44177\n",
            "positive x=44177\n",
            "now x=44178\n",
            "positive x=44178\n",
            "now x=44179\n",
            "positive x=44179\n",
            "now x=44180\n",
            "positive x=44180\n",
            "now x=44181\n",
            "positive x=44181\n",
            "now x=44182\n",
            "positive x=44182\n",
            "now x=44183\n",
            "positive x=44183\n",
            "now x=44184\n",
            "positive x=44184\n",
            "now x=44185\n",
            "positive x=44185\n",
            "now x=44186\n",
            "positive x=44186\n",
            "now x=44187\n",
            "positive x=44187\n",
            "now x=44188\n",
            "positive x=44188\n",
            "now x=44189\n",
            "positive x=44189\n",
            "now x=44190\n",
            "positive x=44190\n",
            "now x=44191\n",
            "positive x=44191\n",
            "now x=44192\n",
            "positive x=44192\n",
            "now x=44193\n",
            "positive x=44193\n",
            "now x=44194\n",
            "positive x=44194\n",
            "now x=44195\n",
            "positive x=44195\n",
            "now x=44196\n",
            "positive x=44196\n",
            "now x=44197\n",
            "positive x=44197\n",
            "now x=44198\n",
            "positive x=44198\n",
            "now x=44199\n",
            "positive x=44199\n",
            "now x=44200\n",
            "positive x=44200\n",
            "now x=44201\n",
            "positive x=44201\n",
            "now x=44202\n",
            "positive x=44202\n",
            "now x=44203\n",
            "positive x=44203\n",
            "now x=44204\n",
            "positive x=44204\n",
            "now x=44205\n",
            "positive x=44205\n",
            "now x=44206\n",
            "positive x=44206\n",
            "now x=44207\n",
            "positive x=44207\n",
            "now x=44208\n",
            "positive x=44208\n",
            "now x=44209\n",
            "positive x=44209\n",
            "now x=44210\n",
            "positive x=44210\n",
            "now x=44211\n",
            "positive x=44211\n",
            "now x=44212\n",
            "positive x=44212\n",
            "now x=44213\n",
            "positive x=44213\n",
            "now x=44214\n",
            "positive x=44214\n",
            "now x=44215\n",
            "positive x=44215\n",
            "now x=44216\n",
            "positive x=44216\n",
            "now x=44217\n",
            "positive x=44217\n",
            "now x=44218\n",
            "positive x=44218\n",
            "now x=44219\n",
            "positive x=44219\n",
            "now x=44220\n",
            "positive x=44220\n",
            "now x=44221\n",
            "positive x=44221\n",
            "now x=44222\n",
            "positive x=44222\n",
            "now x=44223\n",
            "positive x=44223\n",
            "now x=44224\n",
            "positive x=44224\n",
            "now x=44225\n",
            "positive x=44225\n",
            "now x=44226\n",
            "positive x=44226\n",
            "now x=44227\n",
            "positive x=44227\n",
            "now x=44228\n",
            "positive x=44228\n",
            "now x=44229\n",
            "positive x=44229\n",
            "now x=44230\n",
            "positive x=44230\n",
            "now x=44231\n",
            "positive x=44231\n",
            "now x=44232\n",
            "positive x=44232\n",
            "now x=44233\n",
            "positive x=44233\n",
            "now x=44234\n",
            "positive x=44234\n",
            "now x=44235\n",
            "positive x=44235\n",
            "now x=44236\n",
            "positive x=44236\n",
            "now x=44237\n",
            "positive x=44237\n",
            "now x=44238\n",
            "positive x=44238\n",
            "now x=44239\n",
            "positive x=44239\n",
            "now x=44240\n",
            "positive x=44240\n",
            "now x=44241\n",
            "positive x=44241\n",
            "now x=44242\n",
            "positive x=44242\n",
            "now x=44243\n",
            "positive x=44243\n",
            "now x=44244\n",
            "positive x=44244\n",
            "now x=44245\n",
            "positive x=44245\n",
            "now x=44246\n",
            "positive x=44246\n",
            "now x=44247\n",
            "positive x=44247\n",
            "now x=44248\n",
            "positive x=44248\n",
            "now x=44249\n",
            "positive x=44249\n",
            "now x=44250\n",
            "positive x=44250\n",
            "now x=44251\n",
            "positive x=44251\n",
            "now x=44252\n",
            "positive x=44252\n",
            "now x=44253\n",
            "positive x=44253\n",
            "now x=44254\n",
            "positive x=44254\n",
            "now x=44255\n",
            "positive x=44255\n",
            "now x=44256\n",
            "positive x=44256\n",
            "now x=44257\n",
            "positive x=44257\n",
            "now x=44258\n",
            "positive x=44258\n",
            "now x=44259\n",
            "positive x=44259\n",
            "now x=44260\n",
            "positive x=44260\n",
            "now x=44261\n",
            "positive x=44261\n",
            "now x=44262\n",
            "positive x=44262\n",
            "now x=44263\n",
            "positive x=44263\n",
            "now x=44264\n",
            "positive x=44264\n",
            "now x=44265\n",
            "positive x=44265\n",
            "now x=44266\n",
            "positive x=44266\n",
            "now x=44267\n",
            "positive x=44267\n",
            "now x=44268\n",
            "positive x=44268\n",
            "now x=44269\n",
            "positive x=44269\n",
            "now x=44270\n",
            "positive x=44270\n",
            "now x=44271\n",
            "positive x=44271\n",
            "now x=44272\n",
            "positive x=44272\n",
            "now x=44273\n",
            "positive x=44273\n",
            "now x=44274\n",
            "positive x=44274\n",
            "now x=44275\n",
            "positive x=44275\n",
            "now x=44276\n",
            "positive x=44276\n",
            "now x=44277\n",
            "positive x=44277\n",
            "now x=44278\n",
            "positive x=44278\n",
            "now x=44279\n",
            "positive x=44279\n",
            "now x=44280\n",
            "positive x=44280\n",
            "now x=44281\n",
            "positive x=44281\n",
            "now x=44282\n",
            "positive x=44282\n",
            "now x=44283\n",
            "positive x=44283\n",
            "now x=44284\n",
            "positive x=44284\n",
            "now x=44285\n",
            "positive x=44285\n",
            "now x=44286\n",
            "positive x=44286\n",
            "now x=44287\n",
            "positive x=44287\n",
            "now x=44288\n",
            "positive x=44288\n",
            "now x=44289\n",
            "positive x=44289\n",
            "now x=44290\n",
            "positive x=44290\n",
            "now x=44291\n",
            "positive x=44291\n",
            "now x=44292\n",
            "positive x=44292\n",
            "now x=44293\n",
            "positive x=44293\n",
            "now x=44294\n",
            "positive x=44294\n",
            "now x=44295\n",
            "positive x=44295\n",
            "now x=44296\n",
            "positive x=44296\n",
            "now x=44297\n",
            "positive x=44297\n",
            "now x=44298\n",
            "positive x=44298\n",
            "now x=44299\n",
            "positive x=44299\n",
            "now x=44300\n",
            "positive x=44300\n",
            "now x=44301\n",
            "positive x=44301\n",
            "now x=44302\n",
            "positive x=44302\n",
            "now x=44303\n",
            "positive x=44303\n",
            "now x=44304\n",
            "positive x=44304\n",
            "now x=44305\n",
            "positive x=44305\n",
            "now x=44306\n",
            "positive x=44306\n",
            "now x=44307\n",
            "positive x=44307\n",
            "now x=44308\n",
            "positive x=44308\n",
            "now x=44309\n",
            "positive x=44309\n",
            "now x=44310\n",
            "positive x=44310\n",
            "now x=44311\n",
            "positive x=44311\n",
            "now x=44312\n",
            "positive x=44312\n",
            "now x=44313\n",
            "positive x=44313\n",
            "now x=44314\n",
            "positive x=44314\n",
            "now x=44315\n",
            "positive x=44315\n",
            "now x=44316\n",
            "positive x=44316\n",
            "now x=44317\n",
            "positive x=44317\n",
            "now x=44318\n",
            "positive x=44318\n",
            "now x=44319\n",
            "positive x=44319\n",
            "now x=44320\n",
            "positive x=44320\n",
            "now x=44321\n",
            "positive x=44321\n",
            "now x=44322\n",
            "positive x=44322\n",
            "now x=44323\n",
            "positive x=44323\n",
            "now x=44324\n",
            "positive x=44324\n",
            "now x=44325\n",
            "positive x=44325\n",
            "now x=44326\n",
            "positive x=44326\n",
            "now x=44327\n",
            "positive x=44327\n",
            "now x=44328\n",
            "positive x=44328\n",
            "now x=44329\n",
            "positive x=44329\n",
            "now x=44330\n",
            "positive x=44330\n",
            "now x=44331\n",
            "positive x=44331\n",
            "now x=44332\n",
            "positive x=44332\n",
            "now x=44333\n",
            "positive x=44333\n",
            "now x=44334\n",
            "positive x=44334\n",
            "now x=44335\n",
            "positive x=44335\n",
            "now x=44336\n",
            "positive x=44336\n",
            "now x=44337\n",
            "positive x=44337\n",
            "now x=44338\n",
            "positive x=44338\n",
            "now x=44339\n",
            "positive x=44339\n",
            "now x=44340\n",
            "positive x=44340\n",
            "now x=44341\n",
            "positive x=44341\n",
            "now x=44342\n",
            "positive x=44342\n",
            "now x=44343\n",
            "positive x=44343\n",
            "now x=44344\n",
            "positive x=44344\n",
            "now x=44345\n",
            "positive x=44345\n",
            "now x=44346\n",
            "positive x=44346\n",
            "now x=44347\n",
            "positive x=44347\n",
            "now x=44348\n",
            "positive x=44348\n",
            "now x=44349\n",
            "positive x=44349\n",
            "now x=44350\n",
            "positive x=44350\n",
            "now x=44351\n",
            "positive x=44351\n",
            "now x=44352\n",
            "positive x=44352\n",
            "now x=44353\n",
            "positive x=44353\n",
            "now x=44354\n",
            "positive x=44354\n",
            "now x=44355\n",
            "positive x=44355\n",
            "now x=44356\n",
            "positive x=44356\n",
            "now x=44357\n",
            "positive x=44357\n",
            "now x=44358\n",
            "positive x=44358\n",
            "now x=44359\n",
            "positive x=44359\n",
            "now x=44360\n",
            "positive x=44360\n",
            "now x=44361\n",
            "positive x=44361\n",
            "now x=44362\n",
            "positive x=44362\n",
            "now x=44363\n",
            "positive x=44363\n",
            "now x=44364\n",
            "positive x=44364\n",
            "now x=44365\n",
            "positive x=44365\n",
            "now x=44366\n",
            "positive x=44366\n",
            "now x=44367\n",
            "positive x=44367\n",
            "now x=44368\n",
            "positive x=44368\n",
            "now x=44369\n",
            "positive x=44369\n",
            "now x=44370\n",
            "positive x=44370\n",
            "now x=44371\n",
            "positive x=44371\n",
            "now x=44372\n",
            "positive x=44372\n",
            "now x=44373\n",
            "positive x=44373\n",
            "now x=44374\n",
            "positive x=44374\n",
            "now x=44375\n",
            "positive x=44375\n",
            "now x=44376\n",
            "positive x=44376\n",
            "now x=44377\n",
            "positive x=44377\n",
            "now x=44378\n",
            "positive x=44378\n",
            "now x=44379\n",
            "positive x=44379\n",
            "now x=44380\n",
            "positive x=44380\n",
            "now x=44381\n",
            "positive x=44381\n",
            "now x=44382\n",
            "positive x=44382\n",
            "now x=44383\n",
            "positive x=44383\n",
            "now x=44384\n",
            "positive x=44384\n",
            "now x=44385\n",
            "positive x=44385\n",
            "now x=44386\n",
            "positive x=44386\n",
            "now x=44387\n",
            "positive x=44387\n",
            "now x=44388\n",
            "positive x=44388\n",
            "now x=44389\n",
            "positive x=44389\n",
            "now x=44390\n",
            "positive x=44390\n",
            "now x=44391\n",
            "positive x=44391\n",
            "now x=44392\n",
            "positive x=44392\n",
            "now x=44393\n",
            "positive x=44393\n",
            "now x=44394\n",
            "positive x=44394\n",
            "now x=44395\n",
            "positive x=44395\n",
            "now x=44396\n",
            "positive x=44396\n",
            "now x=44397\n",
            "positive x=44397\n",
            "now x=44398\n",
            "positive x=44398\n",
            "now x=44399\n",
            "positive x=44399\n",
            "now x=44400\n",
            "positive x=44400\n",
            "now x=44401\n",
            "positive x=44401\n",
            "now x=44402\n",
            "positive x=44402\n",
            "now x=44403\n",
            "positive x=44403\n",
            "now x=44404\n",
            "positive x=44404\n",
            "now x=44405\n",
            "positive x=44405\n",
            "now x=44406\n",
            "positive x=44406\n",
            "now x=44407\n",
            "positive x=44407\n",
            "now x=44408\n",
            "positive x=44408\n",
            "now x=44409\n",
            "positive x=44409\n",
            "now x=44410\n",
            "positive x=44410\n",
            "now x=44411\n",
            "positive x=44411\n",
            "now x=44412\n",
            "positive x=44412\n",
            "now x=44413\n",
            "positive x=44413\n",
            "now x=44414\n",
            "positive x=44414\n",
            "now x=44415\n",
            "positive x=44415\n",
            "now x=44416\n",
            "positive x=44416\n",
            "now x=44417\n",
            "positive x=44417\n",
            "now x=44418\n",
            "positive x=44418\n",
            "now x=44419\n",
            "positive x=44419\n",
            "now x=44420\n",
            "positive x=44420\n",
            "now x=44421\n",
            "positive x=44421\n",
            "now x=44422\n",
            "positive x=44422\n",
            "now x=44423\n",
            "positive x=44423\n",
            "now x=44424\n",
            "positive x=44424\n",
            "now x=44425\n",
            "positive x=44425\n",
            "now x=44426\n",
            "positive x=44426\n",
            "now x=44427\n",
            "positive x=44427\n",
            "now x=44428\n",
            "positive x=44428\n",
            "now x=44429\n",
            "positive x=44429\n",
            "now x=44430\n",
            "positive x=44430\n",
            "now x=44431\n",
            "positive x=44431\n",
            "now x=44432\n",
            "positive x=44432\n",
            "now x=44433\n",
            "positive x=44433\n",
            "now x=44434\n",
            "positive x=44434\n",
            "now x=44435\n",
            "positive x=44435\n",
            "now x=44436\n",
            "positive x=44436\n",
            "now x=44437\n",
            "positive x=44437\n",
            "now x=44438\n",
            "positive x=44438\n",
            "now x=44439\n",
            "positive x=44439\n",
            "now x=44440\n",
            "positive x=44440\n",
            "now x=44441\n",
            "positive x=44441\n",
            "now x=44442\n",
            "positive x=44442\n",
            "now x=44443\n",
            "positive x=44443\n",
            "now x=44444\n",
            "positive x=44444\n",
            "now x=44445\n",
            "positive x=44445\n",
            "now x=44446\n",
            "positive x=44446\n",
            "now x=44447\n",
            "positive x=44447\n",
            "now x=44448\n",
            "positive x=44448\n",
            "now x=44449\n",
            "positive x=44449\n",
            "now x=44450\n",
            "positive x=44450\n",
            "now x=44451\n",
            "positive x=44451\n",
            "now x=44452\n",
            "positive x=44452\n",
            "now x=44453\n",
            "positive x=44453\n",
            "now x=44454\n",
            "positive x=44454\n",
            "now x=44455\n",
            "positive x=44455\n",
            "now x=44456\n",
            "positive x=44456\n",
            "now x=44457\n",
            "positive x=44457\n",
            "now x=44458\n",
            "positive x=44458\n",
            "now x=44459\n",
            "positive x=44459\n",
            "now x=44460\n",
            "positive x=44460\n",
            "now x=44461\n",
            "positive x=44461\n",
            "now x=44462\n",
            "positive x=44462\n",
            "now x=44463\n",
            "positive x=44463\n",
            "now x=44464\n",
            "positive x=44464\n",
            "now x=44465\n",
            "positive x=44465\n",
            "now x=44466\n",
            "positive x=44466\n",
            "now x=44467\n",
            "positive x=44467\n",
            "now x=44468\n",
            "positive x=44468\n",
            "now x=44469\n",
            "positive x=44469\n",
            "now x=44470\n",
            "positive x=44470\n",
            "now x=44471\n",
            "positive x=44471\n",
            "now x=44472\n",
            "positive x=44472\n",
            "now x=44473\n",
            "positive x=44473\n",
            "now x=44474\n",
            "positive x=44474\n",
            "now x=44475\n",
            "positive x=44475\n",
            "now x=44476\n",
            "positive x=44476\n",
            "now x=44477\n",
            "positive x=44477\n",
            "now x=44478\n",
            "positive x=44478\n",
            "now x=44479\n",
            "positive x=44479\n",
            "now x=44480\n",
            "positive x=44480\n",
            "now x=44481\n",
            "positive x=44481\n",
            "now x=44482\n",
            "positive x=44482\n",
            "now x=44483\n",
            "positive x=44483\n",
            "now x=44484\n",
            "positive x=44484\n",
            "now x=44485\n",
            "positive x=44485\n",
            "now x=44486\n",
            "positive x=44486\n",
            "now x=44487\n",
            "positive x=44487\n",
            "now x=44488\n",
            "positive x=44488\n",
            "now x=44489\n",
            "positive x=44489\n",
            "now x=44490\n",
            "positive x=44490\n",
            "now x=44491\n",
            "positive x=44491\n",
            "now x=44492\n",
            "positive x=44492\n",
            "now x=44493\n",
            "positive x=44493\n",
            "now x=44494\n",
            "positive x=44494\n",
            "now x=44495\n",
            "positive x=44495\n",
            "now x=44496\n",
            "positive x=44496\n",
            "now x=44497\n",
            "positive x=44497\n",
            "now x=44498\n",
            "positive x=44498\n",
            "now x=44499\n",
            "positive x=44499\n",
            "now x=44500\n",
            "positive x=44500\n",
            "now x=44501\n",
            "positive x=44501\n",
            "now x=44502\n",
            "positive x=44502\n",
            "now x=44503\n",
            "positive x=44503\n",
            "now x=44504\n",
            "positive x=44504\n",
            "now x=44505\n",
            "positive x=44505\n",
            "now x=44506\n",
            "positive x=44506\n",
            "now x=44507\n",
            "positive x=44507\n",
            "now x=44508\n",
            "positive x=44508\n",
            "now x=44509\n",
            "positive x=44509\n",
            "now x=44510\n",
            "positive x=44510\n",
            "now x=44511\n",
            "positive x=44511\n",
            "now x=44512\n",
            "positive x=44512\n",
            "now x=44513\n",
            "positive x=44513\n",
            "now x=44514\n",
            "positive x=44514\n",
            "now x=44515\n",
            "positive x=44515\n",
            "now x=44516\n",
            "positive x=44516\n",
            "now x=44517\n",
            "positive x=44517\n",
            "now x=44518\n",
            "positive x=44518\n",
            "now x=44519\n",
            "positive x=44519\n",
            "now x=44520\n",
            "positive x=44520\n",
            "now x=44521\n",
            "positive x=44521\n",
            "now x=44522\n",
            "positive x=44522\n",
            "now x=44523\n",
            "positive x=44523\n",
            "now x=44524\n",
            "positive x=44524\n",
            "now x=44525\n",
            "positive x=44525\n",
            "now x=44526\n",
            "positive x=44526\n",
            "now x=44527\n",
            "positive x=44527\n",
            "now x=44528\n",
            "positive x=44528\n",
            "now x=44529\n",
            "positive x=44529\n",
            "now x=44530\n",
            "positive x=44530\n",
            "now x=44531\n",
            "positive x=44531\n",
            "now x=44532\n",
            "positive x=44532\n",
            "now x=44533\n",
            "positive x=44533\n",
            "now x=44534\n",
            "positive x=44534\n",
            "now x=44535\n",
            "positive x=44535\n",
            "now x=44536\n",
            "positive x=44536\n",
            "now x=44537\n",
            "positive x=44537\n",
            "now x=44538\n",
            "positive x=44538\n",
            "now x=44539\n",
            "positive x=44539\n",
            "now x=44540\n",
            "positive x=44540\n",
            "now x=44541\n",
            "positive x=44541\n",
            "now x=44542\n",
            "positive x=44542\n",
            "now x=44543\n",
            "positive x=44543\n",
            "now x=44544\n",
            "positive x=44544\n",
            "now x=44545\n",
            "positive x=44545\n",
            "now x=44546\n",
            "positive x=44546\n",
            "now x=44547\n",
            "positive x=44547\n",
            "now x=44548\n",
            "positive x=44548\n",
            "now x=44549\n",
            "positive x=44549\n",
            "now x=44550\n",
            "positive x=44550\n",
            "now x=44551\n",
            "positive x=44551\n",
            "now x=44552\n",
            "positive x=44552\n",
            "now x=44553\n",
            "positive x=44553\n",
            "now x=44554\n",
            "positive x=44554\n",
            "now x=44555\n",
            "positive x=44555\n",
            "now x=44556\n",
            "positive x=44556\n",
            "now x=44557\n",
            "positive x=44557\n",
            "now x=44558\n",
            "positive x=44558\n",
            "now x=44559\n",
            "positive x=44559\n",
            "now x=44560\n",
            "positive x=44560\n",
            "now x=44561\n",
            "positive x=44561\n",
            "now x=44562\n",
            "positive x=44562\n",
            "now x=44563\n",
            "positive x=44563\n",
            "now x=44564\n",
            "positive x=44564\n",
            "now x=44565\n",
            "positive x=44565\n",
            "now x=44566\n",
            "positive x=44566\n",
            "now x=44567\n",
            "positive x=44567\n",
            "now x=44568\n",
            "positive x=44568\n",
            "now x=44569\n",
            "positive x=44569\n",
            "now x=44570\n",
            "positive x=44570\n",
            "now x=44571\n",
            "positive x=44571\n",
            "now x=44572\n",
            "positive x=44572\n",
            "now x=44573\n",
            "positive x=44573\n",
            "now x=44574\n",
            "positive x=44574\n",
            "now x=44575\n",
            "positive x=44575\n",
            "now x=44576\n",
            "positive x=44576\n",
            "now x=44577\n",
            "positive x=44577\n",
            "now x=44578\n",
            "positive x=44578\n",
            "now x=44579\n",
            "positive x=44579\n",
            "now x=44580\n",
            "positive x=44580\n",
            "now x=44581\n",
            "positive x=44581\n",
            "now x=44582\n",
            "positive x=44582\n",
            "now x=44583\n",
            "positive x=44583\n",
            "now x=44584\n",
            "positive x=44584\n",
            "now x=44585\n",
            "positive x=44585\n",
            "now x=44586\n",
            "positive x=44586\n",
            "now x=44587\n",
            "positive x=44587\n",
            "now x=44588\n",
            "positive x=44588\n",
            "now x=44589\n",
            "positive x=44589\n",
            "now x=44590\n",
            "positive x=44590\n",
            "now x=44591\n",
            "positive x=44591\n",
            "now x=44592\n",
            "positive x=44592\n",
            "now x=44593\n",
            "positive x=44593\n",
            "now x=44594\n",
            "positive x=44594\n",
            "now x=44595\n",
            "positive x=44595\n",
            "now x=44596\n",
            "positive x=44596\n",
            "now x=44597\n",
            "positive x=44597\n",
            "now x=44598\n",
            "positive x=44598\n",
            "now x=44599\n",
            "positive x=44599\n",
            "now x=44600\n",
            "positive x=44600\n",
            "now x=44601\n",
            "positive x=44601\n",
            "now x=44602\n",
            "positive x=44602\n",
            "now x=44603\n",
            "positive x=44603\n",
            "now x=44604\n",
            "positive x=44604\n",
            "now x=44605\n",
            "positive x=44605\n",
            "now x=44606\n",
            "positive x=44606\n",
            "now x=44607\n",
            "positive x=44607\n",
            "now x=44608\n",
            "positive x=44608\n",
            "now x=44609\n",
            "positive x=44609\n",
            "now x=44610\n",
            "positive x=44610\n",
            "now x=44611\n",
            "positive x=44611\n",
            "now x=44612\n",
            "positive x=44612\n",
            "now x=44613\n",
            "positive x=44613\n",
            "now x=44614\n",
            "positive x=44614\n",
            "now x=44615\n",
            "positive x=44615\n",
            "now x=44616\n",
            "positive x=44616\n",
            "now x=44617\n",
            "positive x=44617\n",
            "now x=44618\n",
            "positive x=44618\n",
            "now x=44619\n",
            "positive x=44619\n",
            "now x=44620\n",
            "positive x=44620\n",
            "now x=44621\n",
            "positive x=44621\n",
            "now x=44622\n",
            "positive x=44622\n",
            "now x=44623\n",
            "positive x=44623\n",
            "now x=44624\n",
            "positive x=44624\n",
            "now x=44625\n",
            "positive x=44625\n",
            "now x=44626\n",
            "positive x=44626\n",
            "now x=44627\n",
            "positive x=44627\n",
            "now x=44628\n",
            "positive x=44628\n",
            "now x=44629\n",
            "positive x=44629\n",
            "now x=44630\n",
            "positive x=44630\n",
            "now x=44631\n",
            "positive x=44631\n",
            "now x=44632\n",
            "positive x=44632\n",
            "now x=44633\n",
            "positive x=44633\n",
            "now x=44634\n",
            "positive x=44634\n",
            "now x=44635\n",
            "positive x=44635\n",
            "now x=44636\n",
            "positive x=44636\n",
            "now x=44637\n",
            "positive x=44637\n",
            "now x=44638\n",
            "positive x=44638\n",
            "now x=44639\n",
            "positive x=44639\n",
            "now x=44640\n",
            "positive x=44640\n",
            "now x=44641\n",
            "positive x=44641\n",
            "now x=44642\n",
            "positive x=44642\n",
            "now x=44643\n",
            "positive x=44643\n",
            "now x=44644\n",
            "positive x=44644\n",
            "now x=44645\n",
            "positive x=44645\n",
            "now x=44646\n",
            "positive x=44646\n",
            "now x=44647\n",
            "positive x=44647\n",
            "now x=44648\n",
            "positive x=44648\n",
            "now x=44649\n",
            "positive x=44649\n",
            "now x=44650\n",
            "positive x=44650\n",
            "now x=44651\n",
            "positive x=44651\n",
            "now x=44652\n",
            "positive x=44652\n",
            "now x=44653\n",
            "positive x=44653\n",
            "now x=44654\n",
            "positive x=44654\n",
            "now x=44655\n",
            "positive x=44655\n",
            "now x=44656\n",
            "positive x=44656\n",
            "now x=44657\n",
            "positive x=44657\n",
            "now x=44658\n",
            "positive x=44658\n",
            "now x=44659\n",
            "positive x=44659\n",
            "now x=44660\n",
            "positive x=44660\n",
            "now x=44661\n",
            "positive x=44661\n",
            "now x=44662\n",
            "positive x=44662\n",
            "now x=44663\n",
            "positive x=44663\n",
            "now x=44664\n",
            "positive x=44664\n",
            "now x=44665\n",
            "positive x=44665\n",
            "now x=44666\n",
            "positive x=44666\n",
            "now x=44667\n",
            "positive x=44667\n",
            "now x=44668\n",
            "positive x=44668\n",
            "now x=44669\n",
            "positive x=44669\n",
            "now x=44670\n",
            "positive x=44670\n",
            "now x=44671\n",
            "positive x=44671\n",
            "now x=44672\n",
            "positive x=44672\n",
            "now x=44673\n",
            "positive x=44673\n",
            "now x=44674\n",
            "positive x=44674\n",
            "now x=44675\n",
            "positive x=44675\n",
            "now x=44676\n",
            "positive x=44676\n",
            "now x=44677\n",
            "positive x=44677\n",
            "now x=44678\n",
            "positive x=44678\n",
            "now x=44679\n",
            "positive x=44679\n",
            "now x=44680\n",
            "positive x=44680\n",
            "now x=44681\n",
            "positive x=44681\n",
            "now x=44682\n",
            "positive x=44682\n",
            "now x=44683\n",
            "positive x=44683\n",
            "now x=44684\n",
            "positive x=44684\n",
            "now x=44685\n",
            "positive x=44685\n",
            "now x=44686\n",
            "positive x=44686\n",
            "now x=44687\n",
            "positive x=44687\n",
            "now x=44688\n",
            "positive x=44688\n",
            "now x=44689\n",
            "positive x=44689\n",
            "now x=44690\n",
            "positive x=44690\n",
            "now x=44691\n",
            "positive x=44691\n",
            "now x=44692\n",
            "positive x=44692\n",
            "now x=44693\n",
            "positive x=44693\n",
            "now x=44694\n",
            "positive x=44694\n",
            "now x=44695\n",
            "positive x=44695\n",
            "now x=44696\n",
            "positive x=44696\n",
            "now x=44697\n",
            "positive x=44697\n",
            "now x=44698\n",
            "positive x=44698\n",
            "now x=44699\n",
            "positive x=44699\n",
            "now x=44700\n",
            "positive x=44700\n",
            "now x=44701\n",
            "positive x=44701\n",
            "now x=44702\n",
            "positive x=44702\n",
            "now x=44703\n",
            "positive x=44703\n",
            "now x=44704\n",
            "positive x=44704\n",
            "now x=44705\n",
            "positive x=44705\n",
            "now x=44706\n",
            "positive x=44706\n",
            "now x=44707\n",
            "positive x=44707\n",
            "now x=44708\n",
            "positive x=44708\n",
            "now x=44709\n",
            "positive x=44709\n",
            "now x=44710\n",
            "positive x=44710\n",
            "now x=44711\n",
            "positive x=44711\n",
            "now x=44712\n",
            "positive x=44712\n",
            "now x=44713\n",
            "positive x=44713\n",
            "now x=44714\n",
            "positive x=44714\n",
            "now x=44715\n",
            "positive x=44715\n",
            "now x=44716\n",
            "positive x=44716\n",
            "now x=44717\n",
            "positive x=44717\n",
            "now x=44718\n",
            "positive x=44718\n",
            "now x=44719\n",
            "positive x=44719\n",
            "now x=44720\n",
            "positive x=44720\n",
            "now x=44721\n",
            "positive x=44721\n",
            "now x=44722\n",
            "positive x=44722\n",
            "now x=44723\n",
            "positive x=44723\n",
            "now x=44724\n",
            "positive x=44724\n",
            "now x=44725\n",
            "positive x=44725\n",
            "now x=44726\n",
            "positive x=44726\n",
            "now x=44727\n",
            "positive x=44727\n",
            "now x=44728\n",
            "positive x=44728\n",
            "now x=44729\n",
            "positive x=44729\n",
            "now x=44730\n",
            "positive x=44730\n",
            "now x=44731\n",
            "positive x=44731\n",
            "now x=44732\n",
            "positive x=44732\n",
            "now x=44733\n",
            "positive x=44733\n",
            "now x=44734\n",
            "positive x=44734\n",
            "now x=44735\n",
            "positive x=44735\n",
            "now x=44736\n",
            "positive x=44736\n",
            "now x=44737\n",
            "positive x=44737\n",
            "now x=44738\n",
            "positive x=44738\n",
            "now x=44739\n",
            "positive x=44739\n",
            "now x=44740\n",
            "positive x=44740\n",
            "now x=44741\n",
            "positive x=44741\n",
            "now x=44742\n",
            "positive x=44742\n",
            "now x=44743\n",
            "positive x=44743\n",
            "now x=44744\n",
            "positive x=44744\n",
            "now x=44745\n",
            "positive x=44745\n",
            "now x=44746\n",
            "positive x=44746\n",
            "now x=44747\n",
            "positive x=44747\n",
            "now x=44748\n",
            "positive x=44748\n",
            "now x=44749\n",
            "positive x=44749\n",
            "now x=44750\n",
            "positive x=44750\n",
            "now x=44751\n",
            "positive x=44751\n",
            "now x=44752\n",
            "positive x=44752\n",
            "now x=44753\n",
            "positive x=44753\n",
            "now x=44754\n",
            "positive x=44754\n",
            "now x=44755\n",
            "positive x=44755\n",
            "now x=44756\n",
            "positive x=44756\n",
            "now x=44757\n",
            "positive x=44757\n",
            "now x=44758\n",
            "positive x=44758\n",
            "now x=44759\n",
            "positive x=44759\n",
            "now x=44760\n",
            "positive x=44760\n",
            "now x=44761\n",
            "positive x=44761\n",
            "now x=44762\n",
            "positive x=44762\n",
            "now x=44763\n",
            "positive x=44763\n",
            "now x=44764\n",
            "positive x=44764\n",
            "now x=44765\n",
            "positive x=44765\n",
            "now x=44766\n",
            "positive x=44766\n",
            "now x=44767\n",
            "positive x=44767\n",
            "now x=44768\n",
            "positive x=44768\n",
            "now x=44769\n",
            "positive x=44769\n",
            "now x=44770\n",
            "positive x=44770\n",
            "now x=44771\n",
            "positive x=44771\n",
            "now x=44772\n",
            "positive x=44772\n",
            "now x=44773\n",
            "positive x=44773\n",
            "now x=44774\n",
            "positive x=44774\n",
            "now x=44775\n",
            "positive x=44775\n",
            "now x=44776\n",
            "positive x=44776\n",
            "now x=44777\n",
            "positive x=44777\n",
            "now x=44778\n",
            "positive x=44778\n",
            "now x=44779\n",
            "positive x=44779\n",
            "now x=44780\n",
            "positive x=44780\n",
            "now x=44781\n",
            "positive x=44781\n",
            "now x=44782\n",
            "positive x=44782\n",
            "now x=44783\n",
            "positive x=44783\n",
            "now x=44784\n",
            "positive x=44784\n",
            "now x=44785\n",
            "positive x=44785\n",
            "now x=44786\n",
            "positive x=44786\n",
            "now x=44787\n",
            "positive x=44787\n",
            "now x=44788\n",
            "positive x=44788\n",
            "now x=44789\n",
            "positive x=44789\n",
            "now x=44790\n",
            "positive x=44790\n",
            "now x=44791\n",
            "positive x=44791\n",
            "now x=44792\n",
            "positive x=44792\n",
            "now x=44793\n",
            "positive x=44793\n",
            "now x=44794\n",
            "positive x=44794\n",
            "now x=44795\n",
            "positive x=44795\n",
            "now x=44796\n",
            "positive x=44796\n",
            "now x=44797\n",
            "positive x=44797\n",
            "now x=44798\n",
            "positive x=44798\n",
            "now x=44799\n",
            "positive x=44799\n",
            "now x=44800\n",
            "positive x=44800\n",
            "now x=44801\n",
            "positive x=44801\n",
            "now x=44802\n",
            "positive x=44802\n",
            "now x=44803\n",
            "positive x=44803\n",
            "now x=44804\n",
            "positive x=44804\n",
            "now x=44805\n",
            "positive x=44805\n",
            "now x=44806\n",
            "positive x=44806\n",
            "now x=44807\n",
            "positive x=44807\n",
            "now x=44808\n",
            "positive x=44808\n",
            "now x=44809\n",
            "positive x=44809\n",
            "now x=44810\n",
            "positive x=44810\n",
            "now x=44811\n",
            "positive x=44811\n",
            "now x=44812\n",
            "positive x=44812\n",
            "now x=44813\n",
            "positive x=44813\n",
            "now x=44814\n",
            "positive x=44814\n",
            "now x=44815\n",
            "positive x=44815\n",
            "now x=44816\n",
            "positive x=44816\n",
            "now x=44817\n",
            "positive x=44817\n",
            "now x=44818\n",
            "positive x=44818\n",
            "now x=44819\n",
            "positive x=44819\n",
            "now x=44820\n",
            "positive x=44820\n",
            "now x=44821\n",
            "positive x=44821\n",
            "now x=44822\n",
            "positive x=44822\n",
            "now x=44823\n",
            "positive x=44823\n",
            "now x=44824\n",
            "positive x=44824\n",
            "now x=44825\n",
            "positive x=44825\n",
            "now x=44826\n",
            "positive x=44826\n",
            "now x=44827\n",
            "positive x=44827\n",
            "now x=44828\n",
            "positive x=44828\n",
            "now x=44829\n",
            "positive x=44829\n",
            "now x=44830\n",
            "positive x=44830\n",
            "now x=44831\n",
            "positive x=44831\n",
            "now x=44832\n",
            "positive x=44832\n",
            "now x=44833\n",
            "positive x=44833\n",
            "now x=44834\n",
            "positive x=44834\n",
            "now x=44835\n",
            "positive x=44835\n",
            "now x=44836\n",
            "positive x=44836\n",
            "now x=44837\n",
            "positive x=44837\n",
            "now x=44838\n",
            "positive x=44838\n",
            "now x=44839\n",
            "positive x=44839\n",
            "now x=44840\n",
            "positive x=44840\n",
            "now x=44841\n",
            "positive x=44841\n",
            "now x=44842\n",
            "positive x=44842\n",
            "now x=44843\n",
            "positive x=44843\n",
            "now x=44844\n",
            "positive x=44844\n",
            "now x=44845\n",
            "positive x=44845\n",
            "now x=44846\n",
            "positive x=44846\n",
            "now x=44847\n",
            "positive x=44847\n",
            "now x=44848\n",
            "positive x=44848\n",
            "now x=44849\n",
            "positive x=44849\n",
            "now x=44850\n",
            "positive x=44850\n",
            "now x=44851\n",
            "positive x=44851\n",
            "now x=44852\n",
            "positive x=44852\n",
            "now x=44853\n",
            "positive x=44853\n",
            "now x=44854\n",
            "positive x=44854\n",
            "now x=44855\n",
            "positive x=44855\n",
            "now x=44856\n",
            "positive x=44856\n",
            "now x=44857\n",
            "positive x=44857\n",
            "now x=44858\n",
            "positive x=44858\n",
            "now x=44859\n",
            "positive x=44859\n",
            "now x=44860\n",
            "positive x=44860\n",
            "now x=44861\n",
            "positive x=44861\n",
            "now x=44862\n",
            "positive x=44862\n",
            "now x=44863\n",
            "positive x=44863\n",
            "now x=44864\n",
            "positive x=44864\n",
            "now x=44865\n",
            "positive x=44865\n",
            "now x=44866\n",
            "positive x=44866\n",
            "now x=44867\n",
            "positive x=44867\n",
            "now x=44868\n",
            "positive x=44868\n",
            "now x=44869\n",
            "positive x=44869\n",
            "now x=44870\n",
            "positive x=44870\n",
            "now x=44871\n",
            "positive x=44871\n",
            "now x=44872\n",
            "positive x=44872\n",
            "now x=44873\n",
            "positive x=44873\n",
            "now x=44874\n",
            "positive x=44874\n",
            "now x=44875\n",
            "positive x=44875\n",
            "now x=44876\n",
            "positive x=44876\n",
            "now x=44877\n",
            "positive x=44877\n",
            "now x=44878\n",
            "positive x=44878\n",
            "now x=44879\n",
            "positive x=44879\n",
            "now x=44880\n",
            "positive x=44880\n",
            "now x=44881\n",
            "positive x=44881\n",
            "now x=44882\n",
            "positive x=44882\n",
            "now x=44883\n",
            "positive x=44883\n",
            "now x=44884\n",
            "positive x=44884\n",
            "now x=44885\n",
            "positive x=44885\n",
            "now x=44886\n",
            "positive x=44886\n",
            "now x=44887\n",
            "positive x=44887\n",
            "now x=44888\n",
            "positive x=44888\n",
            "now x=44889\n",
            "positive x=44889\n",
            "now x=44890\n",
            "positive x=44890\n",
            "now x=44891\n",
            "positive x=44891\n",
            "now x=44892\n",
            "positive x=44892\n",
            "now x=44893\n",
            "positive x=44893\n",
            "now x=44894\n",
            "positive x=44894\n",
            "now x=44895\n",
            "positive x=44895\n",
            "now x=44896\n",
            "positive x=44896\n",
            "now x=44897\n",
            "positive x=44897\n",
            "now x=44898\n",
            "positive x=44898\n",
            "now x=44899\n",
            "positive x=44899\n",
            "now x=44900\n",
            "positive x=44900\n",
            "now x=44901\n",
            "positive x=44901\n",
            "now x=44902\n",
            "positive x=44902\n",
            "now x=44903\n",
            "positive x=44903\n",
            "now x=44904\n",
            "positive x=44904\n",
            "now x=44905\n",
            "positive x=44905\n",
            "now x=44906\n",
            "positive x=44906\n",
            "now x=44907\n",
            "positive x=44907\n",
            "now x=44908\n",
            "positive x=44908\n",
            "now x=44909\n",
            "positive x=44909\n",
            "now x=44910\n",
            "positive x=44910\n",
            "now x=44911\n",
            "positive x=44911\n",
            "now x=44912\n",
            "positive x=44912\n",
            "now x=44913\n",
            "positive x=44913\n",
            "now x=44914\n",
            "positive x=44914\n",
            "now x=44915\n",
            "positive x=44915\n",
            "now x=44916\n",
            "positive x=44916\n",
            "now x=44917\n",
            "positive x=44917\n",
            "now x=44918\n",
            "positive x=44918\n",
            "now x=44919\n",
            "positive x=44919\n",
            "now x=44920\n",
            "positive x=44920\n",
            "now x=44921\n",
            "positive x=44921\n",
            "now x=44922\n",
            "positive x=44922\n",
            "now x=44923\n",
            "positive x=44923\n",
            "now x=44924\n",
            "positive x=44924\n",
            "now x=44925\n",
            "positive x=44925\n",
            "now x=44926\n",
            "positive x=44926\n",
            "now x=44927\n",
            "positive x=44927\n",
            "now x=44928\n",
            "positive x=44928\n",
            "now x=44929\n",
            "positive x=44929\n",
            "now x=44930\n",
            "positive x=44930\n",
            "now x=44931\n",
            "positive x=44931\n",
            "now x=44932\n",
            "positive x=44932\n",
            "now x=44933\n",
            "positive x=44933\n",
            "now x=44934\n",
            "positive x=44934\n",
            "now x=44935\n",
            "positive x=44935\n",
            "now x=44936\n",
            "positive x=44936\n",
            "now x=44937\n",
            "positive x=44937\n",
            "now x=44938\n",
            "positive x=44938\n",
            "now x=44939\n",
            "positive x=44939\n",
            "now x=44940\n",
            "positive x=44940\n",
            "now x=44941\n",
            "positive x=44941\n",
            "now x=44942\n",
            "positive x=44942\n",
            "now x=44943\n",
            "positive x=44943\n",
            "now x=44944\n",
            "positive x=44944\n",
            "now x=44945\n",
            "positive x=44945\n",
            "now x=44946\n",
            "positive x=44946\n",
            "now x=44947\n",
            "positive x=44947\n",
            "now x=44948\n",
            "positive x=44948\n",
            "now x=44949\n",
            "positive x=44949\n",
            "now x=44950\n",
            "positive x=44950\n",
            "now x=44951\n",
            "positive x=44951\n",
            "now x=44952\n",
            "positive x=44952\n",
            "now x=44953\n",
            "positive x=44953\n",
            "now x=44954\n",
            "positive x=44954\n",
            "now x=44955\n",
            "positive x=44955\n",
            "now x=44956\n",
            "positive x=44956\n",
            "now x=44957\n",
            "positive x=44957\n",
            "now x=44958\n",
            "positive x=44958\n",
            "now x=44959\n",
            "positive x=44959\n",
            "now x=44960\n",
            "positive x=44960\n",
            "now x=44961\n",
            "positive x=44961\n",
            "now x=44962\n",
            "positive x=44962\n",
            "now x=44963\n",
            "positive x=44963\n",
            "now x=44964\n",
            "positive x=44964\n",
            "now x=44965\n",
            "positive x=44965\n",
            "now x=44966\n",
            "positive x=44966\n",
            "now x=44967\n",
            "positive x=44967\n",
            "now x=44968\n",
            "positive x=44968\n",
            "now x=44969\n",
            "positive x=44969\n",
            "now x=44970\n",
            "positive x=44970\n",
            "now x=44971\n",
            "positive x=44971\n",
            "now x=44972\n",
            "positive x=44972\n",
            "now x=44973\n",
            "positive x=44973\n",
            "now x=44974\n",
            "positive x=44974\n",
            "now x=44975\n",
            "positive x=44975\n",
            "now x=44976\n",
            "positive x=44976\n",
            "now x=44977\n",
            "positive x=44977\n",
            "now x=44978\n",
            "positive x=44978\n",
            "now x=44979\n",
            "positive x=44979\n",
            "now x=44980\n",
            "positive x=44980\n",
            "now x=44981\n",
            "positive x=44981\n",
            "now x=44982\n",
            "positive x=44982\n",
            "now x=44983\n",
            "positive x=44983\n",
            "now x=44984\n",
            "positive x=44984\n",
            "now x=44985\n",
            "positive x=44985\n",
            "now x=44986\n",
            "positive x=44986\n",
            "now x=44987\n",
            "positive x=44987\n",
            "now x=44988\n",
            "positive x=44988\n",
            "now x=44989\n",
            "positive x=44989\n",
            "now x=44990\n",
            "positive x=44990\n",
            "now x=44991\n",
            "positive x=44991\n",
            "now x=44992\n",
            "positive x=44992\n",
            "now x=44993\n",
            "positive x=44993\n",
            "now x=44994\n",
            "positive x=44994\n",
            "now x=44995\n",
            "positive x=44995\n",
            "now x=44996\n",
            "positive x=44996\n",
            "now x=44997\n",
            "positive x=44997\n",
            "now x=44998\n",
            "positive x=44998\n",
            "now x=44999\n",
            "positive x=44999\n",
            "now x=45000\n",
            "positive x=45000\n",
            "now x=45001\n",
            "positive x=45001\n",
            "now x=45002\n",
            "positive x=45002\n",
            "now x=45003\n",
            "positive x=45003\n",
            "now x=45004\n",
            "positive x=45004\n",
            "now x=45005\n",
            "positive x=45005\n",
            "now x=45006\n",
            "positive x=45006\n",
            "now x=45007\n",
            "positive x=45007\n",
            "now x=45008\n",
            "positive x=45008\n",
            "now x=45009\n",
            "positive x=45009\n",
            "now x=45010\n",
            "positive x=45010\n",
            "now x=45011\n",
            "positive x=45011\n",
            "now x=45012\n",
            "positive x=45012\n",
            "now x=45013\n",
            "positive x=45013\n",
            "now x=45014\n",
            "positive x=45014\n",
            "now x=45015\n",
            "positive x=45015\n",
            "now x=45016\n",
            "positive x=45016\n",
            "now x=45017\n",
            "positive x=45017\n",
            "now x=45018\n",
            "positive x=45018\n",
            "now x=45019\n",
            "positive x=45019\n",
            "now x=45020\n",
            "positive x=45020\n",
            "now x=45021\n",
            "positive x=45021\n",
            "now x=45022\n",
            "positive x=45022\n",
            "now x=45023\n",
            "positive x=45023\n",
            "now x=45024\n",
            "positive x=45024\n",
            "now x=45025\n",
            "positive x=45025\n",
            "now x=45026\n",
            "positive x=45026\n",
            "now x=45027\n",
            "positive x=45027\n",
            "now x=45028\n",
            "positive x=45028\n",
            "now x=45029\n",
            "positive x=45029\n",
            "now x=45030\n",
            "positive x=45030\n",
            "now x=45031\n",
            "positive x=45031\n",
            "now x=45032\n",
            "positive x=45032\n",
            "now x=45033\n",
            "positive x=45033\n",
            "now x=45034\n",
            "positive x=45034\n",
            "now x=45035\n",
            "positive x=45035\n",
            "now x=45036\n",
            "positive x=45036\n",
            "now x=45037\n",
            "positive x=45037\n",
            "now x=45038\n",
            "positive x=45038\n",
            "now x=45039\n",
            "positive x=45039\n",
            "now x=45040\n",
            "positive x=45040\n",
            "now x=45041\n",
            "positive x=45041\n",
            "now x=45042\n",
            "positive x=45042\n",
            "now x=45043\n",
            "positive x=45043\n",
            "now x=45044\n",
            "positive x=45044\n",
            "now x=45045\n",
            "positive x=45045\n",
            "now x=45046\n",
            "positive x=45046\n",
            "now x=45047\n",
            "positive x=45047\n",
            "now x=45048\n",
            "positive x=45048\n",
            "now x=45049\n",
            "positive x=45049\n",
            "now x=45050\n",
            "positive x=45050\n",
            "now x=45051\n",
            "positive x=45051\n",
            "now x=45052\n",
            "positive x=45052\n",
            "now x=45053\n",
            "positive x=45053\n",
            "now x=45054\n",
            "positive x=45054\n",
            "now x=45055\n",
            "positive x=45055\n",
            "now x=45056\n",
            "positive x=45056\n",
            "now x=45057\n",
            "positive x=45057\n",
            "now x=45058\n",
            "positive x=45058\n",
            "now x=45059\n",
            "positive x=45059\n",
            "now x=45060\n",
            "positive x=45060\n",
            "now x=45061\n",
            "positive x=45061\n",
            "now x=45062\n",
            "positive x=45062\n",
            "now x=45063\n",
            "positive x=45063\n",
            "now x=45064\n",
            "positive x=45064\n",
            "now x=45065\n",
            "positive x=45065\n",
            "now x=45066\n",
            "positive x=45066\n",
            "now x=45067\n",
            "positive x=45067\n",
            "now x=45068\n",
            "positive x=45068\n",
            "now x=45069\n",
            "positive x=45069\n",
            "now x=45070\n",
            "positive x=45070\n",
            "now x=45071\n",
            "positive x=45071\n",
            "now x=45072\n",
            "positive x=45072\n",
            "now x=45073\n",
            "positive x=45073\n",
            "now x=45074\n",
            "positive x=45074\n",
            "now x=45075\n",
            "positive x=45075\n",
            "now x=45076\n",
            "positive x=45076\n",
            "now x=45077\n",
            "positive x=45077\n",
            "now x=45078\n",
            "positive x=45078\n",
            "now x=45079\n",
            "positive x=45079\n",
            "now x=45080\n",
            "positive x=45080\n",
            "now x=45081\n",
            "positive x=45081\n",
            "now x=45082\n",
            "positive x=45082\n",
            "now x=45083\n",
            "positive x=45083\n",
            "now x=45084\n",
            "positive x=45084\n",
            "now x=45085\n",
            "positive x=45085\n",
            "now x=45086\n",
            "positive x=45086\n",
            "now x=45087\n",
            "positive x=45087\n",
            "now x=45088\n",
            "positive x=45088\n",
            "now x=45089\n",
            "positive x=45089\n",
            "now x=45090\n",
            "positive x=45090\n",
            "now x=45091\n",
            "positive x=45091\n",
            "now x=45092\n",
            "positive x=45092\n",
            "now x=45093\n",
            "positive x=45093\n",
            "now x=45094\n",
            "positive x=45094\n",
            "now x=45095\n",
            "positive x=45095\n",
            "now x=45096\n",
            "positive x=45096\n",
            "now x=45097\n",
            "positive x=45097\n",
            "now x=45098\n",
            "positive x=45098\n",
            "now x=45099\n",
            "positive x=45099\n",
            "now x=45100\n",
            "positive x=45100\n",
            "now x=45101\n",
            "positive x=45101\n",
            "now x=45102\n",
            "positive x=45102\n",
            "now x=45103\n",
            "positive x=45103\n",
            "now x=45104\n",
            "positive x=45104\n",
            "now x=45105\n",
            "positive x=45105\n",
            "now x=45106\n",
            "positive x=45106\n",
            "now x=45107\n",
            "positive x=45107\n",
            "now x=45108\n",
            "positive x=45108\n",
            "now x=45109\n",
            "positive x=45109\n",
            "now x=45110\n",
            "positive x=45110\n",
            "now x=45111\n",
            "positive x=45111\n",
            "now x=45112\n",
            "positive x=45112\n",
            "now x=45113\n",
            "positive x=45113\n",
            "now x=45114\n",
            "positive x=45114\n",
            "now x=45115\n",
            "positive x=45115\n",
            "now x=45116\n",
            "positive x=45116\n",
            "now x=45117\n",
            "positive x=45117\n",
            "now x=45118\n",
            "positive x=45118\n",
            "now x=45119\n",
            "positive x=45119\n",
            "now x=45120\n",
            "positive x=45120\n",
            "now x=45121\n",
            "positive x=45121\n",
            "now x=45122\n",
            "positive x=45122\n",
            "now x=45123\n",
            "positive x=45123\n",
            "now x=45124\n",
            "positive x=45124\n",
            "now x=45125\n",
            "positive x=45125\n",
            "now x=45126\n",
            "positive x=45126\n",
            "now x=45127\n",
            "positive x=45127\n",
            "now x=45128\n",
            "positive x=45128\n",
            "now x=45129\n",
            "positive x=45129\n",
            "now x=45130\n",
            "positive x=45130\n",
            "now x=45131\n",
            "positive x=45131\n",
            "now x=45132\n",
            "positive x=45132\n",
            "now x=45133\n",
            "positive x=45133\n",
            "now x=45134\n",
            "positive x=45134\n",
            "now x=45135\n",
            "positive x=45135\n",
            "now x=45136\n",
            "positive x=45136\n",
            "now x=45137\n",
            "positive x=45137\n",
            "now x=45138\n",
            "positive x=45138\n",
            "now x=45139\n",
            "positive x=45139\n",
            "now x=45140\n",
            "positive x=45140\n",
            "now x=45141\n",
            "positive x=45141\n",
            "now x=45142\n",
            "positive x=45142\n",
            "now x=45143\n",
            "positive x=45143\n",
            "now x=45144\n",
            "positive x=45144\n",
            "now x=45145\n",
            "positive x=45145\n",
            "now x=45146\n",
            "positive x=45146\n",
            "now x=45147\n",
            "positive x=45147\n",
            "now x=45148\n",
            "positive x=45148\n",
            "now x=45149\n",
            "positive x=45149\n",
            "now x=45150\n",
            "positive x=45150\n",
            "now x=45151\n",
            "positive x=45151\n",
            "now x=45152\n",
            "positive x=45152\n",
            "now x=45153\n",
            "positive x=45153\n",
            "now x=45154\n",
            "positive x=45154\n",
            "now x=45155\n",
            "positive x=45155\n",
            "now x=45156\n",
            "positive x=45156\n",
            "now x=45157\n",
            "positive x=45157\n",
            "now x=45158\n",
            "positive x=45158\n",
            "now x=45159\n",
            "positive x=45159\n",
            "now x=45160\n",
            "positive x=45160\n",
            "now x=45161\n",
            "positive x=45161\n",
            "now x=45162\n",
            "positive x=45162\n",
            "now x=45163\n",
            "positive x=45163\n",
            "now x=45164\n",
            "positive x=45164\n",
            "now x=45165\n",
            "positive x=45165\n",
            "now x=45166\n",
            "positive x=45166\n",
            "now x=45167\n",
            "positive x=45167\n",
            "now x=45168\n",
            "positive x=45168\n",
            "now x=45169\n",
            "positive x=45169\n",
            "now x=45170\n",
            "positive x=45170\n",
            "now x=45171\n",
            "positive x=45171\n",
            "now x=45172\n",
            "positive x=45172\n",
            "now x=45173\n",
            "positive x=45173\n",
            "now x=45174\n",
            "positive x=45174\n",
            "now x=45175\n",
            "positive x=45175\n",
            "now x=45176\n",
            "positive x=45176\n",
            "now x=45177\n",
            "positive x=45177\n",
            "now x=45178\n",
            "positive x=45178\n",
            "now x=45179\n",
            "positive x=45179\n",
            "now x=45180\n",
            "positive x=45180\n",
            "now x=45181\n",
            "positive x=45181\n",
            "now x=45182\n",
            "positive x=45182\n",
            "now x=45183\n",
            "positive x=45183\n",
            "now x=45184\n",
            "positive x=45184\n",
            "now x=45185\n",
            "positive x=45185\n",
            "now x=45186\n",
            "positive x=45186\n",
            "now x=45187\n",
            "positive x=45187\n",
            "now x=45188\n",
            "positive x=45188\n",
            "now x=45189\n",
            "positive x=45189\n",
            "now x=45190\n",
            "positive x=45190\n",
            "now x=45191\n",
            "positive x=45191\n",
            "now x=45192\n",
            "positive x=45192\n",
            "now x=45193\n",
            "positive x=45193\n",
            "now x=45194\n",
            "positive x=45194\n",
            "now x=45195\n",
            "positive x=45195\n",
            "now x=45196\n",
            "positive x=45196\n",
            "now x=45197\n",
            "positive x=45197\n",
            "now x=45198\n",
            "positive x=45198\n",
            "now x=45199\n",
            "positive x=45199\n",
            "now x=45200\n",
            "positive x=45200\n",
            "now x=45201\n",
            "positive x=45201\n",
            "now x=45202\n",
            "positive x=45202\n",
            "now x=45203\n",
            "positive x=45203\n",
            "now x=45204\n",
            "positive x=45204\n",
            "now x=45205\n",
            "positive x=45205\n",
            "now x=45206\n",
            "positive x=45206\n",
            "now x=45207\n",
            "positive x=45207\n",
            "now x=45208\n",
            "positive x=45208\n",
            "now x=45209\n",
            "positive x=45209\n",
            "now x=45210\n",
            "positive x=45210\n",
            "now x=45211\n",
            "positive x=45211\n",
            "now x=45212\n",
            "positive x=45212\n",
            "now x=45213\n",
            "positive x=45213\n",
            "now x=45214\n",
            "positive x=45214\n",
            "now x=45215\n",
            "positive x=45215\n",
            "now x=45216\n",
            "positive x=45216\n",
            "now x=45217\n",
            "positive x=45217\n",
            "now x=45218\n",
            "positive x=45218\n",
            "now x=45219\n",
            "positive x=45219\n",
            "now x=45220\n",
            "positive x=45220\n",
            "now x=45221\n",
            "positive x=45221\n",
            "now x=45222\n",
            "positive x=45222\n",
            "now x=45223\n",
            "positive x=45223\n",
            "now x=45224\n",
            "positive x=45224\n",
            "now x=45225\n",
            "positive x=45225\n",
            "now x=45226\n",
            "positive x=45226\n",
            "now x=45227\n",
            "positive x=45227\n",
            "now x=45228\n",
            "positive x=45228\n",
            "now x=45229\n",
            "positive x=45229\n",
            "now x=45230\n",
            "positive x=45230\n",
            "now x=45231\n",
            "positive x=45231\n",
            "now x=45232\n",
            "positive x=45232\n",
            "now x=45233\n",
            "positive x=45233\n",
            "now x=45234\n",
            "positive x=45234\n",
            "now x=45235\n",
            "positive x=45235\n",
            "now x=45236\n",
            "positive x=45236\n",
            "now x=45237\n",
            "positive x=45237\n",
            "now x=45238\n",
            "positive x=45238\n",
            "now x=45239\n",
            "positive x=45239\n",
            "now x=45240\n",
            "positive x=45240\n",
            "now x=45241\n",
            "positive x=45241\n",
            "now x=45242\n",
            "positive x=45242\n",
            "now x=45243\n",
            "positive x=45243\n",
            "now x=45244\n",
            "positive x=45244\n",
            "now x=45245\n",
            "positive x=45245\n",
            "now x=45246\n",
            "positive x=45246\n",
            "now x=45247\n",
            "positive x=45247\n",
            "now x=45248\n",
            "positive x=45248\n",
            "now x=45249\n",
            "positive x=45249\n",
            "now x=45250\n",
            "positive x=45250\n",
            "now x=45251\n",
            "positive x=45251\n",
            "now x=45252\n",
            "positive x=45252\n",
            "now x=45253\n",
            "positive x=45253\n",
            "now x=45254\n",
            "positive x=45254\n",
            "now x=45255\n",
            "positive x=45255\n",
            "now x=45256\n",
            "positive x=45256\n",
            "now x=45257\n",
            "positive x=45257\n",
            "now x=45258\n",
            "positive x=45258\n",
            "now x=45259\n",
            "positive x=45259\n",
            "now x=45260\n",
            "positive x=45260\n",
            "now x=45261\n",
            "positive x=45261\n",
            "now x=45262\n",
            "positive x=45262\n",
            "now x=45263\n",
            "positive x=45263\n",
            "now x=45264\n",
            "positive x=45264\n",
            "now x=45265\n",
            "positive x=45265\n",
            "now x=45266\n",
            "positive x=45266\n",
            "now x=45267\n",
            "positive x=45267\n",
            "now x=45268\n",
            "positive x=45268\n",
            "now x=45269\n",
            "positive x=45269\n",
            "now x=45270\n",
            "positive x=45270\n",
            "now x=45271\n",
            "positive x=45271\n",
            "now x=45272\n",
            "positive x=45272\n",
            "now x=45273\n",
            "positive x=45273\n",
            "now x=45274\n",
            "positive x=45274\n",
            "now x=45275\n",
            "positive x=45275\n",
            "now x=45276\n",
            "positive x=45276\n",
            "now x=45277\n",
            "positive x=45277\n",
            "now x=45278\n",
            "positive x=45278\n",
            "now x=45279\n",
            "positive x=45279\n",
            "now x=45280\n",
            "positive x=45280\n",
            "now x=45281\n",
            "positive x=45281\n",
            "now x=45282\n",
            "positive x=45282\n",
            "now x=45283\n",
            "positive x=45283\n",
            "now x=45284\n",
            "positive x=45284\n",
            "now x=45285\n",
            "positive x=45285\n",
            "now x=45286\n",
            "positive x=45286\n",
            "now x=45287\n",
            "positive x=45287\n",
            "now x=45288\n",
            "positive x=45288\n",
            "now x=45289\n",
            "positive x=45289\n",
            "now x=45290\n",
            "positive x=45290\n",
            "now x=45291\n",
            "positive x=45291\n",
            "now x=45292\n",
            "positive x=45292\n",
            "now x=45293\n",
            "positive x=45293\n",
            "now x=45294\n",
            "positive x=45294\n",
            "now x=45295\n",
            "positive x=45295\n",
            "now x=45296\n",
            "positive x=45296\n",
            "now x=45297\n",
            "positive x=45297\n",
            "now x=45298\n",
            "positive x=45298\n",
            "now x=45299\n",
            "positive x=45299\n",
            "now x=45300\n",
            "positive x=45300\n",
            "now x=45301\n",
            "positive x=45301\n",
            "now x=45302\n",
            "positive x=45302\n",
            "now x=45303\n",
            "positive x=45303\n",
            "now x=45304\n",
            "positive x=45304\n",
            "now x=45305\n",
            "positive x=45305\n",
            "now x=45306\n",
            "positive x=45306\n",
            "now x=45307\n",
            "positive x=45307\n",
            "now x=45308\n",
            "positive x=45308\n",
            "now x=45309\n",
            "positive x=45309\n",
            "now x=45310\n",
            "positive x=45310\n",
            "now x=45311\n",
            "positive x=45311\n",
            "now x=45312\n",
            "positive x=45312\n",
            "now x=45313\n",
            "positive x=45313\n",
            "now x=45314\n",
            "positive x=45314\n",
            "now x=45315\n",
            "positive x=45315\n",
            "now x=45316\n",
            "positive x=45316\n",
            "now x=45317\n",
            "positive x=45317\n",
            "now x=45318\n",
            "positive x=45318\n",
            "now x=45319\n",
            "positive x=45319\n",
            "now x=45320\n",
            "positive x=45320\n",
            "now x=45321\n",
            "positive x=45321\n",
            "now x=45322\n",
            "positive x=45322\n",
            "now x=45323\n",
            "positive x=45323\n",
            "now x=45324\n",
            "positive x=45324\n",
            "now x=45325\n",
            "positive x=45325\n",
            "now x=45326\n",
            "positive x=45326\n",
            "now x=45327\n",
            "positive x=45327\n",
            "now x=45328\n",
            "positive x=45328\n",
            "now x=45329\n",
            "positive x=45329\n",
            "now x=45330\n",
            "positive x=45330\n",
            "now x=45331\n",
            "positive x=45331\n",
            "now x=45332\n",
            "positive x=45332\n",
            "now x=45333\n",
            "positive x=45333\n",
            "now x=45334\n",
            "positive x=45334\n",
            "now x=45335\n",
            "positive x=45335\n",
            "now x=45336\n",
            "positive x=45336\n",
            "now x=45337\n",
            "positive x=45337\n",
            "now x=45338\n",
            "positive x=45338\n",
            "now x=45339\n",
            "positive x=45339\n",
            "now x=45340\n",
            "positive x=45340\n",
            "now x=45341\n",
            "positive x=45341\n",
            "now x=45342\n",
            "positive x=45342\n",
            "now x=45343\n",
            "positive x=45343\n",
            "now x=45344\n",
            "positive x=45344\n",
            "now x=45345\n",
            "positive x=45345\n",
            "now x=45346\n",
            "positive x=45346\n",
            "now x=45347\n",
            "positive x=45347\n",
            "now x=45348\n",
            "positive x=45348\n",
            "now x=45349\n",
            "positive x=45349\n",
            "now x=45350\n",
            "positive x=45350\n",
            "now x=45351\n",
            "positive x=45351\n",
            "now x=45352\n",
            "positive x=45352\n",
            "now x=45353\n",
            "positive x=45353\n",
            "now x=45354\n",
            "positive x=45354\n",
            "now x=45355\n",
            "positive x=45355\n",
            "now x=45356\n",
            "positive x=45356\n",
            "now x=45357\n",
            "positive x=45357\n",
            "now x=45358\n",
            "positive x=45358\n",
            "now x=45359\n",
            "positive x=45359\n",
            "now x=45360\n",
            "positive x=45360\n",
            "now x=45361\n",
            "positive x=45361\n",
            "now x=45362\n",
            "positive x=45362\n",
            "now x=45363\n",
            "positive x=45363\n",
            "now x=45364\n",
            "positive x=45364\n",
            "now x=45365\n",
            "positive x=45365\n",
            "now x=45366\n",
            "positive x=45366\n",
            "now x=45367\n",
            "positive x=45367\n",
            "now x=45368\n",
            "positive x=45368\n",
            "now x=45369\n",
            "positive x=45369\n",
            "now x=45370\n",
            "positive x=45370\n",
            "now x=45371\n",
            "positive x=45371\n",
            "now x=45372\n",
            "positive x=45372\n",
            "now x=45373\n",
            "positive x=45373\n",
            "now x=45374\n",
            "positive x=45374\n",
            "now x=45375\n",
            "positive x=45375\n",
            "now x=45376\n",
            "positive x=45376\n",
            "now x=45377\n",
            "positive x=45377\n",
            "now x=45378\n",
            "positive x=45378\n",
            "now x=45379\n",
            "positive x=45379\n",
            "now x=45380\n",
            "positive x=45380\n",
            "now x=45381\n",
            "positive x=45381\n",
            "now x=45382\n",
            "positive x=45382\n",
            "now x=45383\n",
            "positive x=45383\n",
            "now x=45384\n",
            "positive x=45384\n",
            "now x=45385\n",
            "positive x=45385\n",
            "now x=45386\n",
            "positive x=45386\n",
            "now x=45387\n",
            "positive x=45387\n",
            "now x=45388\n",
            "positive x=45388\n",
            "now x=45389\n",
            "positive x=45389\n",
            "now x=45390\n",
            "positive x=45390\n",
            "now x=45391\n",
            "positive x=45391\n",
            "now x=45392\n",
            "positive x=45392\n",
            "now x=45393\n",
            "positive x=45393\n",
            "now x=45394\n",
            "positive x=45394\n",
            "now x=45395\n",
            "positive x=45395\n",
            "now x=45396\n",
            "positive x=45396\n",
            "now x=45397\n",
            "positive x=45397\n",
            "now x=45398\n",
            "positive x=45398\n",
            "now x=45399\n",
            "positive x=45399\n",
            "now x=45400\n",
            "positive x=45400\n",
            "now x=45401\n",
            "positive x=45401\n",
            "now x=45402\n",
            "positive x=45402\n",
            "now x=45403\n",
            "positive x=45403\n",
            "now x=45404\n",
            "positive x=45404\n",
            "now x=45405\n",
            "positive x=45405\n",
            "now x=45406\n",
            "positive x=45406\n",
            "now x=45407\n",
            "positive x=45407\n",
            "now x=45408\n",
            "positive x=45408\n",
            "now x=45409\n",
            "positive x=45409\n",
            "now x=45410\n",
            "positive x=45410\n",
            "now x=45411\n",
            "positive x=45411\n",
            "now x=45412\n",
            "positive x=45412\n",
            "now x=45413\n",
            "positive x=45413\n",
            "now x=45414\n",
            "positive x=45414\n",
            "now x=45415\n",
            "positive x=45415\n",
            "now x=45416\n",
            "positive x=45416\n",
            "now x=45417\n",
            "positive x=45417\n",
            "now x=45418\n",
            "positive x=45418\n",
            "now x=45419\n",
            "positive x=45419\n",
            "now x=45420\n",
            "positive x=45420\n",
            "now x=45421\n",
            "positive x=45421\n",
            "now x=45422\n",
            "positive x=45422\n",
            "now x=45423\n",
            "positive x=45423\n",
            "now x=45424\n",
            "positive x=45424\n",
            "now x=45425\n",
            "positive x=45425\n",
            "now x=45426\n",
            "positive x=45426\n",
            "now x=45427\n",
            "positive x=45427\n",
            "now x=45428\n",
            "positive x=45428\n",
            "now x=45429\n",
            "positive x=45429\n",
            "now x=45430\n",
            "positive x=45430\n",
            "now x=45431\n",
            "positive x=45431\n",
            "now x=45432\n",
            "positive x=45432\n",
            "now x=45433\n",
            "positive x=45433\n",
            "now x=45434\n",
            "positive x=45434\n",
            "now x=45435\n",
            "positive x=45435\n",
            "now x=45436\n",
            "positive x=45436\n",
            "now x=45437\n",
            "positive x=45437\n",
            "now x=45438\n",
            "positive x=45438\n",
            "now x=45439\n",
            "positive x=45439\n",
            "now x=45440\n",
            "positive x=45440\n",
            "now x=45441\n",
            "positive x=45441\n",
            "now x=45442\n",
            "positive x=45442\n",
            "now x=45443\n",
            "positive x=45443\n",
            "now x=45444\n",
            "positive x=45444\n",
            "now x=45445\n",
            "positive x=45445\n",
            "now x=45446\n",
            "positive x=45446\n",
            "now x=45447\n",
            "positive x=45447\n",
            "now x=45448\n",
            "positive x=45448\n",
            "now x=45449\n",
            "positive x=45449\n",
            "now x=45450\n",
            "positive x=45450\n",
            "now x=45451\n",
            "positive x=45451\n",
            "now x=45452\n",
            "positive x=45452\n",
            "now x=45453\n",
            "positive x=45453\n",
            "now x=45454\n",
            "positive x=45454\n",
            "now x=45455\n",
            "positive x=45455\n",
            "now x=45456\n",
            "positive x=45456\n",
            "now x=45457\n",
            "positive x=45457\n",
            "now x=45458\n",
            "positive x=45458\n",
            "now x=45459\n",
            "positive x=45459\n",
            "now x=45460\n",
            "positive x=45460\n",
            "now x=45461\n",
            "positive x=45461\n",
            "now x=45462\n",
            "positive x=45462\n",
            "now x=45463\n",
            "positive x=45463\n",
            "now x=45464\n",
            "positive x=45464\n",
            "now x=45465\n",
            "positive x=45465\n",
            "now x=45466\n",
            "positive x=45466\n",
            "now x=45467\n",
            "positive x=45467\n",
            "now x=45468\n",
            "positive x=45468\n",
            "now x=45469\n",
            "positive x=45469\n",
            "now x=45470\n",
            "positive x=45470\n",
            "now x=45471\n",
            "positive x=45471\n",
            "now x=45472\n",
            "positive x=45472\n",
            "now x=45473\n",
            "positive x=45473\n",
            "now x=45474\n",
            "positive x=45474\n",
            "now x=45475\n",
            "positive x=45475\n",
            "now x=45476\n",
            "positive x=45476\n",
            "now x=45477\n",
            "positive x=45477\n",
            "now x=45478\n",
            "positive x=45478\n",
            "now x=45479\n",
            "positive x=45479\n",
            "now x=45480\n",
            "positive x=45480\n",
            "now x=45481\n",
            "positive x=45481\n",
            "now x=45482\n",
            "positive x=45482\n",
            "now x=45483\n",
            "positive x=45483\n",
            "now x=45484\n",
            "positive x=45484\n",
            "now x=45485\n",
            "positive x=45485\n",
            "now x=45486\n",
            "positive x=45486\n",
            "now x=45487\n",
            "positive x=45487\n",
            "now x=45488\n",
            "positive x=45488\n",
            "now x=45489\n",
            "positive x=45489\n",
            "now x=45490\n",
            "positive x=45490\n",
            "now x=45491\n",
            "positive x=45491\n",
            "now x=45492\n",
            "positive x=45492\n",
            "now x=45493\n",
            "positive x=45493\n",
            "now x=45494\n",
            "positive x=45494\n",
            "now x=45495\n",
            "positive x=45495\n",
            "now x=45496\n",
            "positive x=45496\n",
            "now x=45497\n",
            "positive x=45497\n",
            "now x=45498\n",
            "positive x=45498\n",
            "now x=45499\n",
            "positive x=45499\n",
            "now x=45500\n",
            "positive x=45500\n",
            "now x=45501\n",
            "positive x=45501\n",
            "now x=45502\n",
            "positive x=45502\n",
            "now x=45503\n",
            "positive x=45503\n",
            "now x=45504\n",
            "positive x=45504\n",
            "now x=45505\n",
            "positive x=45505\n",
            "now x=45506\n",
            "positive x=45506\n",
            "now x=45507\n",
            "positive x=45507\n",
            "now x=45508\n",
            "positive x=45508\n",
            "now x=45509\n",
            "positive x=45509\n",
            "now x=45510\n",
            "positive x=45510\n",
            "now x=45511\n",
            "positive x=45511\n",
            "now x=45512\n",
            "positive x=45512\n",
            "now x=45513\n",
            "positive x=45513\n",
            "now x=45514\n",
            "positive x=45514\n",
            "now x=45515\n",
            "positive x=45515\n",
            "now x=45516\n",
            "positive x=45516\n",
            "now x=45517\n",
            "positive x=45517\n",
            "now x=45518\n",
            "positive x=45518\n",
            "now x=45519\n",
            "positive x=45519\n",
            "now x=45520\n",
            "positive x=45520\n",
            "now x=45521\n",
            "positive x=45521\n",
            "now x=45522\n",
            "positive x=45522\n",
            "now x=45523\n",
            "positive x=45523\n",
            "now x=45524\n",
            "positive x=45524\n",
            "now x=45525\n",
            "positive x=45525\n",
            "now x=45526\n",
            "positive x=45526\n",
            "now x=45527\n",
            "positive x=45527\n",
            "now x=45528\n",
            "positive x=45528\n",
            "now x=45529\n",
            "positive x=45529\n",
            "now x=45530\n",
            "positive x=45530\n",
            "now x=45531\n",
            "positive x=45531\n",
            "now x=45532\n",
            "positive x=45532\n",
            "now x=45533\n",
            "positive x=45533\n",
            "now x=45534\n",
            "positive x=45534\n",
            "now x=45535\n",
            "positive x=45535\n",
            "now x=45536\n",
            "positive x=45536\n",
            "now x=45537\n",
            "positive x=45537\n",
            "now x=45538\n",
            "positive x=45538\n",
            "now x=45539\n",
            "positive x=45539\n",
            "now x=45540\n",
            "positive x=45540\n",
            "now x=45541\n",
            "positive x=45541\n",
            "now x=45542\n",
            "positive x=45542\n",
            "now x=45543\n",
            "positive x=45543\n",
            "now x=45544\n",
            "positive x=45544\n",
            "now x=45545\n",
            "positive x=45545\n",
            "now x=45546\n",
            "positive x=45546\n",
            "now x=45547\n",
            "positive x=45547\n",
            "now x=45548\n",
            "positive x=45548\n",
            "now x=45549\n",
            "positive x=45549\n",
            "now x=45550\n",
            "positive x=45550\n",
            "now x=45551\n",
            "positive x=45551\n",
            "now x=45552\n",
            "positive x=45552\n",
            "now x=45553\n",
            "positive x=45553\n",
            "now x=45554\n",
            "positive x=45554\n",
            "now x=45555\n",
            "positive x=45555\n",
            "now x=45556\n",
            "positive x=45556\n",
            "now x=45557\n",
            "positive x=45557\n",
            "now x=45558\n",
            "positive x=45558\n",
            "now x=45559\n",
            "positive x=45559\n",
            "now x=45560\n",
            "positive x=45560\n",
            "now x=45561\n",
            "positive x=45561\n",
            "now x=45562\n",
            "positive x=45562\n",
            "now x=45563\n",
            "positive x=45563\n",
            "now x=45564\n",
            "positive x=45564\n",
            "now x=45565\n",
            "positive x=45565\n",
            "now x=45566\n",
            "positive x=45566\n",
            "now x=45567\n",
            "positive x=45567\n",
            "now x=45568\n",
            "positive x=45568\n",
            "now x=45569\n",
            "positive x=45569\n",
            "now x=45570\n",
            "positive x=45570\n",
            "now x=45571\n",
            "positive x=45571\n",
            "now x=45572\n",
            "positive x=45572\n",
            "now x=45573\n",
            "positive x=45573\n",
            "now x=45574\n",
            "positive x=45574\n",
            "now x=45575\n",
            "positive x=45575\n",
            "now x=45576\n",
            "positive x=45576\n",
            "now x=45577\n",
            "positive x=45577\n",
            "now x=45578\n",
            "positive x=45578\n",
            "now x=45579\n",
            "positive x=45579\n",
            "now x=45580\n",
            "positive x=45580\n",
            "now x=45581\n",
            "positive x=45581\n",
            "now x=45582\n",
            "positive x=45582\n",
            "now x=45583\n",
            "positive x=45583\n",
            "now x=45584\n",
            "positive x=45584\n",
            "now x=45585\n",
            "positive x=45585\n",
            "now x=45586\n",
            "positive x=45586\n",
            "now x=45587\n",
            "positive x=45587\n",
            "now x=45588\n",
            "positive x=45588\n",
            "now x=45589\n",
            "positive x=45589\n",
            "now x=45590\n",
            "positive x=45590\n",
            "now x=45591\n",
            "positive x=45591\n",
            "now x=45592\n",
            "positive x=45592\n",
            "now x=45593\n",
            "positive x=45593\n",
            "now x=45594\n",
            "positive x=45594\n",
            "now x=45595\n",
            "positive x=45595\n",
            "now x=45596\n",
            "positive x=45596\n",
            "now x=45597\n",
            "positive x=45597\n",
            "now x=45598\n",
            "positive x=45598\n",
            "now x=45599\n",
            "positive x=45599\n",
            "now x=45600\n",
            "positive x=45600\n",
            "now x=45601\n",
            "positive x=45601\n",
            "now x=45602\n",
            "positive x=45602\n",
            "now x=45603\n",
            "positive x=45603\n",
            "now x=45604\n",
            "positive x=45604\n",
            "now x=45605\n",
            "positive x=45605\n",
            "now x=45606\n",
            "positive x=45606\n",
            "now x=45607\n",
            "positive x=45607\n",
            "now x=45608\n",
            "positive x=45608\n",
            "now x=45609\n",
            "positive x=45609\n",
            "now x=45610\n",
            "positive x=45610\n",
            "now x=45611\n",
            "positive x=45611\n",
            "now x=45612\n",
            "positive x=45612\n",
            "now x=45613\n",
            "positive x=45613\n",
            "now x=45614\n",
            "positive x=45614\n",
            "now x=45615\n",
            "positive x=45615\n",
            "now x=45616\n",
            "positive x=45616\n",
            "now x=45617\n",
            "positive x=45617\n",
            "now x=45618\n",
            "positive x=45618\n",
            "now x=45619\n",
            "positive x=45619\n",
            "now x=45620\n",
            "positive x=45620\n",
            "now x=45621\n",
            "positive x=45621\n",
            "now x=45622\n",
            "positive x=45622\n",
            "now x=45623\n",
            "positive x=45623\n",
            "now x=45624\n",
            "positive x=45624\n",
            "now x=45625\n",
            "positive x=45625\n",
            "now x=45626\n",
            "positive x=45626\n",
            "now x=45627\n",
            "positive x=45627\n",
            "now x=45628\n",
            "positive x=45628\n",
            "now x=45629\n",
            "positive x=45629\n",
            "now x=45630\n",
            "positive x=45630\n",
            "now x=45631\n",
            "positive x=45631\n",
            "now x=45632\n",
            "positive x=45632\n",
            "now x=45633\n",
            "positive x=45633\n",
            "now x=45634\n",
            "positive x=45634\n",
            "now x=45635\n",
            "positive x=45635\n",
            "now x=45636\n",
            "positive x=45636\n",
            "now x=45637\n",
            "positive x=45637\n",
            "now x=45638\n",
            "positive x=45638\n",
            "now x=45639\n",
            "positive x=45639\n",
            "now x=45640\n",
            "positive x=45640\n",
            "now x=45641\n",
            "positive x=45641\n",
            "now x=45642\n",
            "positive x=45642\n",
            "now x=45643\n",
            "positive x=45643\n",
            "now x=45644\n",
            "positive x=45644\n",
            "now x=45645\n",
            "positive x=45645\n",
            "now x=45646\n",
            "positive x=45646\n",
            "now x=45647\n",
            "positive x=45647\n",
            "now x=45648\n",
            "positive x=45648\n",
            "now x=45649\n",
            "positive x=45649\n",
            "now x=45650\n",
            "positive x=45650\n",
            "now x=45651\n",
            "positive x=45651\n",
            "now x=45652\n",
            "positive x=45652\n",
            "now x=45653\n",
            "positive x=45653\n",
            "now x=45654\n",
            "positive x=45654\n",
            "now x=45655\n",
            "positive x=45655\n",
            "now x=45656\n",
            "positive x=45656\n",
            "now x=45657\n",
            "positive x=45657\n",
            "now x=45658\n",
            "positive x=45658\n",
            "now x=45659\n",
            "positive x=45659\n",
            "now x=45660\n",
            "positive x=45660\n",
            "now x=45661\n",
            "positive x=45661\n",
            "now x=45662\n",
            "positive x=45662\n",
            "now x=45663\n",
            "positive x=45663\n",
            "now x=45664\n",
            "positive x=45664\n",
            "now x=45665\n",
            "positive x=45665\n",
            "now x=45666\n",
            "positive x=45666\n",
            "now x=45667\n",
            "positive x=45667\n",
            "now x=45668\n",
            "positive x=45668\n",
            "now x=45669\n",
            "positive x=45669\n",
            "now x=45670\n",
            "positive x=45670\n",
            "now x=45671\n",
            "positive x=45671\n",
            "now x=45672\n",
            "positive x=45672\n",
            "now x=45673\n",
            "positive x=45673\n",
            "now x=45674\n",
            "positive x=45674\n",
            "now x=45675\n",
            "positive x=45675\n",
            "now x=45676\n",
            "positive x=45676\n",
            "now x=45677\n",
            "positive x=45677\n",
            "now x=45678\n",
            "positive x=45678\n",
            "now x=45679\n",
            "positive x=45679\n",
            "now x=45680\n",
            "positive x=45680\n",
            "now x=45681\n",
            "positive x=45681\n",
            "now x=45682\n",
            "positive x=45682\n",
            "now x=45683\n",
            "positive x=45683\n",
            "now x=45684\n",
            "positive x=45684\n",
            "now x=45685\n",
            "positive x=45685\n",
            "now x=45686\n",
            "positive x=45686\n",
            "now x=45687\n",
            "positive x=45687\n",
            "now x=45688\n",
            "positive x=45688\n",
            "now x=45689\n",
            "positive x=45689\n",
            "now x=45690\n",
            "positive x=45690\n",
            "now x=45691\n",
            "positive x=45691\n",
            "now x=45692\n",
            "positive x=45692\n",
            "now x=45693\n",
            "positive x=45693\n",
            "now x=45694\n",
            "positive x=45694\n",
            "now x=45695\n",
            "positive x=45695\n",
            "now x=45696\n",
            "positive x=45696\n",
            "now x=45697\n",
            "positive x=45697\n",
            "now x=45698\n",
            "positive x=45698\n",
            "now x=45699\n",
            "positive x=45699\n",
            "now x=45700\n",
            "positive x=45700\n",
            "now x=45701\n",
            "positive x=45701\n",
            "now x=45702\n",
            "positive x=45702\n",
            "now x=45703\n",
            "positive x=45703\n",
            "now x=45704\n",
            "positive x=45704\n",
            "now x=45705\n",
            "positive x=45705\n",
            "now x=45706\n",
            "positive x=45706\n",
            "now x=45707\n",
            "positive x=45707\n",
            "now x=45708\n",
            "positive x=45708\n",
            "now x=45709\n",
            "positive x=45709\n",
            "now x=45710\n",
            "positive x=45710\n",
            "now x=45711\n",
            "positive x=45711\n",
            "now x=45712\n",
            "positive x=45712\n",
            "now x=45713\n",
            "positive x=45713\n",
            "now x=45714\n",
            "positive x=45714\n",
            "now x=45715\n",
            "positive x=45715\n",
            "now x=45716\n",
            "positive x=45716\n",
            "now x=45717\n",
            "positive x=45717\n",
            "now x=45718\n",
            "positive x=45718\n",
            "now x=45719\n",
            "positive x=45719\n",
            "now x=45720\n",
            "positive x=45720\n",
            "now x=45721\n",
            "positive x=45721\n",
            "now x=45722\n",
            "positive x=45722\n",
            "now x=45723\n",
            "positive x=45723\n",
            "now x=45724\n",
            "positive x=45724\n",
            "now x=45725\n",
            "positive x=45725\n",
            "now x=45726\n",
            "positive x=45726\n",
            "now x=45727\n",
            "positive x=45727\n",
            "now x=45728\n",
            "positive x=45728\n",
            "now x=45729\n",
            "positive x=45729\n",
            "now x=45730\n",
            "positive x=45730\n",
            "now x=45731\n",
            "positive x=45731\n",
            "now x=45732\n",
            "positive x=45732\n",
            "now x=45733\n",
            "positive x=45733\n",
            "now x=45734\n",
            "positive x=45734\n",
            "now x=45735\n",
            "positive x=45735\n",
            "now x=45736\n",
            "positive x=45736\n",
            "now x=45737\n",
            "positive x=45737\n",
            "now x=45738\n",
            "positive x=45738\n",
            "now x=45739\n",
            "positive x=45739\n",
            "now x=45740\n",
            "positive x=45740\n",
            "now x=45741\n",
            "positive x=45741\n",
            "now x=45742\n",
            "positive x=45742\n",
            "now x=45743\n",
            "positive x=45743\n",
            "now x=45744\n",
            "positive x=45744\n",
            "now x=45745\n",
            "positive x=45745\n",
            "now x=45746\n",
            "positive x=45746\n",
            "now x=45747\n",
            "positive x=45747\n",
            "now x=45748\n",
            "positive x=45748\n",
            "now x=45749\n",
            "positive x=45749\n",
            "now x=45750\n",
            "positive x=45750\n",
            "now x=45751\n",
            "positive x=45751\n",
            "now x=45752\n",
            "positive x=45752\n",
            "now x=45753\n",
            "positive x=45753\n",
            "now x=45754\n",
            "positive x=45754\n",
            "now x=45755\n",
            "positive x=45755\n",
            "now x=45756\n",
            "positive x=45756\n",
            "now x=45757\n",
            "positive x=45757\n",
            "now x=45758\n",
            "positive x=45758\n",
            "now x=45759\n",
            "positive x=45759\n",
            "now x=45760\n",
            "positive x=45760\n",
            "now x=45761\n",
            "positive x=45761\n",
            "now x=45762\n",
            "positive x=45762\n",
            "now x=45763\n",
            "positive x=45763\n",
            "now x=45764\n",
            "positive x=45764\n",
            "now x=45765\n",
            "positive x=45765\n",
            "now x=45766\n",
            "positive x=45766\n",
            "now x=45767\n",
            "positive x=45767\n",
            "now x=45768\n",
            "positive x=45768\n",
            "now x=45769\n",
            "positive x=45769\n",
            "now x=45770\n",
            "positive x=45770\n",
            "now x=45771\n",
            "positive x=45771\n",
            "now x=45772\n",
            "positive x=45772\n",
            "now x=45773\n",
            "positive x=45773\n",
            "now x=45774\n",
            "positive x=45774\n",
            "now x=45775\n",
            "positive x=45775\n",
            "now x=45776\n",
            "positive x=45776\n",
            "now x=45777\n",
            "positive x=45777\n",
            "now x=45778\n",
            "positive x=45778\n",
            "now x=45779\n",
            "positive x=45779\n",
            "now x=45780\n",
            "positive x=45780\n",
            "now x=45781\n",
            "positive x=45781\n",
            "now x=45782\n",
            "positive x=45782\n",
            "now x=45783\n",
            "positive x=45783\n",
            "now x=45784\n",
            "positive x=45784\n",
            "now x=45785\n",
            "positive x=45785\n",
            "now x=45786\n",
            "positive x=45786\n",
            "now x=45787\n",
            "positive x=45787\n",
            "now x=45788\n",
            "positive x=45788\n",
            "now x=45789\n",
            "positive x=45789\n",
            "now x=45790\n",
            "positive x=45790\n",
            "now x=45791\n",
            "positive x=45791\n",
            "now x=45792\n",
            "positive x=45792\n",
            "now x=45793\n",
            "positive x=45793\n",
            "now x=45794\n",
            "positive x=45794\n",
            "now x=45795\n",
            "positive x=45795\n",
            "now x=45796\n",
            "positive x=45796\n",
            "now x=45797\n",
            "positive x=45797\n",
            "now x=45798\n",
            "positive x=45798\n",
            "now x=45799\n",
            "positive x=45799\n",
            "now x=45800\n",
            "positive x=45800\n",
            "now x=45801\n",
            "positive x=45801\n",
            "now x=45802\n",
            "positive x=45802\n",
            "now x=45803\n",
            "positive x=45803\n",
            "now x=45804\n",
            "positive x=45804\n",
            "now x=45805\n",
            "positive x=45805\n",
            "now x=45806\n",
            "positive x=45806\n",
            "now x=45807\n",
            "positive x=45807\n",
            "now x=45808\n",
            "positive x=45808\n",
            "now x=45809\n",
            "positive x=45809\n",
            "now x=45810\n",
            "positive x=45810\n",
            "now x=45811\n",
            "positive x=45811\n",
            "now x=45812\n",
            "positive x=45812\n",
            "now x=45813\n",
            "positive x=45813\n",
            "now x=45814\n",
            "positive x=45814\n",
            "now x=45815\n",
            "positive x=45815\n",
            "now x=45816\n",
            "positive x=45816\n",
            "now x=45817\n",
            "positive x=45817\n",
            "now x=45818\n",
            "positive x=45818\n",
            "now x=45819\n",
            "positive x=45819\n",
            "now x=45820\n",
            "positive x=45820\n",
            "now x=45821\n",
            "positive x=45821\n",
            "now x=45822\n",
            "positive x=45822\n",
            "now x=45823\n",
            "positive x=45823\n",
            "now x=45824\n",
            "positive x=45824\n",
            "now x=45825\n",
            "positive x=45825\n"
          ]
        },
        {
          "output_type": "error",
          "ename": "KeyboardInterrupt",
          "evalue": "",
          "traceback": [
            "\u001b[0;31m---------------------------------------------------------------------------\u001b[0m",
            "\u001b[0;31mKeyboardInterrupt\u001b[0m                         Traceback (most recent call last)",
            "\u001b[0;32m<ipython-input-7-e2a7e4ab2506>\u001b[0m in \u001b[0;36m<cell line: 3>\u001b[0;34m()\u001b[0m\n\u001b[1;32m      2\u001b[0m \u001b[0;34m\u001b[0m\u001b[0m\n\u001b[1;32m      3\u001b[0m \u001b[0;32mwhile\u001b[0m \u001b[0mx\u001b[0m \u001b[0;34m>\u001b[0m \u001b[0;36m0\u001b[0m\u001b[0;34m:\u001b[0m\u001b[0;34m\u001b[0m\u001b[0;34m\u001b[0m\u001b[0m\n\u001b[0;32m----> 4\u001b[0;31m   \u001b[0mprint\u001b[0m\u001b[0;34m(\u001b[0m\u001b[0;34m\"positive x=\"\u001b[0m \u001b[0;34m+\u001b[0m \u001b[0mstr\u001b[0m\u001b[0;34m(\u001b[0m\u001b[0mx\u001b[0m\u001b[0;34m)\u001b[0m\u001b[0;34m)\u001b[0m\u001b[0;34m\u001b[0m\u001b[0;34m\u001b[0m\u001b[0m\n\u001b[0m\u001b[1;32m      5\u001b[0m   \u001b[0mx\u001b[0m \u001b[0;34m=\u001b[0m \u001b[0mx\u001b[0m \u001b[0;34m+\u001b[0m \u001b[0;36m1\u001b[0m\u001b[0;34m\u001b[0m\u001b[0;34m\u001b[0m\u001b[0m\n\u001b[1;32m      6\u001b[0m   \u001b[0mprint\u001b[0m\u001b[0;34m(\u001b[0m\u001b[0;34m\"now x=\"\u001b[0m \u001b[0;34m+\u001b[0m \u001b[0mstr\u001b[0m\u001b[0;34m(\u001b[0m\u001b[0mx\u001b[0m\u001b[0;34m)\u001b[0m\u001b[0;34m)\u001b[0m\u001b[0;34m\u001b[0m\u001b[0;34m\u001b[0m\u001b[0m\n",
            "\u001b[0;32m/usr/local/lib/python3.10/dist-packages/ipykernel/iostream.py\u001b[0m in \u001b[0;36mwrite\u001b[0;34m(self, string)\u001b[0m\n\u001b[1;32m    400\u001b[0m             \u001b[0mis_child\u001b[0m \u001b[0;34m=\u001b[0m \u001b[0;34m(\u001b[0m\u001b[0;32mnot\u001b[0m \u001b[0mself\u001b[0m\u001b[0;34m.\u001b[0m\u001b[0m_is_master_process\u001b[0m\u001b[0;34m(\u001b[0m\u001b[0;34m)\u001b[0m\u001b[0;34m)\u001b[0m\u001b[0;34m\u001b[0m\u001b[0;34m\u001b[0m\u001b[0m\n\u001b[1;32m    401\u001b[0m             \u001b[0;31m# only touch the buffer in the IO thread to avoid races\u001b[0m\u001b[0;34m\u001b[0m\u001b[0;34m\u001b[0m\u001b[0m\n\u001b[0;32m--> 402\u001b[0;31m             \u001b[0mself\u001b[0m\u001b[0;34m.\u001b[0m\u001b[0mpub_thread\u001b[0m\u001b[0;34m.\u001b[0m\u001b[0mschedule\u001b[0m\u001b[0;34m(\u001b[0m\u001b[0;32mlambda\u001b[0m \u001b[0;34m:\u001b[0m \u001b[0mself\u001b[0m\u001b[0;34m.\u001b[0m\u001b[0m_buffer\u001b[0m\u001b[0;34m.\u001b[0m\u001b[0mwrite\u001b[0m\u001b[0;34m(\u001b[0m\u001b[0mstring\u001b[0m\u001b[0;34m)\u001b[0m\u001b[0;34m)\u001b[0m\u001b[0;34m\u001b[0m\u001b[0;34m\u001b[0m\u001b[0m\n\u001b[0m\u001b[1;32m    403\u001b[0m             \u001b[0;32mif\u001b[0m \u001b[0mis_child\u001b[0m\u001b[0;34m:\u001b[0m\u001b[0;34m\u001b[0m\u001b[0;34m\u001b[0m\u001b[0m\n\u001b[1;32m    404\u001b[0m                 \u001b[0;31m# mp.Pool cannot be trusted to flush promptly (or ever),\u001b[0m\u001b[0;34m\u001b[0m\u001b[0;34m\u001b[0m\u001b[0m\n",
            "\u001b[0;32m/usr/local/lib/python3.10/dist-packages/ipykernel/iostream.py\u001b[0m in \u001b[0;36mschedule\u001b[0;34m(self, f)\u001b[0m\n\u001b[1;32m    201\u001b[0m             \u001b[0mself\u001b[0m\u001b[0;34m.\u001b[0m\u001b[0m_events\u001b[0m\u001b[0;34m.\u001b[0m\u001b[0mappend\u001b[0m\u001b[0;34m(\u001b[0m\u001b[0mf\u001b[0m\u001b[0;34m)\u001b[0m\u001b[0;34m\u001b[0m\u001b[0;34m\u001b[0m\u001b[0m\n\u001b[1;32m    202\u001b[0m             \u001b[0;31m# wake event thread (message content is ignored)\u001b[0m\u001b[0;34m\u001b[0m\u001b[0;34m\u001b[0m\u001b[0m\n\u001b[0;32m--> 203\u001b[0;31m             \u001b[0mself\u001b[0m\u001b[0;34m.\u001b[0m\u001b[0m_event_pipe\u001b[0m\u001b[0;34m.\u001b[0m\u001b[0msend\u001b[0m\u001b[0;34m(\u001b[0m\u001b[0;34mb''\u001b[0m\u001b[0;34m)\u001b[0m\u001b[0;34m\u001b[0m\u001b[0;34m\u001b[0m\u001b[0m\n\u001b[0m\u001b[1;32m    204\u001b[0m         \u001b[0;32melse\u001b[0m\u001b[0;34m:\u001b[0m\u001b[0;34m\u001b[0m\u001b[0;34m\u001b[0m\u001b[0m\n\u001b[1;32m    205\u001b[0m             \u001b[0mf\u001b[0m\u001b[0;34m(\u001b[0m\u001b[0;34m)\u001b[0m\u001b[0;34m\u001b[0m\u001b[0;34m\u001b[0m\u001b[0m\n",
            "\u001b[0;32m/usr/local/lib/python3.10/dist-packages/zmq/sugar/socket.py\u001b[0m in \u001b[0;36msend\u001b[0;34m(self, data, flags, copy, track, routing_id, group)\u001b[0m\n\u001b[1;32m    616\u001b[0m                 )\n\u001b[1;32m    617\u001b[0m             \u001b[0mdata\u001b[0m\u001b[0;34m.\u001b[0m\u001b[0mgroup\u001b[0m \u001b[0;34m=\u001b[0m \u001b[0mgroup\u001b[0m\u001b[0;34m\u001b[0m\u001b[0;34m\u001b[0m\u001b[0m\n\u001b[0;32m--> 618\u001b[0;31m         \u001b[0;32mreturn\u001b[0m \u001b[0msuper\u001b[0m\u001b[0;34m(\u001b[0m\u001b[0;34m)\u001b[0m\u001b[0;34m.\u001b[0m\u001b[0msend\u001b[0m\u001b[0;34m(\u001b[0m\u001b[0mdata\u001b[0m\u001b[0;34m,\u001b[0m \u001b[0mflags\u001b[0m\u001b[0;34m=\u001b[0m\u001b[0mflags\u001b[0m\u001b[0;34m,\u001b[0m \u001b[0mcopy\u001b[0m\u001b[0;34m=\u001b[0m\u001b[0mcopy\u001b[0m\u001b[0;34m,\u001b[0m \u001b[0mtrack\u001b[0m\u001b[0;34m=\u001b[0m\u001b[0mtrack\u001b[0m\u001b[0;34m)\u001b[0m\u001b[0;34m\u001b[0m\u001b[0;34m\u001b[0m\u001b[0m\n\u001b[0m\u001b[1;32m    619\u001b[0m \u001b[0;34m\u001b[0m\u001b[0m\n\u001b[1;32m    620\u001b[0m     def send_multipart(\n",
            "\u001b[0;32mzmq/backend/cython/socket.pyx\u001b[0m in \u001b[0;36mzmq.backend.cython.socket.Socket.send\u001b[0;34m()\u001b[0m\n",
            "\u001b[0;32mzmq/backend/cython/socket.pyx\u001b[0m in \u001b[0;36mzmq.backend.cython.socket.Socket.send\u001b[0;34m()\u001b[0m\n",
            "\u001b[0;32mzmq/backend/cython/socket.pyx\u001b[0m in \u001b[0;36mzmq.backend.cython.socket._send_copy\u001b[0;34m()\u001b[0m\n",
            "\u001b[0;32m/usr/local/lib/python3.10/dist-packages/zmq/backend/cython/checkrc.pxd\u001b[0m in \u001b[0;36mzmq.backend.cython.checkrc._check_rc\u001b[0;34m()\u001b[0m\n",
            "\u001b[0;31mKeyboardInterrupt\u001b[0m: "
          ]
        }
      ]
    },
    {
      "cell_type": "markdown",
      "source": [
        "\n",
        "**for** loop iterates over a sequence of values."
      ],
      "metadata": {
        "id": "mBicYfLNgqBU"
      }
    },
    {
      "cell_type": "code",
      "source": [
        "for x in range(3):\n",
        "  print(\"x=\" + str(x))"
      ],
      "metadata": {
        "colab": {
          "base_uri": "https://localhost:8080/"
        },
        "id": "ItDfsx5-grSM",
        "outputId": "69885468-91ad-48e9-cf53-4c5e4f336550"
      },
      "execution_count": null,
      "outputs": [
        {
          "output_type": "stream",
          "name": "stdout",
          "text": [
            "x=0\n",
            "x=1\n",
            "x=2\n"
          ]
        }
      ]
    },
    {
      "cell_type": "markdown",
      "source": [
        "**for** loop also can do this"
      ],
      "metadata": {
        "id": "KP3gITscXRvz"
      }
    },
    {
      "cell_type": "code",
      "source": [
        "sentences = ['Bangkit', \"2024\", \"H1\"]\n",
        "for word in sentences:\n",
        "  print(word)"
      ],
      "metadata": {
        "colab": {
          "base_uri": "https://localhost:8080/"
        },
        "id": "fgOIIQDAXKgH",
        "outputId": "7000b027-9900-4128-f09a-0944924e0823"
      },
      "execution_count": null,
      "outputs": [
        {
          "output_type": "stream",
          "name": "stdout",
          "text": [
            "Bangkit\n",
            "2024\n",
            "H1\n"
          ]
        }
      ]
    },
    {
      "cell_type": "markdown",
      "source": [
        "Both while and for loops can be interrupted using the **break** keyword.\n",
        "\n"
      ],
      "metadata": {
        "id": "Nr8XRQx6hMYI"
      }
    },
    {
      "cell_type": "code",
      "source": [
        "for x in range(3):\n",
        "    print(\"x=\" + str(x))\n",
        "    if x == 1:\n",
        "        break  # quit from loop\n"
      ],
      "metadata": {
        "colab": {
          "base_uri": "https://localhost:8080/"
        },
        "id": "vt5AIOQtg5wd",
        "outputId": "776c03cb-e108-4527-9aae-16bfdfd1e33c"
      },
      "execution_count": null,
      "outputs": [
        {
          "output_type": "stream",
          "name": "stdout",
          "text": [
            "x=0\n",
            "x=1\n"
          ]
        }
      ]
    },
    {
      "cell_type": "markdown",
      "source": [
        "Use the **continue** keyword to skip the current iteration and continue with the next one."
      ],
      "metadata": {
        "id": "LAdX1_e6hU2x"
      }
    },
    {
      "cell_type": "code",
      "source": [
        "for x in range(3, 0, -1):\n",
        "    if x % 2 == 0:\n",
        "        continue  # skip even\n",
        "    print(x)\n"
      ],
      "metadata": {
        "colab": {
          "base_uri": "https://localhost:8080/"
        },
        "id": "KWEYYL7AhO4t",
        "outputId": "65d8c845-5980-45f0-b5d1-c53e9c0f2577"
      },
      "execution_count": null,
      "outputs": [
        {
          "output_type": "stream",
          "name": "stdout",
          "text": [
            "3\n",
            "1\n"
          ]
        }
      ]
    },
    {
      "cell_type": "markdown",
      "source": [
        "\n",
        "**`Mini Quiz`**\n",
        "---\n",
        "What will happen if we run this program?"
      ],
      "metadata": {
        "id": "JTFKUFTAYevF"
      }
    },
    {
      "cell_type": "code",
      "source": [
        "x = 0\n",
        "\n",
        "while x < 10:\n",
        "  print(\"x=\" + str(x))\n",
        "  x = x - 1\n",
        "  print(\"x=\" + str(x))\n"
      ],
      "metadata": {
        "id": "9Vp19oogYqf8"
      },
      "execution_count": null,
      "outputs": []
    },
    {
      "cell_type": "markdown",
      "source": [
        "## Python Data Structure\n"
      ],
      "metadata": {
        "id": "QkwBAt7HhsIU"
      }
    },
    {
      "cell_type": "markdown",
      "source": [
        "### Strings\n",
        "\n",
        "* **Represent a piece of text**.\n",
        "\n",
        "String is a data type in Python employed to represent a piece of text. It’s written between quotes, either single quotes, double quotes, or triple quotes. Escape character using backslash (\\).\n",
        "\n",
        "String can be as short as zero characters (empty string) or significantly long. String concatenation using plus sign (+). The **len** function tells the number of characters contained in the string.\n"
      ],
      "metadata": {
        "id": "2A_xK5CkiPcx"
      }
    },
    {
      "cell_type": "code",
      "source": [
        "program_name = 'bangkit'\n",
        "program_year = \"it's the 2nd\"\n",
        "multi_line = \"\"\"hello,\n",
        "email test.\n",
        "signature.\"\"\"\n",
        "\n",
        "# let's\n",
        "# \"bangkit\"\n",
        "print(\"let's\\n\\\"\"+program_name+\"\\\"\")\n",
        "\n",
        "\n",
        "print(len(''))  # 0\n",
        "print(len(program_name)==7)  # True\n"
      ],
      "metadata": {
        "colab": {
          "base_uri": "https://localhost:8080/"
        },
        "id": "cZFRNf77i91s",
        "outputId": "346f3621-f77c-4497-bf24-89102b7ab44a"
      },
      "execution_count": null,
      "outputs": [
        {
          "output_type": "stream",
          "name": "stdout",
          "text": [
            "let's\n",
            "\"bangkit\"\n",
            "0\n",
            "True\n"
          ]
        }
      ]
    },
    {
      "cell_type": "markdown",
      "source": [
        "* **To access substring, use index or slicing**.\n",
        "\n",
        "Python starts counting indexes from 0 not 1. Access index greater than its length - 1, triggers index out of range. Negative indexes starts from behind.\n",
        "\n",
        "To access substring, use slicing, similar to index, with range using a colon as a separator, starts from first number, up to 1 less than last.\n",
        "\n",
        "Slicing with one of two indexes means the other index is either 0 for the first value or its length for the second value.\n"
      ],
      "metadata": {
        "id": "A0vx0h5Yi-oc"
      }
    },
    {
      "cell_type": "code",
      "source": [
        "name = 'bangkit'\n",
        "print(name[1])  # a\n",
        "print(name[len(name)-1])  # t\n",
        "print(name[-1])  # t\n",
        "print(name[-2])  # i\n",
        "\n",
        "print(name[4:len(name)-1])  # ki\n",
        "\n",
        "print(name[:4])  # bang (0-3)\n",
        "print(name[4:])  # kit  (4-len)"
      ],
      "metadata": {
        "colab": {
          "base_uri": "https://localhost:8080/"
        },
        "id": "CWK5PbZMhP-E",
        "outputId": "9776e5bc-2df2-42ad-9e03-51b9cdb04355"
      },
      "execution_count": null,
      "outputs": [
        {
          "output_type": "stream",
          "name": "stdout",
          "text": [
            "a\n",
            "t\n",
            "t\n",
            "i\n",
            "ki\n",
            "bang\n",
            "kit\n"
          ]
        }
      ]
    },
    {
      "cell_type": "markdown",
      "source": [
        "* **Strings in Python are immutable**\n",
        "\n",
        "Strings in Python are immutable, meaning they can't be modified, can’t change individual characters. It'll trigger TypeError object does not support item assignment.\n",
        "\n",
        "To change string, replace it with the new string.\n",
        "\n",
        "Use in keyword to check if substring is a part of the string."
      ],
      "metadata": {
        "id": "oM--5287iyJO"
      }
    },
    {
      "cell_type": "code",
      "source": [
        "year = \"it's 2024\"\n",
        "year[-1] = \"0\"  # TypeError"
      ],
      "metadata": {
        "colab": {
          "base_uri": "https://localhost:8080/",
          "height": 192
        },
        "id": "GKVOcTT9ijAi",
        "outputId": "e05dd99e-428b-4423-85b9-67159143312b"
      },
      "execution_count": null,
      "outputs": [
        {
          "output_type": "error",
          "ename": "TypeError",
          "evalue": "'str' object does not support item assignment",
          "traceback": [
            "\u001b[0;31m---------------------------------------------------------------------------\u001b[0m",
            "\u001b[0;31mTypeError\u001b[0m                                 Traceback (most recent call last)",
            "\u001b[0;32m<ipython-input-24-3266a27688d2>\u001b[0m in \u001b[0;36m<cell line: 2>\u001b[0;34m()\u001b[0m\n\u001b[1;32m      1\u001b[0m \u001b[0myear\u001b[0m \u001b[0;34m=\u001b[0m \u001b[0;34m\"it's 2024\"\u001b[0m\u001b[0;34m\u001b[0m\u001b[0;34m\u001b[0m\u001b[0m\n\u001b[0;32m----> 2\u001b[0;31m \u001b[0myear\u001b[0m\u001b[0;34m[\u001b[0m\u001b[0;34m-\u001b[0m\u001b[0;36m1\u001b[0m\u001b[0;34m]\u001b[0m \u001b[0;34m=\u001b[0m \u001b[0;34m\"0\"\u001b[0m  \u001b[0;31m# TypeError\u001b[0m\u001b[0;34m\u001b[0m\u001b[0;34m\u001b[0m\u001b[0m\n\u001b[0m",
            "\u001b[0;31mTypeError\u001b[0m: 'str' object does not support item assignment"
          ]
        }
      ]
    },
    {
      "cell_type": "markdown",
      "source": [
        "* **Provide a bunch of methods for working with text**\n",
        "\n",
        "String class provide a bunch of methods for working with text. Not only related to text modification, there's also many of text checking method.\n",
        "\n",
        "Remember, the goal is not for memorize all of the methods, just check the documentation or search on the web anytime."
      ],
      "metadata": {
        "id": "vW6HqPvQi0MU"
      }
    },
    {
      "cell_type": "code",
      "source": [
        "program = 'bangkit 2024'\n",
        "print(program.index('g'))  # 3\n",
        "\n",
        "print(program.upper())  # BANGKIT 2021\n",
        "print(program.endswith('2024'))  # True\n",
        "print(program.replace('2024', '2023'))\n",
        "\n",
        "year = 2024  # integer 2021\n",
        "print(str(year).isnumeric())  # True\n",
        "# bangkit for 2021\n",
        "print(\"{} for {}\".format(\"bangkit\", year))\n"
      ],
      "metadata": {
        "colab": {
          "base_uri": "https://localhost:8080/"
        },
        "id": "mOoxsQWHhqrM",
        "outputId": "05f5bc3d-7cd0-4b1a-e6c8-8ec10ad5cbe3"
      },
      "execution_count": null,
      "outputs": [
        {
          "output_type": "stream",
          "name": "stdout",
          "text": [
            "3\n",
            "BANGKIT 2024\n",
            "True\n",
            "bangkit 2023\n",
            "True\n",
            "bangkit for 2024\n"
          ]
        }
      ]
    },
    {
      "cell_type": "markdown",
      "source": [
        "### **List**"
      ],
      "metadata": {
        "id": "2XwOEbkv83cm"
      }
    },
    {
      "cell_type": "markdown",
      "source": [
        "A list in Python is a mutable, ordered collection of items. It is a versatile data structure that can hold elements of different data types. Lists are defined by enclosing elements in square brackets (`[]`) and separating them with commas.\n",
        "\n",
        "\n",
        "- Lists can contain any type of data, such as integers, floats, strings, or even other lists.\n",
        "- Being ordered means that the elements in a list have a specific order, and they can be accessed by their index.\n",
        "- Mutability allows adding, removing, or modifying elements in a list after its creation.\n"
      ],
      "metadata": {
        "id": "PG-poDFg-iQN"
      }
    },
    {
      "cell_type": "markdown",
      "source": [
        "#### **Example:**"
      ],
      "metadata": {
        "id": "MIwFW91a_VHp"
      }
    },
    {
      "cell_type": "code",
      "source": [
        "# List of fruit names\n",
        "fruits = ['apple', 'banana', 'orange', 'grape', 'kiwi', 'mango', 'pineapple']\n",
        "print(fruits)\n",
        "print(type(fruits))"
      ],
      "metadata": {
        "colab": {
          "base_uri": "https://localhost:8080/"
        },
        "id": "sbiE3Ozk-k6T",
        "outputId": "13f8607f-6f25-4ecb-eef0-4787d83ae6b3"
      },
      "execution_count": null,
      "outputs": [
        {
          "output_type": "stream",
          "name": "stdout",
          "text": [
            "['apple', 'banana', 'orange', 'grape', 'kiwi', 'mango', 'pineapple']\n",
            "<class 'list'>\n"
          ]
        }
      ]
    },
    {
      "cell_type": "markdown",
      "source": [
        "In this example:\n",
        "- A list named `fruits` is created with several fruit names.\n",
        "- The `print(fruits)` statement displays the content of the list.\n",
        "- The `print(type(fruits))` statement shows the data type of the variable, which is a list."
      ],
      "metadata": {
        "id": "Y2f2zLHS_IKh"
      }
    },
    {
      "cell_type": "markdown",
      "source": [
        "#### **Using Lists for Different Data Types**"
      ],
      "metadata": {
        "id": "akJTNP1i_XmM"
      }
    },
    {
      "cell_type": "markdown",
      "source": [
        "In Python, lists are versatile and can hold various data types, not just strings. A single list can contain elements of different types, including integers, floats, and even other lists."
      ],
      "metadata": {
        "id": "MAKqRm1H_a_-"
      }
    },
    {
      "cell_type": "code",
      "source": [
        "# List with different data types\n",
        "mixed_list = [1, 2.5, \"apple\", True, [3, 4, 5]]\n",
        "\n",
        "# Accessing elements\n",
        "print(\"Element at index 2:\", mixed_list[2])  # Accessing a string\n",
        "print(\"Element at index 4:\", mixed_list[4])  # Accessing a nested list\n",
        "\n",
        "# Modifying the list\n",
        "mixed_list[1] = 10.5  # Modifying a float to an integer\n",
        "mixed_list.append(\"orange\")  # Adding a string to the end\n",
        "print(\"Modified list:\", mixed_list)"
      ],
      "metadata": {
        "colab": {
          "base_uri": "https://localhost:8080/"
        },
        "id": "NY5hLahq_dIv",
        "outputId": "54c56cb0-7e36-4e6e-ef39-ea031e09a1f5"
      },
      "execution_count": null,
      "outputs": [
        {
          "output_type": "stream",
          "name": "stdout",
          "text": [
            "Element at index 2: apple\n",
            "Element at index 4: [3, 4, 5]\n",
            "Modified list: [1, 10.5, 'apple', True, [3, 4, 5], 'orange']\n"
          ]
        }
      ]
    },
    {
      "cell_type": "markdown",
      "source": [
        "In this example:\n",
        "- `mixed_list` is a list containing an integer, a float, a string, a boolean, and another nested list.\n",
        "- Elements can be accessed and modified regardless of their data type.\n",
        "- The `append` method is used to add a new element (\"orange\") to the end of the list.\n",
        "\n",
        "This flexibility makes lists powerful for handling diverse data in Python."
      ],
      "metadata": {
        "id": "C45yBV1p_fVK"
      }
    },
    {
      "cell_type": "markdown",
      "source": [
        "#### **Handling Heterogeneous Data in Lists**"
      ],
      "metadata": {
        "id": "LBHYehIS_uaS"
      }
    },
    {
      "cell_type": "markdown",
      "source": [
        "In Python, a list can be used to store more than one data type, creating a heterogeneous collection of elements. This flexibility allows a single list to hold elements of different types, such as integers, floats, strings, and more."
      ],
      "metadata": {
        "id": "Mk8mM_yL_x_o"
      }
    },
    {
      "cell_type": "code",
      "source": [
        "# List with heterogeneous data types\n",
        "heterogeneous_list = [1, \"apple\", 3.14, True, [5, 6]]\n",
        "\n",
        "# Accessing elements\n",
        "print(\"Element at index 1:\", heterogeneous_list[1])  # Accessing a string\n",
        "print(\"Element at index 3:\", heterogeneous_list[3])  # Accessing a boolean\n",
        "\n",
        "# Modifying the list\n",
        "heterogeneous_list[0] = 10  # Modifying an integer\n",
        "heterogeneous_list.append(\"orange\")  # Adding a string to the end\n",
        "print(\"Modified list:\", heterogeneous_list)"
      ],
      "metadata": {
        "colab": {
          "base_uri": "https://localhost:8080/"
        },
        "id": "VWBWsVo7_1ez",
        "outputId": "8f7d67fd-8cd1-4d5b-e002-994f460e1524"
      },
      "execution_count": null,
      "outputs": [
        {
          "output_type": "stream",
          "name": "stdout",
          "text": [
            "Element at index 1: apple\n",
            "Element at index 3: True\n",
            "Modified list: [10, 'apple', 3.14, True, [5, 6], 'orange']\n"
          ]
        }
      ]
    },
    {
      "cell_type": "markdown",
      "source": [
        "In this example:\n",
        "- `heterogeneous_list` is a list containing elements of different data types.\n",
        "- Elements can be accessed and modified regardless of their data type.\n",
        "- The `append` method is used to add a new element (\"orange\") to the end of the list.\n",
        "\n",
        "This feature makes lists in Python suitable for handling diverse and mixed types of data."
      ],
      "metadata": {
        "id": "PzP5-Ne7_3nt"
      }
    },
    {
      "cell_type": "markdown",
      "source": [
        "#### **Nested Lists in Python**"
      ],
      "metadata": {
        "id": "SxJFTqXgAQcG"
      }
    },
    {
      "cell_type": "markdown",
      "source": [
        "In Python, a list can contain other lists as elements, creating a nested or multidimensional list. This allows for the creation of more complex data structures where each element can be a list itself."
      ],
      "metadata": {
        "id": "Q64vBLSkAU0p"
      }
    },
    {
      "cell_type": "code",
      "source": [
        "# Nested lists\n",
        "outer_list = [1, 2, [3, 4, 5], \"apple\", [\"orange\", \"banana\"]]\n",
        "\n",
        "# Accessing elements\n",
        "print(\"Element at index 2:\", outer_list[2])  # Accessing a nested list\n",
        "print(\"Element at index 4:\", outer_list[4][1])  # Accessing an element in a nested list\n",
        "\n",
        "# Modifying the list\n",
        "outer_list[0] = 10  # Modifying an integer in the outer list\n",
        "outer_list[2][1] = 8  # Modifying an element in the nested list\n",
        "outer_list.append([\"grape\", \"kiwi\"])  # Adding a new nested list\n",
        "print(\"Modified list:\", outer_list)"
      ],
      "metadata": {
        "colab": {
          "base_uri": "https://localhost:8080/"
        },
        "id": "-jzqYTxSAZZV",
        "outputId": "2e41fd67-dc53-4cd5-f816-af75028c53f4"
      },
      "execution_count": null,
      "outputs": [
        {
          "output_type": "stream",
          "name": "stdout",
          "text": [
            "Element at index 2: [3, 4, 5]\n",
            "Element at index 4: banana\n",
            "Modified list: [10, 2, [3, 8, 5], 'apple', ['orange', 'banana'], ['grape', 'kiwi']]\n"
          ]
        }
      ]
    },
    {
      "cell_type": "markdown",
      "source": [
        "In this example:\n",
        "- `outer_list` is a list containing elements of various types, including nested lists.\n",
        "- Elements can be accessed and modified, whether they are in the outer list or nested within another list.\n",
        "- The `append` method is used to add a new nested list (`[\"grape\", \"kiwi\"]`) to the end of the outer list.\n",
        "\n",
        "The ability to nest lists provides a powerful way to structure and organize data in Python."
      ],
      "metadata": {
        "id": "NwMMB6qGAbjS"
      }
    },
    {
      "cell_type": "markdown",
      "source": [
        "#### **Manipulating Matrices with Nested Lists**"
      ],
      "metadata": {
        "id": "K-HnTHvvApXi"
      }
    },
    {
      "cell_type": "markdown",
      "source": [
        "The ability to use nested lists in Python is highly beneficial when working with matrices or multidimensional arrays. Matrices can be represented as lists of lists, where each inner list corresponds to a row or column.\n",
        "\n",
        "![image](https://qph.cf2.quoracdn.net/main-qimg-8a42228263b908bec0de477a66c0f83e)"
      ],
      "metadata": {
        "id": "l1vIkgj2AtVB"
      }
    },
    {
      "cell_type": "code",
      "source": [
        "# Matrix represented using nested lists\n",
        "matrix = [\n",
        "    [1, 2, 3],\n",
        "    [4, 5, 6],\n",
        "    [7, 8, 9]\n",
        "]\n",
        "\n",
        "# Accessing elements\n",
        "print(\"Element at row 2, column 3:\", matrix[1][2])\n",
        "\n",
        "# Modifying the matrix\n",
        "matrix[0][1] = 10  # Modifying an element in the matrix\n",
        "matrix[2].append(10)  # Adding a new element to the end of the third row\n",
        "print(\"Modified matrix:\", matrix)\n"
      ],
      "metadata": {
        "colab": {
          "base_uri": "https://localhost:8080/"
        },
        "id": "vsH-ABbhAysL",
        "outputId": "1194fa28-de19-42a6-955d-6b93cb106f31"
      },
      "execution_count": null,
      "outputs": [
        {
          "output_type": "stream",
          "name": "stdout",
          "text": [
            "Element at row 2, column 3: 6\n",
            "Modified matrix: [[1, 10, 3], [4, 5, 6], [7, 8, 9, 10]]\n"
          ]
        }
      ]
    },
    {
      "cell_type": "markdown",
      "source": [
        "In this example:\n",
        "- `matrix` is represented using nested lists, where each inner list corresponds to a row.\n",
        "- Elements can be accessed and modified in a matrix-like fashion.\n",
        "- The `append` method is used to add a new element (`10`) to the end of the third row.\n",
        "\n",
        "This approach simplifies the manipulation and representation of matrices in Python programs."
      ],
      "metadata": {
        "id": "bL799iEGA1j9"
      }
    },
    {
      "cell_type": "markdown",
      "source": [
        "#### **Determining the Length of a List**"
      ],
      "metadata": {
        "id": "edkswH0HBaUg"
      }
    },
    {
      "cell_type": "markdown",
      "source": [
        "In Python, the length of a list is determined by the number of elements it contains. The `len()` function is used to retrieve the length or the number of elements in a list."
      ],
      "metadata": {
        "id": "h3M29NgABg-b"
      }
    },
    {
      "cell_type": "code",
      "source": [
        "# List with elements\n",
        "fruits = [\"apple\", \"banana\", \"orange\", \"grape\"]\n",
        "\n",
        "# Displaying the length of the list\n",
        "length_of_fruits = len(fruits)\n",
        "print(\"Length of the list:\", length_of_fruits)"
      ],
      "metadata": {
        "colab": {
          "base_uri": "https://localhost:8080/"
        },
        "id": "92tPYXO4BlGx",
        "outputId": "611fe3ed-08d7-4c72-a020-17559f0d1320"
      },
      "execution_count": null,
      "outputs": [
        {
          "output_type": "stream",
          "name": "stdout",
          "text": [
            "Length of the list: 4\n"
          ]
        }
      ]
    },
    {
      "cell_type": "markdown",
      "source": [
        "In this example:\n",
        "- The list `fruits` contains four elements.\n",
        "- The `len()` function is used to determine the length of the list.\n",
        "- The result is displayed using the `print` statement.\n",
        "\n",
        "The `len()` function is a useful tool for obtaining information about the size of a list in Python."
      ],
      "metadata": {
        "id": "_LXXtR0MBnJr"
      }
    },
    {
      "cell_type": "markdown",
      "source": [
        "#### **Irregular Nested Lists**"
      ],
      "metadata": {
        "id": "rdqrv8P3BHQs"
      }
    },
    {
      "cell_type": "markdown",
      "source": [
        "In Python, nested lists are not restricted to having a perfect matrix-like structure. Lists can contain other lists of different sizes and even elements of different types. This flexibility allows the creation of irregular or jagged nested lists."
      ],
      "metadata": {
        "id": "RVJ8ciFdBL05"
      }
    },
    {
      "cell_type": "code",
      "source": [
        "# Irregular nested list\n",
        "irregular_list = [1, [2, 3], [4, 5, 6], \"apple\", [\"orange\", 8, 9]]\n",
        "\n",
        "# Accessing elements\n",
        "print(\"Element at index 2:\", irregular_list[2])  # Accessing a nested list\n",
        "print(\"Element at index 4, element 1:\", irregular_list[4][0])  # Accessing an element in a nested list\n",
        "\n",
        "# Modifying the list\n",
        "irregular_list[0] = 10  # Modifying an integer\n",
        "irregular_list[2][1] = 7  # Modifying an element in the nested list\n",
        "irregular_list.append([\"grape\", 10, \"kiwi\"])  # Adding a new nested list\n",
        "print(\"Modified list:\", irregular_list)"
      ],
      "metadata": {
        "colab": {
          "base_uri": "https://localhost:8080/"
        },
        "id": "eCJ8UJ4-BPd1",
        "outputId": "635e87f0-bb3f-408a-a30f-dfa2e5ddd8d3"
      },
      "execution_count": null,
      "outputs": [
        {
          "output_type": "stream",
          "name": "stdout",
          "text": [
            "Element at index 2: [4, 5, 6]\n",
            "Element at index 4, element 1: orange\n",
            "Modified list: [10, [2, 3], [4, 7, 6], 'apple', ['orange', 8, 9], ['grape', 10, 'kiwi']]\n"
          ]
        }
      ]
    },
    {
      "cell_type": "markdown",
      "source": [
        "In this example:\n",
        "- `irregular_list` is a nested list with irregular sizes and different types of elements.\n",
        "- Elements can be accessed and modified, regardless of the structure.\n",
        "- The `append` method is used to add a new nested list (`[\"grape\", 10, \"kiwi\"]`) to the end of the list.\n",
        "\n",
        "This flexibility allows for the creation of more complex and diverse data structures in Python."
      ],
      "metadata": {
        "id": "sNwOy_9YBRtb"
      }
    },
    {
      "cell_type": "markdown",
      "source": [
        "#### **List Indexing and Slicing**"
      ],
      "metadata": {
        "id": "F7J33fMYB7kK"
      }
    },
    {
      "cell_type": "markdown",
      "source": [
        "**Indexing:**\n",
        "- Indexing in Python lists starts from 0. Each element in the list has a unique index.\n",
        "- Positive indexing refers to counting from the beginning of the list (starting with 0).\n",
        "- Negative indexing refers to counting from the end of the list (starting with -1 for the last element).\n",
        "\n",
        "**Slicing:**\n",
        "- Slicing allows extracting a portion of a list, creating a new list.\n",
        "- The syntax for slicing is `list[start:stop:step]`, where `start` is the beginning index, `stop` is the ending index (exclusive), and `step` is the interval."
      ],
      "metadata": {
        "id": "xKqMNQIjCAHd"
      }
    },
    {
      "cell_type": "code",
      "source": [
        "# List for indexing and slicing\n",
        "numbers = [0, 1, 2, 3, 4, 5, 6, 7, 8, 9]"
      ],
      "metadata": {
        "id": "S9TsraRbCwCq"
      },
      "execution_count": null,
      "outputs": []
    },
    {
      "cell_type": "code",
      "source": [
        "# Indexing\n",
        "print(\"Element at index 3:\", numbers[3])       # Positive indexing\n",
        "print(\"Element at index -2:\", numbers[-2])     # Negative indexing"
      ],
      "metadata": {
        "colab": {
          "base_uri": "https://localhost:8080/"
        },
        "id": "xxbu5Wp1CGCN",
        "outputId": "b3f731fc-17f1-4c12-d356-97738eb54a18"
      },
      "execution_count": null,
      "outputs": [
        {
          "output_type": "stream",
          "name": "stdout",
          "text": [
            "Element at index 3: 3\n",
            "Element at index -2: 8\n"
          ]
        }
      ]
    },
    {
      "cell_type": "code",
      "source": [
        "# Slicing\n",
        "print(\"Sliced elements:\", numbers[2:7])        # Elements from index 2 to 6\n",
        "print(\"Sliced with step:\", numbers[1:9:2])     # Elements from index 1 to 8 with a step of 2\n",
        "print(\"Sliced in reverse:\", numbers[::-1])     # All elements in reverse order"
      ],
      "metadata": {
        "colab": {
          "base_uri": "https://localhost:8080/"
        },
        "id": "-5040031CtKH",
        "outputId": "a3c6b144-a0fd-4192-ddd5-508d399828e4"
      },
      "execution_count": null,
      "outputs": [
        {
          "output_type": "stream",
          "name": "stdout",
          "text": [
            "Sliced elements: [2, 3, 4, 5, 6]\n",
            "Sliced with step: [1, 3, 5, 7]\n",
            "Sliced in reverse: [9, 8, 7, 6, 5, 4, 3, 2, 1, 0]\n"
          ]
        }
      ]
    },
    {
      "cell_type": "markdown",
      "source": [
        "In this example:\n",
        "- Positive and negative indexing are demonstrated.\n",
        "- Slicing is used to extract specific portions of the list.\n",
        "- Different slicing techniques, such as using steps and reversing the list, are shown.\n",
        "\n",
        "Understanding indexing and slicing is crucial for efficient manipulation of data in Python lists."
      ],
      "metadata": {
        "id": "_uhwFnzRCIKN"
      }
    },
    {
      "cell_type": "markdown",
      "source": [
        "#### **Manipulating Elements in a List**"
      ],
      "metadata": {
        "id": "qSRVWARzCW6y"
      }
    },
    {
      "cell_type": "markdown",
      "source": [
        "\n",
        "**Adding Elements:**\n",
        "- Elements can be added to the end of a list using the `append()` method.\n",
        "- Multiple elements can be added at once using the `extend()` method or the `+` operator.\n",
        "\n",
        "**Removing Elements:**\n",
        "- Elements can be removed by specifying the value using the `remove()` method.\n",
        "- The `pop()` method removes and returns the element at a specific index.\n",
        "- The `del` statement can be used to remove elements or slices based on index."
      ],
      "metadata": {
        "id": "EJNKjOt8CZVF"
      }
    },
    {
      "cell_type": "code",
      "source": [
        "# List for manipulation\n",
        "fruits = [\"apple\", \"banana\", \"orange\", \"grape\"]"
      ],
      "metadata": {
        "id": "FipLXCIOCyZo"
      },
      "execution_count": null,
      "outputs": []
    },
    {
      "cell_type": "code",
      "source": [
        "# Adding elements\n",
        "fruits.append(\"kiwi\")                 # Adding a single element\n",
        "fruits.extend([\"melon\", \"pineapple\"])  # Adding multiple elements\n",
        "fruits += [\"peach\", \"mango\"]           # Another way to add multiple elements\n",
        "\n",
        "# Displaying the modified list\n",
        "print(\"List after adding elements:\", fruits)"
      ],
      "metadata": {
        "colab": {
          "base_uri": "https://localhost:8080/"
        },
        "id": "ukeJUnQlCeA3",
        "outputId": "8355ca4a-2be8-4302-8f03-3d0066c2e310"
      },
      "execution_count": null,
      "outputs": [
        {
          "output_type": "stream",
          "name": "stdout",
          "text": [
            "List after adding elements: ['apple', 'banana', 'orange', 'grape', 'kiwi', 'melon', 'pineapple', 'peach', 'mango']\n"
          ]
        }
      ]
    },
    {
      "cell_type": "code",
      "source": [
        "# Removing elements\n",
        "fruits.remove(\"banana\")        # Removing a specific element\n",
        "removed_element = fruits.pop(2) # Removing and returning element at index 2\n",
        "del fruits[0]                   # Removing element at index 0\n",
        "\n",
        "# Displaying the modified list\n",
        "print(\"List after removing elements:\", fruits)\n",
        "print(\"Removed element:\", removed_element)"
      ],
      "metadata": {
        "colab": {
          "base_uri": "https://localhost:8080/"
        },
        "id": "aZoB212JCotL",
        "outputId": "21f175c4-d965-4a27-9b7d-ee20892b788d"
      },
      "execution_count": null,
      "outputs": [
        {
          "output_type": "stream",
          "name": "stdout",
          "text": [
            "List after removing elements: ['orange', 'kiwi', 'melon', 'pineapple', 'peach', 'mango']\n",
            "Removed element: grape\n"
          ]
        }
      ]
    },
    {
      "cell_type": "markdown",
      "source": [
        "In this example:\n",
        "- Elements are added using `append()`, `extend()`, and the `+` operator.\n",
        "- Elements are removed using `remove()`, `pop()`, and the `del` statement.\n",
        "\n",
        "These operations allow for dynamic modification of lists in Python."
      ],
      "metadata": {
        "id": "D9wG-KwuCf4t"
      }
    },
    {
      "cell_type": "markdown",
      "source": [
        "#### **Checking Elements in a List**"
      ],
      "metadata": {
        "id": "FYJrGMawC-6y"
      }
    },
    {
      "cell_type": "markdown",
      "source": [
        "**Using `in` and `not in` Operators:**\n",
        "- The `in` operator checks if an element exists in a list.\n",
        "- The `not in` operator checks if an element does not exist in a list.\n",
        "- Both operators return a boolean value."
      ],
      "metadata": {
        "id": "pg_Fqm70DDQL"
      }
    },
    {
      "cell_type": "code",
      "source": [
        "# List for element checks\n",
        "colors = [\"red\", \"blue\", \"green\", \"yellow\", \"orange\"]"
      ],
      "metadata": {
        "id": "HQO1FblYDHIx"
      },
      "execution_count": null,
      "outputs": []
    },
    {
      "cell_type": "code",
      "source": [
        "# Using 'in' operator\n",
        "print(\"Is 'blue' in the list?\", 'blue' in colors)\n",
        "print(\"Is 'purple' in the list?\", 'purple' in colors)"
      ],
      "metadata": {
        "colab": {
          "base_uri": "https://localhost:8080/"
        },
        "id": "2tgkMyH4DLzL",
        "outputId": "9fccf695-8afc-4beb-faeb-a85579907371"
      },
      "execution_count": null,
      "outputs": [
        {
          "output_type": "stream",
          "name": "stdout",
          "text": [
            "Is 'blue' in the list? True\n",
            "Is 'purple' in the list? False\n"
          ]
        }
      ]
    },
    {
      "cell_type": "code",
      "source": [
        "# Using 'not in' operator\n",
        "print(\"Is 'green' not in the list?\", 'green' not in colors)\n",
        "print(\"Is 'yellow' not in the list?\", 'yellow' not in colors)"
      ],
      "metadata": {
        "colab": {
          "base_uri": "https://localhost:8080/"
        },
        "id": "De_SD-J5DLkr",
        "outputId": "a90dcf0b-7077-4771-f135-202761428b35"
      },
      "execution_count": null,
      "outputs": [
        {
          "output_type": "stream",
          "name": "stdout",
          "text": [
            "Is 'green' not in the list? False\n",
            "Is 'yellow' not in the list? False\n"
          ]
        }
      ]
    },
    {
      "cell_type": "markdown",
      "source": [
        "In this example:\n",
        "- The `in` operator is used to check if \"blue\" and \"purple\" exist in the list.\n",
        "- The `not in` operator is used to check if \"green\" and \"yellow\" do not exist in the list.\n",
        "\n",
        "These operators are useful for conditional checks and decision-making based on the presence or absence of elements in a list."
      ],
      "metadata": {
        "id": "FDwRxSXjDJjq"
      }
    },
    {
      "cell_type": "markdown",
      "source": [
        "#### **Searching for Elements in a List**"
      ],
      "metadata": {
        "id": "JzdJ8vMEDXPL"
      }
    },
    {
      "cell_type": "markdown",
      "source": [
        "**Using the `index()` Function:**\n",
        "- The `index()` function is used to find the index of a specific element in a list.\n",
        "- If the element is found, the function returns the index of the first occurrence.\n",
        "- If the element is not found, it raises a `ValueError`."
      ],
      "metadata": {
        "id": "lLNrhwpvDaB2"
      }
    },
    {
      "cell_type": "code",
      "source": [
        "# List for searching\n",
        "numbers = [10, 20, 30, 40, 50, 20, 60]\n",
        "\n",
        "# Using 'index()' function\n",
        "index_of_30 = numbers.index(30)\n",
        "print(\"Index of 30:\", index_of_30)\n",
        "\n",
        "# Trying to find the index of a non-existing element\n",
        "try:\n",
        "    index_of_70 = numbers.index(70)\n",
        "    print(\"Index of 70:\", index_of_70)\n",
        "except ValueError:\n",
        "    print(\"Element 70 not found in the list.\")"
      ],
      "metadata": {
        "colab": {
          "base_uri": "https://localhost:8080/"
        },
        "id": "z9aVoAWIDkOs",
        "outputId": "bfca2722-0ce4-4afe-a750-71190c42cddf"
      },
      "execution_count": null,
      "outputs": [
        {
          "output_type": "stream",
          "name": "stdout",
          "text": [
            "Index of 30: 2\n",
            "Element 70 not found in the list.\n"
          ]
        }
      ]
    },
    {
      "cell_type": "markdown",
      "source": [
        "In this example:\n",
        "- The `index()` function is used to find the index of the element \"30\" in the list.\n",
        "- An attempt is made to find the index of the non-existing element \"70,\" resulting in a `ValueError` being caught.\n",
        "\n",
        "The `index()` function is useful for locating the position of a specific element within a list."
      ],
      "metadata": {
        "id": "q_-VmEF5DmfR"
      }
    },
    {
      "cell_type": "markdown",
      "source": [
        "#### **Sorting a List**"
      ],
      "metadata": {
        "id": "2l2Q-_acDxiX"
      }
    },
    {
      "cell_type": "markdown",
      "source": [
        "**Using the `sort()` Method:**\n",
        "- The `sort()` method is used to sort a list in-place, meaning it modifies the original list.\n",
        "- It arranges the elements in ascending order by default.\n",
        "- The `reverse` parameter can be set to `True` to sort in descending order.\n",
        "\n",
        "**Using the `sorted()` Function:**\n",
        "- The `sorted()` function creates a new sorted list from the elements of the original list.\n",
        "- It does not modify the original list.\n",
        "- Like `sort()`, the `reverse` parameter can be used to sort in descending order."
      ],
      "metadata": {
        "id": "4ebn4913D0VW"
      }
    },
    {
      "cell_type": "code",
      "source": [
        "# List for sorting\n",
        "numbers = [40, 10, 30, 20, 50]\n",
        "\n",
        "# Using 'sort()' method\n",
        "numbers.sort()\n",
        "print(\"Sorted list using 'sort()':\", numbers)\n",
        "\n",
        "# Using 'sorted()' function\n",
        "sorted_numbers = sorted(numbers, reverse=True)\n",
        "print(\"Original list:\", numbers)\n",
        "print(\"Sorted list using 'sorted()':\", sorted_numbers)"
      ],
      "metadata": {
        "colab": {
          "base_uri": "https://localhost:8080/"
        },
        "id": "cgLvy8z9D3LF",
        "outputId": "945d4649-2f6c-42c6-bb55-93f1f1e7f346"
      },
      "execution_count": null,
      "outputs": [
        {
          "output_type": "stream",
          "name": "stdout",
          "text": [
            "Sorted list using 'sort()': [10, 20, 30, 40, 50]\n",
            "Original list: [10, 20, 30, 40, 50]\n",
            "Sorted list using 'sorted()': [50, 40, 30, 20, 10]\n"
          ]
        }
      ]
    },
    {
      "cell_type": "markdown",
      "source": [
        "In this example:\n",
        "- The `sort()` method is used to sort the list `numbers` in ascending order.\n",
        "- The `sorted()` function creates a new sorted list (`sorted_numbers`) in descending order without modifying the original list.\n",
        "\n",
        "Both approaches provide a way to organize the elements of a list in a specified order."
      ],
      "metadata": {
        "id": "sdNYxssQD4_P"
      }
    },
    {
      "cell_type": "markdown",
      "source": [
        "#### **Deleting Elements from a List**"
      ],
      "metadata": {
        "id": "pOdZuP4fEDci"
      }
    },
    {
      "cell_type": "markdown",
      "source": [
        "1. **Using the `del` Statement:**\n",
        "   - The `del` statement is used to remove elements from a list based on their index.\n",
        "   - It can also be used to delete the entire list or a slice of the list.\n",
        "\n",
        "2. **Using the `remove()` Method:**\n",
        "   - The `remove()` method is used to remove a specific element from the list.\n",
        "   - If the element appears multiple times, only the first occurrence is removed.\n",
        "   - If the element is not found, it raises a `ValueError`.\n",
        "\n",
        "3. **Using the `clear()` Method:**\n",
        "   - The `clear()` method is used to remove all elements from the list, making it empty."
      ],
      "metadata": {
        "id": "8gZy643UEIdw"
      }
    },
    {
      "cell_type": "code",
      "source": [
        "# List for deletion\n",
        "colors = [\"red\", \"green\", \"blue\", \"yellow\", \"green\"]"
      ],
      "metadata": {
        "id": "UbLRva-iELUS"
      },
      "execution_count": null,
      "outputs": []
    },
    {
      "cell_type": "code",
      "source": [
        "# Using 'del' statement\n",
        "del colors[2]  # Deleting element at index 2\n",
        "print(\"List after 'del' statement:\", colors)"
      ],
      "metadata": {
        "colab": {
          "base_uri": "https://localhost:8080/"
        },
        "id": "uT67KpO6EU7K",
        "outputId": "d253f5ea-bf69-4556-f825-100a64f0cd7f"
      },
      "execution_count": null,
      "outputs": [
        {
          "output_type": "stream",
          "name": "stdout",
          "text": [
            "List after 'del' statement: ['red', 'green', 'yellow', 'green']\n"
          ]
        }
      ]
    },
    {
      "cell_type": "code",
      "source": [
        "# Using 'remove()' method\n",
        "colors.remove(\"green\")  # Removing the first occurrence of \"green\"\n",
        "print(\"List after 'remove()' method:\", colors)"
      ],
      "metadata": {
        "colab": {
          "base_uri": "https://localhost:8080/"
        },
        "id": "FRZSiib7EWaT",
        "outputId": "fff798a6-8d75-4c92-a5be-cc4fde7025e7"
      },
      "execution_count": null,
      "outputs": [
        {
          "output_type": "stream",
          "name": "stdout",
          "text": [
            "List after 'remove()' method: ['red', 'yellow', 'green']\n"
          ]
        }
      ]
    },
    {
      "cell_type": "code",
      "source": [
        "# Using 'clear()' method\n",
        "colors.clear()  # Removing all elements\n",
        "print(\"List after 'clear()' method:\", colors)"
      ],
      "metadata": {
        "colab": {
          "base_uri": "https://localhost:8080/"
        },
        "id": "RSv5EYhAEX3D",
        "outputId": "074da473-8b48-4969-c140-49f322cc63aa"
      },
      "execution_count": null,
      "outputs": [
        {
          "output_type": "stream",
          "name": "stdout",
          "text": [
            "List after 'clear()' method: []\n"
          ]
        }
      ]
    },
    {
      "cell_type": "markdown",
      "source": [
        "In this example:\n",
        "- The `del` statement is used to delete the element at index 2.\n",
        "- The `remove()` method is used to remove the first occurrence of the element \"green.\"\n",
        "- The `clear()` method is used to remove all elements, resulting in an empty list.\n",
        "\n",
        "These methods provide flexibility for deleting specific elements or clearing the entire list."
      ],
      "metadata": {
        "id": "6LX6Ei4dENRK"
      }
    },
    {
      "cell_type": "markdown",
      "source": [
        "#### **Copying a List**"
      ],
      "metadata": {
        "id": "QfhIxRR1EimW"
      }
    },
    {
      "cell_type": "markdown",
      "source": [
        "**Using the Assignment Operator (`=`):**\n",
        "- The assignment operator (`=`) can be used to create a copy of a list.\n",
        "- Changes made to the copy will affect the original list, and vice versa.\n",
        "\n",
        "**Using the `copy()` Method:**\n",
        "- The `copy()` method is specifically designed for creating a shallow copy of a list.\n",
        "- The copy created using `copy()` is independent of the original list, meaning changes to one do not affect the other.\n",
        "\n"
      ],
      "metadata": {
        "id": "8UhpBdysEn1J"
      }
    },
    {
      "cell_type": "code",
      "source": [
        "# Original list\n",
        "original_list = [1, 2, 3, 4, 5]\n",
        "\n",
        "# Using assignment operator to create a copy\n",
        "copied_list_1 = original_list\n",
        "\n",
        "# Using 'copy()' method to create a copy\n",
        "copied_list_2 = original_list.copy()\n",
        "\n",
        "# Modifying the copied lists\n",
        "copied_list_1[0] = 10\n",
        "copied_list_2[1] = 20\n",
        "\n",
        "# Displaying the results\n",
        "print(\"Original list:\", original_list)\n",
        "print(\"List copied with assignment operator:\", copied_list_1)\n",
        "print(\"List copied with 'copy()' method:\", copied_list_2)"
      ],
      "metadata": {
        "colab": {
          "base_uri": "https://localhost:8080/"
        },
        "id": "Az4c89KtEqGK",
        "outputId": "b124bf24-7baf-471e-ecb8-12f9cdbbd5af"
      },
      "execution_count": null,
      "outputs": [
        {
          "output_type": "stream",
          "name": "stdout",
          "text": [
            "Original list: [10, 2, 3, 4, 5]\n",
            "List copied with assignment operator: [10, 2, 3, 4, 5]\n",
            "List copied with 'copy()' method: [1, 20, 3, 4, 5]\n"
          ]
        }
      ]
    },
    {
      "cell_type": "markdown",
      "source": [
        "In this example:\n",
        "- The assignment operator (`=`) is used to create `copied_list_1`, which is a reference to the original list.\n",
        "- The `copy()` method is used to create `copied_list_2`, which is an independent copy of the original list.\n",
        "- Modifying `copied_list_1` affects the original list, while modifying `copied_list_2` does not.\n",
        "\n",
        "Using the `copy()` method is advisable when you want an independent copy of a list to avoid unintended modifications."
      ],
      "metadata": {
        "id": "CvPh1ykNEu6p"
      }
    },
    {
      "cell_type": "markdown",
      "source": [
        "#### **Unpacking a List**"
      ],
      "metadata": {
        "id": "8bRQUxHHE2YP"
      }
    },
    {
      "cell_type": "markdown",
      "source": [
        "Unpacking a list allows you to assign values to multiple variables at once based on the elements of the list."
      ],
      "metadata": {
        "id": "JuuMxcYdE8AU"
      }
    },
    {
      "cell_type": "code",
      "source": [
        "# List for unpacking\n",
        "student_info = [\"John Doe\", 20, \"Computer Science\"]\n",
        "\n",
        "# Unpacking the list into variables\n",
        "name, age, major = student_info\n",
        "\n",
        "# Displaying the unpacked values\n",
        "print(\"Name:\", name)\n",
        "print(\"Age:\", age)\n",
        "print(\"Major:\", major)"
      ],
      "metadata": {
        "colab": {
          "base_uri": "https://localhost:8080/"
        },
        "id": "uzpNLu4CE-48",
        "outputId": "826efdac-7b0b-4881-f437-b0bf24787aa5"
      },
      "execution_count": null,
      "outputs": [
        {
          "output_type": "stream",
          "name": "stdout",
          "text": [
            "Name: John Doe\n",
            "Age: 20\n",
            "Major: Computer Science\n"
          ]
        }
      ]
    },
    {
      "cell_type": "markdown",
      "source": [
        "In this example:\n",
        "- The list `student_info` contains information about a student.\n",
        "- The elements of the list are unpacked into variables `name`, `age`, and `major` in a single line.\n",
        "\n",
        "Unpacking is a convenient way to assign values from a list to multiple variables, especially when the number of variables matches the number of elements in the list."
      ],
      "metadata": {
        "id": "V0FHRtQmFBGF"
      }
    },
    {
      "cell_type": "markdown",
      "source": [
        "### **Tuple**"
      ],
      "metadata": {
        "id": "9yM53WTm8_K4"
      }
    },
    {
      "cell_type": "markdown",
      "source": [
        "A tuple is created by providing identifiers and data, with each data separated by a comma (`,`). The tuple can be enclosed in parentheses `()` for readability, although it's not mandatory.\n",
        "\n",
        "Key characteristics of tuples:\n",
        "- Immutable: Once a tuple is created, its elements cannot be changed or added.\n",
        "- Ordered: Elements in a tuple maintain the order of insertion.\n",
        "- Allows elements of different data types.\n",
        "- Can be nested, allowing the creation of more complex data structures.\n",
        "\n",
        "Tuples are commonly used when you want to represent a collection of items that should remain constant throughout the program."
      ],
      "metadata": {
        "id": "XY6h15jtP7DQ"
      }
    },
    {
      "cell_type": "markdown",
      "source": [
        "#### **Example**"
      ],
      "metadata": {
        "id": "6bz-Ik5YQIEg"
      }
    },
    {
      "cell_type": "code",
      "source": [
        "# Creating tuples\n",
        "fruits = 'apple', 'orange', 'banana', 'grape'\n",
        "numbers = 5, 10, 15, 20\n",
        "decimal_numbers = (2.5, -1.8, 4.7, 0.3)\n",
        "conditions = (False, True, True, False)\n",
        "\n",
        "# Displaying tuples\n",
        "print(fruits)\n",
        "print(numbers)\n",
        "print(decimal_numbers)\n",
        "print(conditions)"
      ],
      "metadata": {
        "colab": {
          "base_uri": "https://localhost:8080/"
        },
        "id": "69dA6cSpP-X6",
        "outputId": "cf436d32-0a60-4e21-fbf5-3563ba41854c"
      },
      "execution_count": null,
      "outputs": [
        {
          "output_type": "stream",
          "name": "stdout",
          "text": [
            "('apple', 'orange', 'banana', 'grape')\n",
            "(5, 10, 15, 20)\n",
            "(2.5, -1.8, 4.7, 0.3)\n",
            "(False, True, True, False)\n"
          ]
        }
      ]
    },
    {
      "cell_type": "code",
      "source": [
        "# Checking the type of 'fruits'\n",
        "type(fruits)"
      ],
      "metadata": {
        "colab": {
          "base_uri": "https://localhost:8080/"
        },
        "id": "7qmaEyJJQuFN",
        "outputId": "45221df7-25c3-4fe5-d0a4-41785b7566a4"
      },
      "execution_count": null,
      "outputs": [
        {
          "output_type": "execute_result",
          "data": {
            "text/plain": [
              "tuple"
            ]
          },
          "metadata": {},
          "execution_count": 71
        }
      ]
    },
    {
      "cell_type": "markdown",
      "source": [
        "In this example:\n",
        "- `fruits` is a tuple of strings representing different fruits.\n",
        "- `numbers` is a tuple of integers.\n",
        "- `decimal_numbers` is a tuple of floating-point numbers.\n",
        "- `conditions` is a tuple of boolean values.\n",
        "\n",
        "The `type()` function is used to check the type of the `fruits` tuple, confirming that it is indeed a tuple. Tuples can hold a variety of data types and are flexible in their usage."
      ],
      "metadata": {
        "id": "wjMqwztfQZBQ"
      }
    },
    {
      "cell_type": "markdown",
      "source": [
        "#### **Tuple with Heterogeneous Elements and Nested Tuple**"
      ],
      "metadata": {
        "id": "W6SarcxAQ7sp"
      }
    },
    {
      "cell_type": "markdown",
      "source": [
        "Tuples in Python can contain elements of different data types, and they can also include other tuples."
      ],
      "metadata": {
        "id": "FvgpYu5fQ99w"
      }
    },
    {
      "cell_type": "code",
      "source": [
        "# Tuple with heterogeneous elements\n",
        "mixed_tuple = (1, \"two\", 3.0, True)\n",
        "\n",
        "# Nested tuple\n",
        "nested_tuple = ((1, 2), (\"a\", \"b\"))\n",
        "\n",
        "# Displaying tuples\n",
        "print(\"Mixed tuple:\", mixed_tuple)\n",
        "print(\"Nested tuple:\", nested_tuple)"
      ],
      "metadata": {
        "colab": {
          "base_uri": "https://localhost:8080/"
        },
        "id": "KS_1QnseRBi7",
        "outputId": "4ffa5361-fb94-4426-d7f6-2eeed50a0dfc"
      },
      "execution_count": null,
      "outputs": [
        {
          "output_type": "stream",
          "name": "stdout",
          "text": [
            "Mixed tuple: (1, 'two', 3.0, True)\n",
            "Nested tuple: ((1, 2), ('a', 'b'))\n"
          ]
        }
      ]
    },
    {
      "cell_type": "markdown",
      "source": [
        "In this example:\n",
        "- `mixed_tuple` is a tuple that includes elements of different data types (integer, string, float, boolean).\n",
        "- `nested_tuple` is a tuple containing other tuples as its elements.\n",
        "\n",
        "Tuples, with their flexibility, allow for the creation of more complex data structures and can be used to represent a wide range of scenarios in programming."
      ],
      "metadata": {
        "id": "W-n8Ilg5RDdH"
      }
    },
    {
      "cell_type": "markdown",
      "source": [
        "#### **Converting List to Tuple and Vice Versa**"
      ],
      "metadata": {
        "id": "ylHijSKXRM7i"
      }
    },
    {
      "cell_type": "markdown",
      "source": [
        "A list can be converted to a tuple using the `tuple()` function, and similarly, a tuple can be converted to a list using the `list()` function."
      ],
      "metadata": {
        "id": "5z9od7dPRPs2"
      }
    },
    {
      "cell_type": "code",
      "source": [
        "# Converting list to tuple\n",
        "numbers_list = [1, 2, 3, 4, 5]\n",
        "numbers_tuple = tuple(numbers_list)\n",
        "\n",
        "# Converting tuple to list\n",
        "fruits_tuple = ('apple', 'orange', 'banana', 'grape')\n",
        "fruits_list = list(fruits_tuple)\n",
        "\n",
        "# Displaying the results\n",
        "print(\"List to Tuple:\", numbers_tuple)\n",
        "print(\"Tuple to List:\", fruits_list)"
      ],
      "metadata": {
        "colab": {
          "base_uri": "https://localhost:8080/"
        },
        "id": "e-DtqTrORTVp",
        "outputId": "a42007ad-cc87-439e-8f37-cdda348f2cd6"
      },
      "execution_count": null,
      "outputs": [
        {
          "output_type": "stream",
          "name": "stdout",
          "text": [
            "List to Tuple: (1, 2, 3, 4, 5)\n",
            "Tuple to List: ['apple', 'orange', 'banana', 'grape']\n"
          ]
        }
      ]
    },
    {
      "cell_type": "markdown",
      "source": [
        "In this example:\n",
        "- `numbers_list` is a list of integers, and it is converted to a tuple named `numbers_tuple`.\n",
        "- `fruits_tuple` is a tuple of strings, and it is converted to a list named `fruits_list`.\n",
        "\n",
        "These conversions are useful when you need to switch between lists and tuples based on the requirements of your program."
      ],
      "metadata": {
        "id": "wT4kYKHJRVMG"
      }
    },
    {
      "cell_type": "markdown",
      "source": [
        "#### **Tuple Indexing & Slicing**"
      ],
      "metadata": {
        "id": "Ey1o21AYReDv"
      }
    },
    {
      "cell_type": "markdown",
      "source": [
        "**Tuple Indexing & Slicing:**\n",
        "\n",
        "Indexing and slicing in tuples work similarly to lists. Elements in a tuple can be accessed using their index, and slices can be taken to obtain sub-tuples."
      ],
      "metadata": {
        "id": "CDqZo9AdRglU"
      }
    },
    {
      "cell_type": "code",
      "source": [
        "# Tuple for indexing and slicing\n",
        "colors_tuple = (\"red\", \"green\", \"blue\", \"yellow\", \"purple\")\n",
        "\n",
        "# Indexing\n",
        "first_color = colors_tuple[0]\n",
        "last_color = colors_tuple[-1]\n",
        "\n",
        "# Slicing\n",
        "selected_colors = colors_tuple[1:4]  # Elements at index 1, 2, 3\n",
        "\n",
        "# Displaying the results\n",
        "print(\"First color:\", first_color)\n",
        "print(\"Last color:\", last_color)\n",
        "print(\"Selected colors:\", selected_colors)"
      ],
      "metadata": {
        "colab": {
          "base_uri": "https://localhost:8080/"
        },
        "id": "bwt3zA8-RjTx",
        "outputId": "2a26fdf0-c168-47f4-847e-15c9a717cbba"
      },
      "execution_count": null,
      "outputs": [
        {
          "output_type": "stream",
          "name": "stdout",
          "text": [
            "First color: red\n",
            "Last color: purple\n",
            "Selected colors: ('green', 'blue', 'yellow')\n"
          ]
        }
      ]
    },
    {
      "cell_type": "markdown",
      "source": [
        "In this example:\n",
        "- `colors_tuple` is a tuple of strings.\n",
        "- Indexing is used to access the first and last elements of the tuple.\n",
        "- Slicing is used to create a sub-tuple containing elements from index 1 to 3 (inclusive).\n",
        "\n",
        "Just like lists, tuples support indexing and slicing operations, making it easy to retrieve specific elements or create sub-tuples."
      ],
      "metadata": {
        "id": "MchNngMFRlWK"
      }
    },
    {
      "cell_type": "markdown",
      "source": [
        "#### **Tuple Manipulation**"
      ],
      "metadata": {
        "id": "84CpdtvnSClJ"
      }
    },
    {
      "cell_type": "code",
      "source": [
        "# Original tuple\n",
        "colors_tuple = (\"red\", \"green\", \"blue\", \"yellow\", \"purple\")\n",
        "\n",
        "# Attempting to modify an element (not possible, will raise a TypeError)\n",
        "# colors_tuple[1] = \"orange\"  # Uncommenting this line will raise a TypeError\n",
        "\n",
        "# Attempting to add an element (not possible, will raise a TypeError)\n",
        "# colors_tuple += (\"orange\",)  # Uncommenting this line will raise a TypeError\n",
        "\n",
        "# Attempting to delete an element (not possible, will raise a TypeError)\n",
        "# del colors_tuple[2]  # Uncommenting this line will raise a TypeError\n",
        "\n",
        "# Creating a new tuple with modifications\n",
        "modified_colors_tuple = colors_tuple + (\"orange\", \"pink\")\n",
        "\n",
        "# Displaying the results\n",
        "print(\"Original tuple:\", colors_tuple)\n",
        "print(\"Modified tuple:\", modified_colors_tuple)"
      ],
      "metadata": {
        "colab": {
          "base_uri": "https://localhost:8080/"
        },
        "id": "KYnhn1AYSLKc",
        "outputId": "0405c392-afe7-4bb5-ca0d-2c7766330293"
      },
      "execution_count": null,
      "outputs": [
        {
          "output_type": "stream",
          "name": "stdout",
          "text": [
            "Original tuple: ('red', 'green', 'blue', 'yellow', 'purple')\n",
            "Modified tuple: ('red', 'green', 'blue', 'yellow', 'purple', 'orange', 'pink')\n"
          ]
        }
      ]
    },
    {
      "cell_type": "markdown",
      "source": [
        "\n",
        "\n",
        "As demonstrated in the example, attempting to directly modify, add, or delete elements in a tuple will result in a `TypeError` due to the immutability of tuples.\n",
        "\n",
        "However, you can create a new tuple by combining or concatenating existing tuples with the desired modifications. This approach preserves the original tuple while providing the updated version as a new tuple."
      ],
      "metadata": {
        "id": "OKzvP2yeSG4P"
      }
    },
    {
      "cell_type": "markdown",
      "source": [
        "### Set"
      ],
      "metadata": {
        "id": "zTmEiOkeeRNC"
      }
    },
    {
      "cell_type": "markdown",
      "source": [
        "The major advantage of using a set, as opposed to a list, is that it has a highly optimized method for checking whether a specific element is contained in the set. This is based on a data structure known as a hash table. Since sets are unordered, we cannot access items using indexes as we do in lists.\n",
        "* Set are represented by { }\n",
        "* Sets are unordered, so you cannot be sure in which order the items will appear.\n",
        "* Set items are unchangeable, but you can remove items and add new items.\n",
        "* Duplicates Not Allowed\n",
        "\n"
      ],
      "metadata": {
        "id": "CG4LwrNJinEg"
      }
    },
    {
      "cell_type": "code",
      "source": [
        "# Define empty set\n",
        "\n",
        "# Dont do this\n",
        "learning_path = {}\n",
        "print(type(learning_path))\n",
        "\n",
        "learning_path = set()\n",
        "print(type(learning_path))"
      ],
      "metadata": {
        "colab": {
          "base_uri": "https://localhost:8080/"
        },
        "id": "J4tVQqk6V5uw",
        "outputId": "81641a06-d0bb-429d-eb45-e3b36f3330ca"
      },
      "execution_count": null,
      "outputs": [
        {
          "output_type": "stream",
          "name": "stdout",
          "text": [
            "<class 'dict'>\n",
            "<class 'set'>\n"
          ]
        }
      ]
    },
    {
      "cell_type": "code",
      "source": [
        "learning_path = {\"Machine Learning\",\n",
        "                 \"Cloud Computing\",\n",
        "                 \"Mobile Development\"}\n",
        "\n",
        "print(learning_path)\n",
        "\n",
        "# Adding elements\n",
        "learning_path.add(\"Data Scientist\")\n",
        "print(learning_path)"
      ],
      "metadata": {
        "colab": {
          "base_uri": "https://localhost:8080/"
        },
        "id": "yrg52n5aeTR3",
        "outputId": "b23f0ed5-2835-4450-98d5-8ac36622049d"
      },
      "execution_count": null,
      "outputs": [
        {
          "output_type": "stream",
          "name": "stdout",
          "text": [
            "{'Cloud Computing', 'Machine Learning', 'Mobile Development'}\n",
            "{'Cloud Computing', 'Machine Learning', 'Mobile Development', 'Data Scientist'}\n"
          ]
        }
      ]
    },
    {
      "cell_type": "markdown",
      "source": [
        "**Union operation on Python Sets**\n",
        "\n",
        "Two sets can be merged using union() function or | operator. Both Hash Table values are accessed and traversed with merge operation perform on them to combine the elements, at the same time duplicates are removed."
      ],
      "metadata": {
        "id": "rSCRY94wmexj"
      }
    },
    {
      "cell_type": "code",
      "source": [
        "learning_path = {\"Machine Learning\",\n",
        "                 \"Cloud Computing\",\n",
        "                 \"Mobile Development\"}\n",
        "job = {\"DevOps\",\n",
        "        \"Machine Learning\",\n",
        "        \"Fullstack Website\"}\n",
        "\n",
        "skills = learning_path.union(job)\n",
        "\n",
        "print(\"Union using union() function\")\n",
        "print(skills)\n",
        "\n",
        "skills = learning_path|job\n",
        "\n",
        "print(\"\\nUnion using '|' operator\")\n",
        "print(skills)"
      ],
      "metadata": {
        "colab": {
          "base_uri": "https://localhost:8080/"
        },
        "id": "p3TTJyHnmjrU",
        "outputId": "a7ecb517-142a-4a58-f53a-c9682ed5098b"
      },
      "execution_count": null,
      "outputs": [
        {
          "output_type": "stream",
          "name": "stdout",
          "text": [
            "Union using union() function\n",
            "{'Fullstack Website', 'Mobile Development', 'DevOps', 'Cloud Computing', 'Machine Learning'}\n",
            "\n",
            "Union using '|' operator\n",
            "{'Fullstack Website', 'Mobile Development', 'DevOps', 'Cloud Computing', 'Machine Learning'}\n"
          ]
        }
      ]
    },
    {
      "cell_type": "markdown",
      "source": [
        "**Intersection operation on Python Sets**"
      ],
      "metadata": {
        "id": "ayxYNVTfkzg5"
      }
    },
    {
      "cell_type": "code",
      "source": [
        "\n",
        "# Intersection using\n",
        "# intersection() function\n",
        "match_job = learning_path.intersection(job)\n",
        "\n",
        "print(\"Intersection using intersection() function\")\n",
        "print(match_job)\n",
        "\n",
        "# Intersection using\n",
        "# \"&\" operator\n",
        "match_job = learning_path & job\n",
        "\n",
        "print(\"\\nIntersection using '&' operator\")\n",
        "print(match_job)"
      ],
      "metadata": {
        "colab": {
          "base_uri": "https://localhost:8080/"
        },
        "id": "SAVQ5SYhoR7x",
        "outputId": "beeb51c1-cf6e-4fb9-8a06-4ae19992c46d"
      },
      "execution_count": null,
      "outputs": [
        {
          "output_type": "stream",
          "name": "stdout",
          "text": [
            "Intersection using intersection() function\n",
            "{'Machine Learning'}\n",
            "\n",
            "Intersection using '&' operator\n",
            "{'Machine Learning'}\n"
          ]
        }
      ]
    },
    {
      "cell_type": "markdown",
      "source": [
        "**Finding Differences of Sets in Python**"
      ],
      "metadata": {
        "id": "Te8NyhYSozrF"
      }
    },
    {
      "cell_type": "code",
      "source": [
        "# Difference of two sets\n",
        "# using difference() function\n",
        "learning = learning_path.difference(job)\n",
        "\n",
        "print(\" Difference of two sets using difference() function\")\n",
        "print(learning)\n",
        "\n",
        "# Difference of two sets\n",
        "# using '-' operator\n",
        "learning = learning_path - job\n",
        "\n",
        "print(\"\\nDifference of two sets using '-' operator\")\n",
        "print(learning)"
      ],
      "metadata": {
        "colab": {
          "base_uri": "https://localhost:8080/"
        },
        "id": "79M6EeHYo1bS",
        "outputId": "ff19cd3c-5900-4da0-ec9c-0147f80a2902"
      },
      "execution_count": null,
      "outputs": [
        {
          "output_type": "stream",
          "name": "stdout",
          "text": [
            " Difference of two sets using difference() function\n",
            "{'Cloud Computing', 'Mobile Development'}\n",
            "\n",
            "Difference of two sets using '-' operator\n",
            "{'Cloud Computing', 'Mobile Development'}\n"
          ]
        }
      ]
    },
    {
      "cell_type": "markdown",
      "source": [
        "**Clearing Python Sets**"
      ],
      "metadata": {
        "id": "XxjroyFIpFS3"
      }
    },
    {
      "cell_type": "code",
      "source": [
        "print(\"Initial set\")\n",
        "print(learning_path)\n",
        "\n",
        "# This method will remove\n",
        "# all the elements of the set\n",
        "learning_path.clear()\n",
        "\n",
        "print(\"\\nSet after using clear() function\")\n",
        "print(learning_path)"
      ],
      "metadata": {
        "colab": {
          "base_uri": "https://localhost:8080/"
        },
        "id": "qJtI29M_pGkH",
        "outputId": "91ebe921-3f4e-419e-ae00-734216995fd8"
      },
      "execution_count": null,
      "outputs": [
        {
          "output_type": "stream",
          "name": "stdout",
          "text": [
            "Initial set\n",
            "{'Cloud Computing', 'Machine Learning', 'Mobile Development'}\n",
            "\n",
            "Set after using clear() function\n",
            "set()\n"
          ]
        }
      ]
    },
    {
      "cell_type": "markdown",
      "source": [
        "### Dictionary"
      ],
      "metadata": {
        "id": "gnNmFBUX9Cxv"
      }
    },
    {
      "cell_type": "markdown",
      "source": [
        "A dictionary in Python is a collection of key-value pairs, where each key must be unique. Dictionaries are defined using curly braces `{}` and consist of comma-separated key-value pairs.\n",
        "\n",
        "\n",
        "Key Characteristics of Dictionaries:\n",
        "\n",
        "- Unordered: Elements in a dictionary have no specific order.\n",
        "- Mutable: Elements of a dictionary can be added, modified, or removed after the dictionary is created.\n",
        "- Key-Value Pairs: Each element in a dictionary is a key-value pair."
      ],
      "metadata": {
        "id": "x0-37VDMUsiZ"
      }
    },
    {
      "cell_type": "markdown",
      "source": [
        "#### **Example**"
      ],
      "metadata": {
        "id": "aDCEje8DUzw_"
      }
    },
    {
      "cell_type": "code",
      "source": [
        "# Creating a dictionary\n",
        "fruit_prices = {\"apple\": 1.00, \"orange\": 0.80, \"banana\": 0.50}\n",
        "\n",
        "# Displaying the dictionary\n",
        "print(\"Fruit Prices:\", fruit_prices)"
      ],
      "metadata": {
        "colab": {
          "base_uri": "https://localhost:8080/"
        },
        "id": "HNHst3LwUwPx",
        "outputId": "00aaefd5-8fba-4132-e93e-c5b6b6c719fc"
      },
      "execution_count": null,
      "outputs": [
        {
          "output_type": "stream",
          "name": "stdout",
          "text": [
            "Fruit Prices: {'apple': 1.0, 'orange': 0.8, 'banana': 0.5}\n"
          ]
        }
      ]
    },
    {
      "cell_type": "markdown",
      "source": [
        "In this example:\n",
        "- `fruit_prices` is a dictionary with fruit names as keys and their corresponding prices as values.\n"
      ],
      "metadata": {
        "id": "ey4uykpbU5Yi"
      }
    },
    {
      "cell_type": "markdown",
      "source": [
        "#### **Common Dictionary Operations**"
      ],
      "metadata": {
        "id": "xh38sG5CVXJT"
      }
    },
    {
      "cell_type": "markdown",
      "source": [
        "- Accessing values: `dictionary[key]`\n",
        "- Adding a new key-value pair: `dictionary[key] = value`\n",
        "- Modifying a value: `dictionary[key] = new_value`\n",
        "- Removing a key-value pair: `del dictionary[key]`\n",
        "- Checking key existence: `key in dictionary`"
      ],
      "metadata": {
        "id": "WZTHp0WxVZzO"
      }
    },
    {
      "cell_type": "code",
      "source": [
        "# Dictionary operations\n",
        "student_info = {\"name\": \"John\",\n",
        "                \"age\": 20,\n",
        "                \"grade\": \"A\"}"
      ],
      "metadata": {
        "id": "mTHEb-RBVJa2"
      },
      "execution_count": null,
      "outputs": []
    },
    {
      "cell_type": "code",
      "source": [
        "# Accessing values\n",
        "name = student_info[\"name\"]\n",
        "print(\"Name:\", name)"
      ],
      "metadata": {
        "colab": {
          "base_uri": "https://localhost:8080/"
        },
        "id": "_OZVYpHEVudK",
        "outputId": "dc5d5df0-97e9-4a9b-c394-ed5bfde73eb7"
      },
      "execution_count": null,
      "outputs": [
        {
          "output_type": "stream",
          "name": "stdout",
          "text": [
            "Name: John\n"
          ]
        }
      ]
    },
    {
      "cell_type": "code",
      "source": [
        "# Adding a new key-value pair\n",
        "student_info[\"city\"] = \"New York\"\n",
        "print(student_info)"
      ],
      "metadata": {
        "colab": {
          "base_uri": "https://localhost:8080/"
        },
        "id": "aG6JdAqKVwPQ",
        "outputId": "e71aa4f0-d3b6-4a59-80a8-5a3c03b2b2ee"
      },
      "execution_count": null,
      "outputs": [
        {
          "output_type": "stream",
          "name": "stdout",
          "text": [
            "{'name': 'John', 'age': 20, 'grade': 'A', 'city': 'New York'}\n"
          ]
        }
      ]
    },
    {
      "cell_type": "code",
      "source": [
        "# Modifying a value\n",
        "student_info[\"age\"] = 21\n",
        "print(student_info)"
      ],
      "metadata": {
        "colab": {
          "base_uri": "https://localhost:8080/"
        },
        "id": "tPNrmdiXVzf_",
        "outputId": "fca4093d-33ab-48c1-9f12-d3d168fb489b"
      },
      "execution_count": null,
      "outputs": [
        {
          "output_type": "stream",
          "name": "stdout",
          "text": [
            "{'name': 'John', 'age': 21, 'grade': 'A', 'city': 'New York'}\n"
          ]
        }
      ]
    },
    {
      "cell_type": "code",
      "source": [
        "# Removing a key-value pair\n",
        "del student_info[\"grade\"]\n",
        "print(student_info)"
      ],
      "metadata": {
        "colab": {
          "base_uri": "https://localhost:8080/"
        },
        "id": "--2zSTSzV7jB",
        "outputId": "c77cc5c3-d78d-4e66-da12-0ff31a811b19"
      },
      "execution_count": null,
      "outputs": [
        {
          "output_type": "stream",
          "name": "stdout",
          "text": [
            "{'name': 'John', 'age': 21, 'city': 'New York'}\n"
          ]
        }
      ]
    },
    {
      "cell_type": "code",
      "source": [
        "# Checking key existence\n",
        "has_grade = \"grade\" in student_info\n",
        "print(\"Has grade key?\", has_grade)"
      ],
      "metadata": {
        "colab": {
          "base_uri": "https://localhost:8080/"
        },
        "id": "LG4DyCaUV_De",
        "outputId": "671b0d9c-53c8-4d1d-c9b0-20dc91d9202f"
      },
      "execution_count": null,
      "outputs": [
        {
          "output_type": "stream",
          "name": "stdout",
          "text": [
            "Has grade key? False\n"
          ]
        }
      ]
    },
    {
      "cell_type": "code",
      "source": [
        "# Displaying the updated dictionary\n",
        "print(\"Updated Student Info:\", student_info)"
      ],
      "metadata": {
        "colab": {
          "base_uri": "https://localhost:8080/"
        },
        "id": "2ksPev0IWAuL",
        "outputId": "d0a594c6-0038-4ed3-9ca4-8719a0dae57a"
      },
      "execution_count": null,
      "outputs": [
        {
          "output_type": "stream",
          "name": "stdout",
          "text": [
            "Updated Student Info: {'name': 'John', 'age': 21, 'city': 'New York'}\n"
          ]
        }
      ]
    },
    {
      "cell_type": "markdown",
      "source": [
        "In this dictionary operations example:\n",
        "- Accessing values is done using square brackets and the key.\n",
        "- Adding, modifying, and removing key-value pairs are demonstrated.\n",
        "- Checking key existence is done using the `in` operator.\n",
        "\n",
        "Dictionaries are versatile and widely used in Python for storing and manipulating data with a key-based structure."
      ],
      "metadata": {
        "id": "1onHU4oqVPqK"
      }
    },
    {
      "cell_type": "markdown",
      "source": [
        "#### **Dictionary with Homogeneous Data**"
      ],
      "metadata": {
        "id": "38m3hL_0Wqkw"
      }
    },
    {
      "cell_type": "code",
      "source": [
        "# Dictionary with homogeneous data (mixed types)\n",
        "person_info = {\n",
        "    \"name\": \"John Doe\",\n",
        "    \"age\": 30,\n",
        "    \"address\": {\n",
        "        \"street\": \"123 Main St\",\n",
        "        \"city\": \"Anytown\",\n",
        "        \"zipcode\": \"12345\"\n",
        "    },\n",
        "    \"contacts\": {\n",
        "        \"email\": \"john@example.com\",\n",
        "        \"phone\": {\n",
        "            \"home\": \"555-1234\",\n",
        "            \"work\": \"555-5678\"\n",
        "        }\n",
        "    },\n",
        "    \"is_student\": False\n",
        "}\n",
        "\n",
        "# Displaying the complex dictionary with homogeneous data\n",
        "print(\"Person Information:\")\n",
        "print(\"Name:\", person_info[\"name\"])\n",
        "print(\"Age:\", person_info[\"age\"])\n",
        "print(\"Address:\", person_info[\"address\"])\n",
        "print(\"Email:\", person_info[\"contacts\"][\"email\"])\n",
        "print(\"Home Phone:\", person_info[\"contacts\"][\"phone\"][\"home\"])\n",
        "print(\"Is Student?\", person_info[\"is_student\"])\n"
      ],
      "metadata": {
        "colab": {
          "base_uri": "https://localhost:8080/"
        },
        "id": "HVa_ketaWkXw",
        "outputId": "e9a699ae-ee78-44f2-c2a5-29bb8916bab0"
      },
      "execution_count": null,
      "outputs": [
        {
          "output_type": "stream",
          "name": "stdout",
          "text": [
            "Person Information:\n",
            "Name: John Doe\n",
            "Age: 30\n",
            "Address: {'street': '123 Main St', 'city': 'Anytown', 'zipcode': '12345'}\n",
            "Email: john@example.com\n",
            "Home Phone: 555-1234\n",
            "Is Student? False\n"
          ]
        }
      ]
    },
    {
      "cell_type": "markdown",
      "source": [
        "In this example, `person_info` is a dictionary that includes various homogeneous data types. It contains strings, integers, nested dictionaries, and a boolean value. The structure allows for storing information about a person, including their name, age, address, contacts, and student status. The nested structure demonstrates how dictionaries can be used to organize and represent complex data."
      ],
      "metadata": {
        "id": "xnPXpzWjWvOq"
      }
    },
    {
      "cell_type": "markdown",
      "source": [
        "#### **Using keys`()`, values`()`, and items`()` Functions in a Dictionary**"
      ],
      "metadata": {
        "id": "0LtpMSriW-ge"
      }
    },
    {
      "cell_type": "markdown",
      "source": [
        "**Using keys`()`, values`()`, and items`()` Functions in a Dictionary:**\n",
        "\n",
        "To examine data within a dictionary, we can use the functions `keys()`, `values()`, and `items()`.\n",
        "\n",
        "- `keys()`: Used to retrieve all keys in the dictionary.\n",
        "- `values()`: Used to retrieve all values (items) in the dictionary.\n",
        "- `items()`: Used to retrieve all key-value pairs in the dictionary."
      ],
      "metadata": {
        "id": "ThF8E-ugXE_c"
      }
    },
    {
      "cell_type": "code",
      "source": [
        "# Sample dictionary\n",
        "person_info = {\n",
        "    \"name\": \"John Doe\",\n",
        "    \"age\": 30,\n",
        "    \"address\": {\n",
        "        \"street\": \"123 Main St\",\n",
        "        \"city\": \"Anytown\",\n",
        "        \"zipcode\": \"12345\"\n",
        "    },\n",
        "    \"contacts\": {\n",
        "        \"email\": \"john@example.com\",\n",
        "        \"phone\": {\n",
        "            \"home\": \"555-1234\",\n",
        "            \"work\": \"555-5678\"\n",
        "        }\n",
        "    },\n",
        "    \"is_student\": False\n",
        "}"
      ],
      "metadata": {
        "id": "45BOXXKdXHdi"
      },
      "execution_count": null,
      "outputs": []
    },
    {
      "cell_type": "code",
      "source": [
        "# Using keys() to get all keys\n",
        "keys_list = person_info.keys()\n",
        "print(\"Keys:\", keys_list)"
      ],
      "metadata": {
        "colab": {
          "base_uri": "https://localhost:8080/"
        },
        "id": "Q_jWefL0XOFI",
        "outputId": "7815759a-5c6d-4cf5-aa46-5b902974be53"
      },
      "execution_count": null,
      "outputs": [
        {
          "output_type": "stream",
          "name": "stdout",
          "text": [
            "Keys: dict_keys(['name', 'age', 'address', 'contacts', 'is_student'])\n"
          ]
        }
      ]
    },
    {
      "cell_type": "code",
      "source": [
        "# Using values() to get all values\n",
        "values_list = person_info.values()\n",
        "print(\"Values:\", values_list)"
      ],
      "metadata": {
        "colab": {
          "base_uri": "https://localhost:8080/"
        },
        "id": "K9i0TBMVXPZA",
        "outputId": "2492a7bd-9064-4e61-886f-e094c0625f48"
      },
      "execution_count": null,
      "outputs": [
        {
          "output_type": "stream",
          "name": "stdout",
          "text": [
            "Values: dict_values(['John Doe', 30, {'street': '123 Main St', 'city': 'Anytown', 'zipcode': '12345'}, {'email': 'john@example.com', 'phone': {'home': '555-1234', 'work': '555-5678'}}, False])\n"
          ]
        }
      ]
    },
    {
      "cell_type": "code",
      "source": [
        "# Using items() to get all key-value pairs\n",
        "items_list = person_info.items()\n",
        "print(\"Items:\", items_list)"
      ],
      "metadata": {
        "colab": {
          "base_uri": "https://localhost:8080/"
        },
        "id": "7vnV0xdOXQpv",
        "outputId": "cf95820a-f120-4d73-f8b8-f6ae42778d3c"
      },
      "execution_count": null,
      "outputs": [
        {
          "output_type": "stream",
          "name": "stdout",
          "text": [
            "Items: dict_items([('name', 'John Doe'), ('age', 30), ('address', {'street': '123 Main St', 'city': 'Anytown', 'zipcode': '12345'}), ('contacts', {'email': 'john@example.com', 'phone': {'home': '555-1234', 'work': '555-5678'}}), ('is_student', False)])\n"
          ]
        }
      ]
    },
    {
      "cell_type": "markdown",
      "source": [
        "In this example, `keys_list` will contain all keys in the dictionary, `values_list` will contain all values, and `items_list` will contain all key-value pairs in the dictionary. Using these functions is useful to easily inspect the structure and content of a dictionary."
      ],
      "metadata": {
        "id": "21nxPrg4XLnW"
      }
    },
    {
      "cell_type": "markdown",
      "source": [
        "#### **Accessing Dictionary Values**"
      ],
      "metadata": {
        "id": "rnpdbxHmXeeS"
      }
    },
    {
      "cell_type": "markdown",
      "source": [
        "The `in` and `not in` operators can be used to check whether a specific key or value exists in a dictionary or not."
      ],
      "metadata": {
        "id": "bGfF_MYWXj8S"
      }
    },
    {
      "cell_type": "code",
      "source": [
        "# Sample dictionary\n",
        "fruit_prices = {\"apple\": 1.00, \"orange\": 0.80, \"banana\": 0.50, \"kiwi\": 1.20}"
      ],
      "metadata": {
        "id": "N6mvRxgUXmMG"
      },
      "execution_count": null,
      "outputs": []
    },
    {
      "cell_type": "code",
      "source": [
        "# Using in to check if a key exists\n",
        "has_banana = \"banana\" in fruit_prices\n",
        "print(\"Has Banana Key?\", has_banana)"
      ],
      "metadata": {
        "colab": {
          "base_uri": "https://localhost:8080/"
        },
        "id": "hSDbEutcXtMe",
        "outputId": "6d6f289f-bd5a-4034-b324-e9bad1f35fef"
      },
      "execution_count": null,
      "outputs": [
        {
          "output_type": "stream",
          "name": "stdout",
          "text": [
            "Has Banana Key? True\n"
          ]
        }
      ]
    },
    {
      "cell_type": "code",
      "source": [
        "# Using not in to check if a key doesn't exist\n",
        "has_grape = \"grape\" not in fruit_prices\n",
        "print(\"Has Grape Key?\", has_grape)"
      ],
      "metadata": {
        "colab": {
          "base_uri": "https://localhost:8080/"
        },
        "id": "rldHAVHdXuxl",
        "outputId": "ffe99e6d-bc58-42c0-9da7-1c95dc0feaf5"
      },
      "execution_count": null,
      "outputs": [
        {
          "output_type": "stream",
          "name": "stdout",
          "text": [
            "Has Grape Key? True\n"
          ]
        }
      ]
    },
    {
      "cell_type": "code",
      "source": [
        "# Using in to check if a value exists\n",
        "has_price_80 = 0.80 in fruit_prices.values()\n",
        "print(\"Has Price 0.80?\", has_price_80)"
      ],
      "metadata": {
        "colab": {
          "base_uri": "https://localhost:8080/"
        },
        "id": "JFO1m-QaXwHs",
        "outputId": "396288f8-8658-446a-ecce-03d29074e143"
      },
      "execution_count": null,
      "outputs": [
        {
          "output_type": "stream",
          "name": "stdout",
          "text": [
            "Has Price 0.80? True\n"
          ]
        }
      ]
    },
    {
      "cell_type": "code",
      "source": [
        "# Using not in to check if a value doesn't exist\n",
        "has_price_1 = 1.00 not in fruit_prices.values()\n",
        "print(\"Has Price 1.00?\", has_price_1)"
      ],
      "metadata": {
        "colab": {
          "base_uri": "https://localhost:8080/"
        },
        "id": "4imLzLLeXxYc",
        "outputId": "d3a5c282-9a4e-43c7-d4ca-3d0ca523152a"
      },
      "execution_count": null,
      "outputs": [
        {
          "output_type": "stream",
          "name": "stdout",
          "text": [
            "Has Price 1.00? False\n"
          ]
        }
      ]
    },
    {
      "cell_type": "markdown",
      "source": [
        "In this example:\n",
        "- `has_banana` checks whether the key \"banana\" exists in the dictionary.\n",
        "- `has_grape` checks whether the key \"grape\" does not exist in the dictionary.\n",
        "- `has_price_80` checks whether the value 0.80 exists in the dictionary values.\n",
        "- `has_price_1` checks whether the value 1.00 does not exist in the dictionary values.\n",
        "\n",
        "These operators are useful for conditional checks when working with dictionaries to ensure that keys or values are present or absent as needed."
      ],
      "metadata": {
        "id": "G772BqBqXo6e"
      }
    },
    {
      "cell_type": "markdown",
      "source": [
        "#### **Accessing Dictionary Values by Key**"
      ],
      "metadata": {
        "id": "cx_GS_ZKX5uf"
      }
    },
    {
      "cell_type": "markdown",
      "source": [
        "\n",
        "Similar to lists, accessing values (items) in a dictionary can be done using an index. However, dictionaries use keys as indices.\n",
        "\n",
        "To access a value in a dictionary, simply mention the key within square brackets `[]`."
      ],
      "metadata": {
        "id": "n7fMSX60X8Ce"
      }
    },
    {
      "cell_type": "code",
      "source": [
        "# Sample dictionary\n",
        "fruit_prices = {\"apple\": 1.00, \"orange\": 0.80, \"banana\": 0.50, \"kiwi\": 1.20}"
      ],
      "metadata": {
        "id": "OMMZ8iZfYJgC"
      },
      "execution_count": null,
      "outputs": []
    },
    {
      "cell_type": "code",
      "source": [
        "# Accessing values by key\n",
        "apple_price = fruit_prices[\"apple\"]\n",
        "banana_price = fruit_prices[\"banana\"]"
      ],
      "metadata": {
        "id": "OBB6FxQaX_Hi"
      },
      "execution_count": null,
      "outputs": []
    },
    {
      "cell_type": "code",
      "source": [
        "# Displaying the accessed values\n",
        "print(\"Price of Apple:\", apple_price)\n",
        "print(\"Price of Banana:\", banana_price)"
      ],
      "metadata": {
        "colab": {
          "base_uri": "https://localhost:8080/"
        },
        "id": "ilPkUVr0YH2J",
        "outputId": "aaeea399-1239-4a2c-b9d2-8c5933eed65b"
      },
      "execution_count": null,
      "outputs": [
        {
          "output_type": "stream",
          "name": "stdout",
          "text": [
            "Price of Apple: 1.0\n",
            "Price of Banana: 0.5\n"
          ]
        }
      ]
    },
    {
      "cell_type": "markdown",
      "source": [
        "In this example:\n",
        "- `apple_price` is obtained by accessing the value associated with the key \"apple\".\n",
        "- `banana_price` is obtained by accessing the value associated with the key \"banana\".\n",
        "- The accessed values are then displayed.\n",
        "\n",
        "Using keys for indexing allows for efficient and direct access to values in a dictionary."
      ],
      "metadata": {
        "id": "jMi58vkcYB1K"
      }
    },
    {
      "cell_type": "markdown",
      "source": [
        "#### **Manipulating Data in a Dictionary**"
      ],
      "metadata": {
        "id": "Q9mktYA0Zrw8"
      }
    },
    {
      "cell_type": "markdown",
      "source": [
        "Data in a dictionary can be added by providing new key-value pairs to the dictionary.\n",
        "\n",
        "There are three methods that can be used to remove specific data from the dictionary:\n",
        "\n",
        "1. **`del`**: Used to delete an element based on the key.\n",
        "2. **`pop()`**: Used to delete an element based on the key and returns the deleted value.\n",
        "3. **`clear()`**: Used to delete all elements in the dictionary."
      ],
      "metadata": {
        "id": "ErRj0NjaZvwC"
      }
    },
    {
      "cell_type": "code",
      "source": [
        "# Sample dictionary\n",
        "student_info = {\"name\": \"Alice\", \"age\": 25, \"grade\": \"B\", \"is_student\": True}"
      ],
      "metadata": {
        "id": "YpYbvOGbZyQm"
      },
      "execution_count": null,
      "outputs": []
    },
    {
      "cell_type": "code",
      "source": [
        "# Adding a new key-value pair\n",
        "student_info[\"city\"] = \"Wonderland\"\n",
        "print(student_info)"
      ],
      "metadata": {
        "colab": {
          "base_uri": "https://localhost:8080/"
        },
        "id": "MWxTFpGGZ3rz",
        "outputId": "ac90461e-9c91-47a9-802f-0dc92e7fc1df"
      },
      "execution_count": null,
      "outputs": [
        {
          "output_type": "stream",
          "name": "stdout",
          "text": [
            "{'name': 'Alice', 'age': 25, 'grade': 'B', 'is_student': True, 'city': 'Wonderland'}\n"
          ]
        }
      ]
    },
    {
      "cell_type": "code",
      "source": [
        "# Deleting an element using del\n",
        "del student_info[\"grade\"]\n",
        "print(\"After Deletion (del):\", student_info)"
      ],
      "metadata": {
        "colab": {
          "base_uri": "https://localhost:8080/"
        },
        "id": "jW7CwypJZ_tY",
        "outputId": "45c5edba-33c5-48be-ab42-0fd88c6a0c6c"
      },
      "execution_count": null,
      "outputs": [
        {
          "output_type": "stream",
          "name": "stdout",
          "text": [
            "After Deletion (del): {'name': 'Alice', 'age': 25, 'is_student': True, 'city': 'Wonderland'}\n"
          ]
        }
      ]
    },
    {
      "cell_type": "code",
      "source": [
        "# Deleting and returning a value using pop()\n",
        "removed_age = student_info.pop(\"age\")\n",
        "print(\"Removed Age (pop()):\", removed_age)\n",
        "print(\"After Deletion (pop()):\", student_info)"
      ],
      "metadata": {
        "colab": {
          "base_uri": "https://localhost:8080/"
        },
        "id": "I5pOJJdBaBDV",
        "outputId": "57b4663b-d4d8-4be3-9b94-a5de9b682fca"
      },
      "execution_count": null,
      "outputs": [
        {
          "output_type": "stream",
          "name": "stdout",
          "text": [
            "Removed Age (pop()): 25\n",
            "After Deletion (pop()): {'name': 'Alice', 'is_student': True, 'city': 'Wonderland'}\n"
          ]
        }
      ]
    },
    {
      "cell_type": "code",
      "source": [
        "# Clearing all elements using clear()\n",
        "student_info.clear()\n",
        "print(\"After Clearing (clear()):\", student_info)"
      ],
      "metadata": {
        "colab": {
          "base_uri": "https://localhost:8080/"
        },
        "id": "yCWiEndqaCaT",
        "outputId": "b0eba26a-70e7-4372-d5c9-8134a6ad2267"
      },
      "execution_count": null,
      "outputs": [
        {
          "output_type": "stream",
          "name": "stdout",
          "text": [
            "After Clearing (clear()): {}\n"
          ]
        }
      ]
    },
    {
      "cell_type": "markdown",
      "source": [
        "In this example:\n",
        "- New data is added by providing a new key-value pair.\n",
        "- The `del` method is used to delete an element based on the key.\n",
        "- The `pop()` method is used to delete an element based on the key and return the deleted value.\n",
        "- The `clear()` method is used to delete all elements in the dictionary.\n",
        "\n",
        "Using these methods provides flexibility in managing data within a dictionary."
      ],
      "metadata": {
        "id": "79ux0qNwZ0MP"
      }
    },
    {
      "cell_type": "markdown",
      "source": [
        "## [Bonus] Regular Expressions (Regex)\n",
        "\n",
        "A regular expression, also known as regex or regexp, is essentially a search query for text that’s expressed by string pattern.\n",
        "\n",
        "There are multiple different ways through which we can apply regular expressions, a whole wide range of programming languages, includes Python. Also command line tools that know how to apply regexes, like grep, sed or awk. The implementation may vary, but the principles remain the same.\n",
        "\n"
      ],
      "metadata": {
        "id": "Ix5rz1cgr-gu"
      }
    },
    {
      "cell_type": "markdown",
      "source": [
        "* Regular expressions in Python uses raw string (r\"\"). It means that interpreter shouldn't try to interpret any special characters. Just pass the string to the function as is.\n",
        "* The Match object includes information like position in the string that matched and the actual matching string.\n",
        "\n",
        "\n"
      ],
      "metadata": {
        "id": "6zcosPuwsM79"
      }
    },
    {
      "cell_type": "code",
      "source": [
        "import re\n",
        "\n",
        "\n",
        "result = re.search(r\"aza\", \"plaza\")\n",
        "print(result)\n",
        "# <re.Match object; span=(2, 5), match='aza'>\n",
        "print(re.search(r\"aza\", \"maze\"))\n",
        "# None"
      ],
      "metadata": {
        "colab": {
          "base_uri": "https://localhost:8080/"
        },
        "id": "nOAHvuvvuV5R",
        "outputId": "5ebc3254-b202-4621-e05b-904a00f88f2f"
      },
      "execution_count": null,
      "outputs": [
        {
          "output_type": "stream",
          "name": "stdout",
          "text": [
            "<re.Match object; span=(2, 5), match='aza'>\n",
            "None\n"
          ]
        }
      ]
    },
    {
      "cell_type": "markdown",
      "source": [
        "* Circumflex (^) pattern matches the beginning of the line. Dot (.) matches any character. Option re.IGNORECASE to match insensitive case."
      ],
      "metadata": {
        "id": "3aL1F5a7uZDL"
      }
    },
    {
      "cell_type": "code",
      "source": [
        "print(re.search(r\"^x\", \"xenon\"))\n",
        "# <re.Match object; span=(0, 1), match='x'>\n",
        "\n",
        "print(re.search(r\"p.ng\", \"sponge\"))\n",
        "# <re.Match object; span=(1, 5), match='pong'>\n"
      ],
      "metadata": {
        "colab": {
          "base_uri": "https://localhost:8080/"
        },
        "id": "CJn7iAFpsLjh",
        "outputId": "d23841ae-0e5b-4579-b7e3-9102aa9e6d4a"
      },
      "execution_count": null,
      "outputs": [
        {
          "output_type": "stream",
          "name": "stdout",
          "text": [
            "<re.Match object; span=(0, 1), match='x'>\n",
            "<re.Match object; span=(1, 5), match='pong'>\n"
          ]
        }
      ]
    },
    {
      "cell_type": "markdown",
      "source": [
        "* To matched a range of characters, use another feature of regexes called character classes ([ ]).\n"
      ],
      "metadata": {
        "id": "mhL2gjujxQ17"
      }
    },
    {
      "cell_type": "code",
      "source": [
        "print(re.search(r\"cloud[a-zA-Z0-9]\", \"cloud9\"))\n",
        "# <re.Match object; span=(0, 6), match='cloud9'>\n",
        "\n",
        "print(re.search(r\"[^a-zA-Z]\", \"This is a sentence.\"))\n",
        "# <re.Match object; span=(4, 5), match=' '>"
      ],
      "metadata": {
        "colab": {
          "base_uri": "https://localhost:8080/"
        },
        "id": "Wpfo9E3aq-PI",
        "outputId": "5e5e79f1-2dc6-40ba-e444-6fdfcb72799c"
      },
      "execution_count": null,
      "outputs": [
        {
          "output_type": "stream",
          "name": "stdout",
          "text": [
            "<re.Match object; span=(0, 6), match='cloud9'>\n",
            "<re.Match object; span=(4, 5), match=' '>\n"
          ]
        }
      ]
    },
    {
      "cell_type": "markdown",
      "source": [
        "* Use the pipe symbol (|) to match one expression or another."
      ],
      "metadata": {
        "id": "7krjV5equfvW"
      }
    },
    {
      "cell_type": "code",
      "source": [
        "print(re.search(r\"cat|dog\", \"I like cats.\"))\n",
        "# <re.Match object; span=(7, 10), match='cat'>"
      ],
      "metadata": {
        "colab": {
          "base_uri": "https://localhost:8080/"
        },
        "id": "LNkO7WZZukUH",
        "outputId": "ae727929-dc7c-422e-cb74-150b5366f628"
      },
      "execution_count": null,
      "outputs": [
        {
          "output_type": "stream",
          "name": "stdout",
          "text": [
            "<re.Match object; span=(7, 10), match='cat'>\n"
          ]
        }
      ]
    },
    {
      "cell_type": "markdown",
      "source": [
        "* Dollar sign ($) pattern match the end of the line."
      ],
      "metadata": {
        "id": "eg7gKGMPuioi"
      }
    },
    {
      "cell_type": "code",
      "source": [
        "print(re.search(r\"cat$\", \"I like cats.\"))\n",
        "# None"
      ],
      "metadata": {
        "colab": {
          "base_uri": "https://localhost:8080/"
        },
        "id": "STqJHazoun1y",
        "outputId": "c66dbdb4-831b-4861-9bf5-49a42f3fe9f6"
      },
      "execution_count": null,
      "outputs": [
        {
          "output_type": "stream",
          "name": "stdout",
          "text": [
            "None\n"
          ]
        }
      ]
    },
    {
      "cell_type": "markdown",
      "source": [
        "Repeated matches is another regex concept.\n",
        "* The star (*) takes as many character as possible.\n"
      ],
      "metadata": {
        "id": "i9_mHgy6xh9d"
      }
    },
    {
      "cell_type": "code",
      "source": [
        "print(re.search(r\"Py[a-z]*n\", \"Python Programming\"))\n",
        "# <re.Match object; span=(0, 6), match='Python'>"
      ],
      "metadata": {
        "colab": {
          "base_uri": "https://localhost:8080/"
        },
        "id": "7Hwpl2DNxhSK",
        "outputId": "0e773338-c62c-4ccc-f6c3-096e1f076cc7"
      },
      "execution_count": null,
      "outputs": [
        {
          "output_type": "stream",
          "name": "stdout",
          "text": [
            "<re.Match object; span=(0, 6), match='Python'>\n"
          ]
        }
      ]
    },
    {
      "cell_type": "markdown",
      "source": [
        "* The plus (+) character matches one or more occurrences of the character before it."
      ],
      "metadata": {
        "id": "TxqJPlQ7uyxy"
      }
    },
    {
      "cell_type": "code",
      "source": [
        "print(re.search(r\"o+l+\", \"woolly\"))\n",
        "# <re.Match object; span=(1, 5), match='ooll'>"
      ],
      "metadata": {
        "colab": {
          "base_uri": "https://localhost:8080/"
        },
        "id": "mD9smJvCu3Kx",
        "outputId": "d8092f88-5ba2-40a4-bb1a-028fc4efd89d"
      },
      "execution_count": null,
      "outputs": [
        {
          "output_type": "stream",
          "name": "stdout",
          "text": [
            "<re.Match object; span=(1, 5), match='ooll'>\n"
          ]
        }
      ]
    },
    {
      "cell_type": "markdown",
      "source": [
        "* The question (?) mark symbol means either zero or one occurrence of the character before it."
      ],
      "metadata": {
        "id": "nf41x191u1jI"
      }
    },
    {
      "cell_type": "code",
      "source": [
        "print(re.search(r\"p?each\", \"I like peaches\"))\n",
        "# <re.Match object; span=(7, 12), match='peach'>"
      ],
      "metadata": {
        "colab": {
          "base_uri": "https://localhost:8080/"
        },
        "id": "y5yJ1T9xu6cH",
        "outputId": "6aed80cd-feb8-429b-ad48-67be5a92e1b6"
      },
      "execution_count": null,
      "outputs": [
        {
          "output_type": "stream",
          "name": "stdout",
          "text": [
            "<re.Match object; span=(7, 12), match='peach'>\n"
          ]
        }
      ]
    }
  ]
}